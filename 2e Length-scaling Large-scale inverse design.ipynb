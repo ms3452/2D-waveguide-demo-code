{
 "cells": [
  {
   "cell_type": "code",
   "execution_count": 4,
   "id": "110a33c1-66e0-4af5-8c2c-daf7f1cf9a1d",
   "metadata": {
    "execution": {
     "iopub.execute_input": "2025-05-15T04:54:25.370905Z",
     "iopub.status.busy": "2025-05-15T04:54:25.370905Z",
     "iopub.status.idle": "2025-05-15T04:54:25.373738Z",
     "shell.execute_reply": "2025-05-15T04:54:25.373738Z",
     "shell.execute_reply.started": "2025-05-15T04:54:25.370905Z"
    }
   },
   "outputs": [],
   "source": [
    "from mpl_rcParams import * #Upload the usual settings that we use for publication grade figures!\n",
    "\n",
    "import numpy as np\n",
    "import matplotlib.pyplot as plt\n",
    "from scipy.stats import unitary_group\n",
    "\n",
    "from scaling_lib.misc_utils import custom_mkdir, timestring\n",
    "from scaling_lib.mode_solver import solve_modes\n",
    "from scaling_lib.simulation_tdwg_repo import WaveguideSimulationWithBackground\n",
    "from scaling_lib.deltaN import U2A\n",
    "from scaling_lib.misc_helpers import add_absorbing_boundary, smoothen_waveguide\n",
    "from scaling_lib.sweeps import sweep_product\n",
    "from scaling_lib.ftutils_torch import fft_centered_ortho, ft_f_axis, ifft_centered_ortho\n",
    "import scaling_lib.pnn_utils as pnn_utils \n",
    "import scaling_lib.ftutils_np as ftutils\n",
    "\n",
    "import torch\n",
    "import torch.fft as fft\n",
    "from fft_conv_pytorch import fft_conv, FFTConv2d\n",
    "import copy\n",
    "\n",
    "import torch.nn as nn\n",
    "import torch.optim as optim"
   ]
  },
  {
   "cell_type": "code",
   "execution_count": 5,
   "id": "3029d5ce-779c-4f38-8f5e-c5e9d280f7b4",
   "metadata": {
    "execution": {
     "iopub.execute_input": "2025-05-15T04:54:27.440420Z",
     "iopub.status.busy": "2025-05-15T04:54:27.440420Z",
     "iopub.status.idle": "2025-05-15T04:54:27.448861Z",
     "shell.execute_reply": "2025-05-15T04:54:27.448861Z",
     "shell.execute_reply.started": "2025-05-15T04:54:27.440420Z"
    }
   },
   "outputs": [],
   "source": [
    "class TDwgNet(nn.Module):\n",
    "    def __init__(self, wg, delta_n_val, background_dn, Evecs, betas, dx, d_wg, k_cprog, device):\n",
    "        super(TDwgNet, self).__init__()\n",
    "\n",
    "        self.d_wg = d_wg\n",
    "        Nx_wg = wg.x2ind(d_wg/2) - wg.x2ind(-d_wg/2)\n",
    "        mod = torch.zeros([wg.Nz, Nx_wg], requires_grad=True, dtype=torch.float32).to(device)\n",
    "        self.mod = pnn_utils.Parameter(mod, limits=[-0.45, 0.45]) \n",
    "        self.background_dn = background_dn.to(device)\n",
    "        self.delta_n_val = delta_n_val\n",
    "        self.input_beams = torch.from_numpy(Evecs).to(dtype=torch.complex128).to(device)\n",
    "        self.output_modes = torch.from_numpy(Evecs).to(dtype=torch.complex128).to(device)*dx\n",
    "        self.wg = wg\n",
    "        self.betas = torch.tensor(betas, dtype=torch.float32).to(device)\n",
    "        self.k_cprog = k_cprog\n",
    "        self.device = device\n",
    "\n",
    "    def forward(self, indices = None, fast_flag=True, ind=0):\n",
    "        self.wg.set_background_delta_n(self.background_dn)\n",
    "        \n",
    "        delta_n = torch.zeros([self.wg.Nz, self.wg.Nx], device = self.device)\n",
    "        mod = self.mod\n",
    "        mod = mod.clip(-0.5, 0.5)\n",
    "        delta_n[:, self.wg.x2ind(-self.d_wg/2):self.wg.x2ind(self.d_wg/2)] = mod\n",
    "        delta_n = self.delta_n_val*self.smoothen(delta_n)\n",
    "        \n",
    "        if fast_flag:\n",
    "            output_beams = self.wg.run_simulation(self.input_beams[indices], delta_n)\n",
    "        else:\n",
    "            output_beams = self.wg.run_simulation_slow(self.input_beams[ind, :])\n",
    "        \n",
    "        a_out = output_beams@self.output_modes.T\n",
    "        U = (a_out.T*torch.exp(-1j*self.betas[indices]*self.wg.Lz)).T\n",
    "        return U\n",
    "        \n",
    "    def smoothen(self, mod):\n",
    "        # self.mod: (Nz, Nx)\n",
    "        Nz, Nx = mod.shape\n",
    "        dz = self.wg.z_axis[1] - self.wg.z_axis[0]\n",
    "        dx = self.wg.x_axis[1] - self.wg.x_axis[0]\n",
    "    \n",
    "        # Frequency axes\n",
    "        kz = torch.fft.fftfreq(Nz, d=dz).to(self.device) * 2 * torch.pi  # angular frequency\n",
    "        kx = torch.fft.fftfreq(Nx, d=dx).to(self.device) * 2 * torch.pi\n",
    "    \n",
    "        # Create 2D meshgrid for frequencies\n",
    "        Kz, Kx = torch.meshgrid(kz, kx, indexing='ij')\n",
    "    \n",
    "        # Construct Gaussian filter: exp(- (k^2 / self.k_cprog^2))\n",
    "        gaussian_filter = torch.exp(-((Kz**2 + Kx**2) / (self.k_cprog**2)))\n",
    "    \n",
    "        # FFT of the mod parameter\n",
    "        mod_fft = torch.fft.fft2(mod)\n",
    "    \n",
    "        # Apply the filter\n",
    "        mod_fft_filtered = mod_fft * gaussian_filter\n",
    "    \n",
    "        # Inverse FFT to get back to spatial domain\n",
    "        mod_filtered = torch.fft.ifft2(mod_fft_filtered).real\n",
    "    \n",
    "        return mod_filtered\n",
    "    \n",
    "def L2(p, q):\n",
    "    x = torch.abs(p-q)**2\n",
    "    return x.sum(dim = -1).mean()/2\n",
    "\n",
    "def run_training_loop(tdwg_pnn, U_target, iterations, lr, batch_size, device, gamma=0.99, print_interval=1):\n",
    "    optimizer = optim.Adam(tdwg_pnn.parameters(), lr=lr)\n",
    "    scheduler = optim.lr_scheduler.ExponentialLR(optimizer, gamma=gamma)\n",
    "    U_target = U_target.to(device)\n",
    "    loss_list = []\n",
    "    \n",
    "    n = len(tdwg_pnn.input_beams)  # length of the original vector\n",
    "    indices = np.arange(n)\n",
    "    batch_indices = np.array_split(indices, np.ceil(n / batch_size))  # Split into subvectors\n",
    "\n",
    "    tdwg_pnn.train()\n",
    "    for i in range(iterations):\n",
    "        optimizer.zero_grad()\n",
    "\n",
    "        for indices in batch_indices:\n",
    "            U_num = tdwg_pnn.forward(indices)\n",
    "            l_objective = L2(U_target[indices], U_num)\n",
    "    \n",
    "            l_lagrange = pnn_utils.lagrangian(tdwg_pnn, lag_amp = 1, factor = 20)\n",
    "            l = l_objective + l_lagrange \n",
    "            # l = l_objective\n",
    "            l.backward()\n",
    "            \n",
    "        optimizer.step()\n",
    "        scheduler.step()\n",
    "        loss_list.append(l.detach().cpu().data)\n",
    "\n",
    "        if i % print_interval == 0:\n",
    "            print(timestring() + f\"--Iteration: {i}, Loss: {l.detach().cpu().data:.5f}\")\n",
    "            # get_cpu_memory_usage(threshold_gb = 0.01)\n",
    "            # get_gpu_memory_usage(threshold_gb = 0.01)\n",
    "        if has_converged(loss_list):\n",
    "            print(timestring() + f\"Converged at iteration: {i}, Loss: {l.detach().cpu().data:.5f}\")\n",
    "            break\n",
    "    return loss_list\n",
    "\n",
    "\n",
    "def has_converged(loss_list, window=5, std_threshold=0.005):\n",
    "    \"\"\"\n",
    "    Check if training has converged based on the standard deviation of recent loss values.\n",
    "\n",
    "    Args:\n",
    "        loss_list (list): List of loss values per epoch.\n",
    "        window (int): Number of recent epochs to consider.\n",
    "        std_threshold (float): Maximum acceptable standard deviation.\n",
    "\n",
    "    Returns:\n",
    "        bool: True if loss has converged, False otherwise.\n",
    "    \"\"\"\n",
    "    if len(loss_list) < window:\n",
    "        return False  # Not enough data\n",
    "\n",
    "    recent_losses = loss_list[-window:]\n",
    "    std_dev = np.std(recent_losses)\n",
    "    mean = np.mean(recent_losses)\n",
    "    std_dev_rel = std_dev / mean\n",
    "\n",
    "    return std_dev_rel < std_threshold  # Converged if std deviation is very small"
   ]
  },
  {
   "cell_type": "code",
   "execution_count": 6,
   "id": "7e9086cc-2252-487c-b345-64da9295c647",
   "metadata": {
    "execution": {
     "iopub.execute_input": "2025-05-15T04:54:28.175873Z",
     "iopub.status.busy": "2025-05-15T04:54:28.175873Z",
     "iopub.status.idle": "2025-05-15T04:54:28.178928Z",
     "shell.execute_reply": "2025-05-15T04:54:28.178928Z",
     "shell.execute_reply.started": "2025-05-15T04:54:28.175873Z"
    }
   },
   "outputs": [],
   "source": [
    "def permutation_matrix(permutation):\n",
    "  \"\"\"\n",
    "  Generates a permutation matrix from a given permutation.\n",
    "\n",
    "  Args:\n",
    "    permutation: A list or numpy array representing the permutation.\n",
    "\n",
    "  Returns:\n",
    "    A numpy array representing the permutation matrix.\n",
    "  \"\"\"\n",
    "  n = len(permutation)\n",
    "  matrix = np.zeros((n, n), dtype=int)\n",
    "  for i, j in enumerate(permutation):\n",
    "    matrix[i, j] = 1\n",
    "  return matrix"
   ]
  },
  {
   "cell_type": "code",
   "execution_count": 7,
   "id": "23987df7-d20a-413d-8022-d91520bf8a49",
   "metadata": {
    "execution": {
     "iopub.execute_input": "2025-05-15T04:54:28.559927Z",
     "iopub.status.busy": "2025-05-15T04:54:28.559927Z",
     "iopub.status.idle": "2025-05-15T04:54:28.567948Z",
     "shell.execute_reply": "2025-05-15T04:54:28.567948Z",
     "shell.execute_reply.started": "2025-05-15T04:54:28.559927Z"
    }
   },
   "outputs": [],
   "source": [
    "def avg_error_invdes(seed, fresnel, k_cprog, Nmodes, Lz, unitary_type = 'haar', waveguide_type = 'SI', device = 'cuda:0'):\n",
    "    iterations = 200\n",
    "    lr = 0.5e-1\n",
    "    batch_size = 10\n",
    "    \n",
    "    ### Set up waveguide ###\n",
    "    λ0 = 1.55 #um\n",
    "    ncore = 1.8\n",
    "    nclad = 1.7 #a very shallow partial etch that gives 0.05 deltaN - which I think is about a 100nm partial etch, which can be done decently accurately...\n",
    "    dx = 0.2\n",
    "    delta_n_val = 5e-3\n",
    "    \n",
    "    Nz = int(np.floor(Lz/dz))\n",
    "    dn_wg = ncore-nclad\n",
    "    k0 = 2*np.pi/λ0\n",
    "    ### Set up index distribution ###\n",
    "    if waveguide_type == 'SI': d_wg = 1.5*Nmodes #3 #so that it is less than the 2 mode cut-off\n",
    "    if waveguide_type == 'GRIN': d_wg = 2*Nmodes #3 #so that it is less than the 2 mode cut-off\n",
    "    Lx = d_wg + 40 \n",
    "    Nx = int(Lx/dx/2)*2\n",
    "    z_axis = (np.arange(Nz)+1)*dz\n",
    "    x_axis = ftutils.ft_t_axis(Nx, dx)\n",
    "    x2ind = lambda x: np.argmin(np.abs(x_axis-x))\n",
    "\n",
    "    ### Set up index distribution ###\n",
    "    if waveguide_type == 'SI':\n",
    "        dn_wg_slice = np.zeros(Nx)\n",
    "        dn_wg_slice[x2ind(-d_wg/2):x2ind(d_wg/2)] = dn_wg\n",
    "        dn_wg_slice = smoothen_waveguide(x_axis, dn_wg_slice, k0*nclad) \n",
    "    if waveguide_type == 'GRIN':\n",
    "        dn_wg_slice = dn_wg * (1 - (2*x_axis/d_wg)**2)\n",
    "        dn_wg_slice = np.clip(dn_wg_slice, 0, dn_wg)\n",
    "    dn_wg_slice = add_absorbing_boundary(x_axis, dn_wg_slice, k0)\n",
    "    \n",
    "    betas, Evecs = solve_modes(x_axis, nclad, k0, dn_wg_slice, Nmodes, fresnel = fresnel)\n",
    "    betas = betas - nclad * k0\n",
    "    \n",
    "    if unitary_type == 'haar': U_target = unitary_group.rvs(Nmodes, random_state=seed)\n",
    "    if unitary_type == 'permutation': \n",
    "        np.random.seed(seed)\n",
    "        random_permutation = np.random.permutation(Nmodes)\n",
    "        U_target = permutation_matrix(random_permutation)\n",
    "    A = U2A(U_target, k0, Lz)\n",
    "    \n",
    "    ### Inverse design ###\n",
    "    U_target_torch = torch.tensor(U_target)\n",
    "    \n",
    "    wg = WaveguideSimulationWithBackground(nclad, x_axis, z_axis, fresnel = fresnel)\n",
    "    \n",
    "    tdwg_pnn = TDwgNet(wg, delta_n_val, torch.from_numpy(dn_wg_slice), Evecs, betas, dx, d_wg, k_cprog, device = device)\n",
    "    \n",
    "    loss_list = run_training_loop(tdwg_pnn, U_target_torch, iterations, lr, batch_size, print_interval=10, device = device)\n",
    "    \n",
    "\n",
    "    all_batches = []  # List to store batches\n",
    "    n = len(tdwg_pnn.input_beams)  # length of the original vector\n",
    "    indices = np.arange(n)\n",
    "    batch_indices = np.array_split(indices, np.ceil(n / batch_size))  # Split into subvectors\n",
    "\n",
    "    with torch.no_grad():\n",
    "        for indices in batch_indices:\n",
    "            U_num_batch = tdwg_pnn.forward(indices).cpu().numpy()  # Shape: [batch_size, n]\n",
    "            all_batches.append(U_num_batch)  # Collect batch\n",
    "    \n",
    "    # Concatenate along the first axis (rows)\n",
    "    U_num_inv = np.vstack(all_batches)  # Final shape: [n, n]\n",
    "    \n",
    "    avg_error_inv = np.mean((np.abs(np.abs(U_num_inv)-np.abs(U_target))))/np.mean(np.abs(U_target)) * 100\n",
    "\n",
    "    print(f'Saved {waveguide_type}_unitary={unitary_type}_Nmodes={Nmodes}_Lz={Lz}_kcprog={k_cprog:.2e}_fresnel={fresnel}_seed={seed}.npz')\n",
    "    print(f\"Average error for inverse design: {avg_error_inv:.2f}%\")\n",
    "    np.savez(f'parameter_sweep/{waveguide_type}_unitary={unitary_type}_Nmodes={Nmodes}_Lz={Lz}_kcprog={k_cprog:.2e}_fresnel={fresnel}_seed={seed}.npz', λ0 = λ0, ncore = ncore, nclad = nclad, dn_wg = dn_wg, k0 = k0, d_wg = d_wg, Lx = Lx, Nx = Nx, dz = dz, Lz = Lz, Nz = Nz, z_axis = z_axis, dx = dx, x_axis = x_axis, dn_wg_slice = dn_wg_slice, betas = betas, Evecs = Evecs, seed = seed, U_target = U_target, U_num_inv = U_num_inv, A = A, avg_error_inv = avg_error_inv, iterations = iterations, loss_list = loss_list, lr = lr, background_dn = tdwg_pnn.background_dn.cpu(), dn_prog = tdwg_pnn.mod.detach().cpu())\n",
    "    return avg_error_inv"
   ]
  },
  {
   "cell_type": "code",
   "execution_count": 8,
   "id": "a1fc6465-9fd3-44c2-96b3-bb66a6f809fb",
   "metadata": {
    "execution": {
     "iopub.execute_input": "2025-04-26T02:41:09.902297Z",
     "iopub.status.busy": "2025-04-26T02:41:09.899791Z",
     "iopub.status.idle": "2025-04-26T02:41:09.907915Z",
     "shell.execute_reply": "2025-04-26T02:41:09.907915Z",
     "shell.execute_reply.started": "2025-04-26T02:41:09.902297Z"
    }
   },
   "outputs": [],
   "source": [
    "dz = 0.4\n",
    "Lz_list = np.logspace(np.log10(1e1), np.log10(5e3), num=12)\n",
    "Lz_list = np.round(Lz_list/dz)*dz\n",
    "Nmodes_list = np.logspace(np.log10(2), np.log10(200), num=10)\n",
    "Nmodes_list = np.unique(np.round(Nmodes_list).astype(int))\n",
    "k_cprog_list = [1.7*2*np.pi/1.55]\n",
    "fresnel_list = [False]\n",
    "unitary_type_list = ['haar', 'permutation']\n",
    "waveguide_type_list = ['SI', 'GRIN']\n",
    "seed_list = [0]"
   ]
  },
  {
   "cell_type": "code",
   "execution_count": 9,
   "id": "c6f7e7df-432e-414d-8c5c-2572cf980c8a",
   "metadata": {
    "execution": {
     "iopub.execute_input": "2025-04-26T02:41:11.494348Z",
     "iopub.status.busy": "2025-04-26T02:41:11.494348Z",
     "iopub.status.idle": "2025-04-27T03:04:32.257913Z",
     "shell.execute_reply": "2025-04-27T03:04:32.257913Z",
     "shell.execute_reply.started": "2025-04-26T02:41:11.494348Z"
    }
   },
   "outputs": [
    {
     "name": "stdout",
     "output_type": "stream",
     "text": [
      "2025-04-25--22-41-11--Iteration: 0, Loss: 0.26256\n"
     ]
    },
    {
     "name": "stderr",
     "output_type": "stream",
     "text": [
      "\u001b[38;2;255;0;0m  0%\u001b[39m \u001b[38;2;255;0;0m0 of 120\u001b[39m |                                         | Elapsed Time: 0:00:00"
     ]
    },
    {
     "name": "stdout",
     "output_type": "stream",
     "text": [
      "2025-04-25--22-41-11--Iteration: 10, Loss: 0.24512\n",
      "2025-04-25--22-41-11Converged at iteration: 12, Loss: 0.24250\n",
      "Saved SI_unitary=haar_Nmodes=2_Lz=10.0_kcprog=6.89e+00_fresnel=False_seed=0.npz\n",
      "Average error for inverse design: 42.78%\n",
      "2025-04-25--22-41-12--Iteration: 0, Loss: 0.26267\n",
      "2025-04-25--22-41-12--Iteration: 10, Loss: 0.22629\n",
      "2025-04-25--22-41-12Converged at iteration: 18, Loss: 0.22125\n"
     ]
    },
    {
     "name": "stderr",
     "output_type": "stream",
     "text": [
      "\u001b[38;2;255;11;0m  1%\u001b[39m \u001b[38;2;255;11;0m2 of 120\u001b[39m |                                         | Elapsed Time: 0:00:00"
     ]
    },
    {
     "name": "stdout",
     "output_type": "stream",
     "text": [
      "Saved SI_unitary=haar_Nmodes=2_Lz=17.6_kcprog=6.89e+00_fresnel=False_seed=0.npz\n",
      "Average error for inverse design: 41.00%\n",
      "2025-04-25--22-41-12--Iteration: 0, Loss: 0.26288\n",
      "2025-04-25--22-41-13--Iteration: 10, Loss: 0.19566\n"
     ]
    },
    {
     "name": "stderr",
     "output_type": "stream",
     "text": [
      "\u001b[38;2;255;16;0m  2%\u001b[39m \u001b[38;2;255;16;0m3 of 120\u001b[39m |#                                        | Elapsed Time: 0:00:01"
     ]
    },
    {
     "name": "stdout",
     "output_type": "stream",
     "text": [
      "2025-04-25--22-41-13--Iteration: 20, Loss: 0.19079\n",
      "2025-04-25--22-41-13Converged at iteration: 20, Loss: 0.19079\n",
      "Saved SI_unitary=haar_Nmodes=2_Lz=30.8_kcprog=6.89e+00_fresnel=False_seed=0.npz\n",
      "Average error for inverse design: 39.59%\n",
      "2025-04-25--22-41-13--Iteration: 0, Loss: 0.26325\n",
      "2025-04-25--22-41-14--Iteration: 10, Loss: 0.14206\n",
      "2025-04-25--22-41-15--Iteration: 20, Loss: 0.13585\n"
     ]
    },
    {
     "name": "stderr",
     "output_type": "stream",
     "text": [
      "\u001b[38;2;255;22;0m  3%\u001b[39m \u001b[38;2;255;22;0m4 of 120\u001b[39m |#                                        | Elapsed Time: 0:00:03"
     ]
    },
    {
     "name": "stdout",
     "output_type": "stream",
     "text": [
      "2025-04-25--22-41-15Converged at iteration: 26, Loss: 0.13846\n",
      "Saved SI_unitary=haar_Nmodes=2_Lz=54.400000000000006_kcprog=6.89e+00_fresnel=False_seed=0.npz\n",
      "Average error for inverse design: 34.25%\n",
      "2025-04-25--22-41-15--Iteration: 0, Loss: 0.26391\n",
      "2025-04-25--22-41-16--Iteration: 10, Loss: 0.07265\n",
      "2025-04-25--22-41-17--Iteration: 20, Loss: 0.06403\n"
     ]
    },
    {
     "name": "stderr",
     "output_type": "stream",
     "text": [
      "\u001b[38;2;255;27;0m  4%\u001b[39m \u001b[38;2;255;27;0m5 of 120\u001b[39m |#                                        | Elapsed Time: 0:00:06"
     ]
    },
    {
     "name": "stdout",
     "output_type": "stream",
     "text": [
      "2025-04-25--22-41-18Converged at iteration: 28, Loss: 0.06503\n",
      "Saved SI_unitary=haar_Nmodes=2_Lz=96.0_kcprog=6.89e+00_fresnel=False_seed=0.npz\n",
      "Average error for inverse design: 23.20%\n",
      "2025-04-25--22-41-18--Iteration: 0, Loss: 0.26508\n",
      "2025-04-25--22-41-21--Iteration: 10, Loss: 0.02293\n",
      "2025-04-25--22-41-23--Iteration: 20, Loss: 0.02006\n",
      "2025-04-25--22-41-25--Iteration: 30, Loss: 0.01274\n",
      "2025-04-25--22-41-27--Iteration: 40, Loss: 0.01057\n"
     ]
    },
    {
     "name": "stderr",
     "output_type": "stream",
     "text": [
      "\u001b[38;2;255;33;0m  5%\u001b[39m \u001b[38;2;255;33;0m6 of 120\u001b[39m |##                                       | Elapsed Time: 0:00:17"
     ]
    },
    {
     "name": "stdout",
     "output_type": "stream",
     "text": [
      "2025-04-25--22-41-29Converged at iteration: 48, Loss: 0.00993\n",
      "Saved SI_unitary=haar_Nmodes=2_Lz=168.4_kcprog=6.89e+00_fresnel=False_seed=0.npz\n",
      "Average error for inverse design: 3.17%\n",
      "2025-04-25--22-41-29--Iteration: 0, Loss: 0.26721\n",
      "2025-04-25--22-41-33--Iteration: 10, Loss: 0.01942\n",
      "2025-04-25--22-41-36--Iteration: 20, Loss: 0.00453\n",
      "2025-04-25--22-41-40--Iteration: 30, Loss: 0.00417\n",
      "2025-04-25--22-41-44--Iteration: 40, Loss: 0.00143\n",
      "2025-04-25--22-41-47--Iteration: 50, Loss: 0.00052\n",
      "2025-04-25--22-41-51--Iteration: 60, Loss: 0.00055\n",
      "2025-04-25--22-41-54--Iteration: 70, Loss: 0.00045\n",
      "2025-04-25--22-41-58--Iteration: 80, Loss: 0.00040\n"
     ]
    },
    {
     "name": "stderr",
     "output_type": "stream",
     "text": [
      "\u001b[38;2;255;38;0m  5%\u001b[39m \u001b[38;2;255;38;0m7 of 120\u001b[39m |##                                       | Elapsed Time: 0:00:47"
     ]
    },
    {
     "name": "stdout",
     "output_type": "stream",
     "text": [
      "2025-04-25--22-41-59Converged at iteration: 84, Loss: 0.00040\n",
      "Saved SI_unitary=haar_Nmodes=2_Lz=296.40000000000003_kcprog=6.89e+00_fresnel=False_seed=0.npz\n",
      "Average error for inverse design: 0.49%\n",
      "2025-04-25--22-42-00--Iteration: 0, Loss: 0.27114\n",
      "2025-04-25--22-42-06--Iteration: 10, Loss: 0.03883\n",
      "2025-04-25--22-42-13--Iteration: 20, Loss: 0.01163\n",
      "2025-04-25--22-42-19--Iteration: 30, Loss: 0.00333\n",
      "2025-04-25--22-42-25--Iteration: 40, Loss: 0.00135\n",
      "2025-04-25--22-42-32--Iteration: 50, Loss: 0.00017\n",
      "2025-04-25--22-42-38--Iteration: 60, Loss: 0.00009\n",
      "2025-04-25--22-42-44--Iteration: 70, Loss: 0.00010\n",
      "2025-04-25--22-42-50--Iteration: 80, Loss: 0.00007\n",
      "2025-04-25--22-42-56--Iteration: 90, Loss: 0.00006\n"
     ]
    },
    {
     "name": "stderr",
     "output_type": "stream",
     "text": [
      "\u001b[38;2;255;44;0m  6%\u001b[39m \u001b[38;2;255;44;0m8 of 120\u001b[39m |##                                       | Elapsed Time: 0:01:50"
     ]
    },
    {
     "name": "stdout",
     "output_type": "stream",
     "text": [
      "2025-04-25--22-43-01Converged at iteration: 98, Loss: 0.00006\n",
      "Saved SI_unitary=haar_Nmodes=2_Lz=522.0_kcprog=6.89e+00_fresnel=False_seed=0.npz\n",
      "Average error for inverse design: 0.37%\n",
      "2025-04-25--22-43-03--Iteration: 0, Loss: 0.27860\n",
      "2025-04-25--22-43-14--Iteration: 10, Loss: 0.03275\n",
      "2025-04-25--22-43-25--Iteration: 20, Loss: 0.00730\n",
      "2025-04-25--22-43-36--Iteration: 30, Loss: 0.00116\n",
      "2025-04-25--22-43-47--Iteration: 40, Loss: 0.00016\n",
      "2025-04-25--22-43-57--Iteration: 50, Loss: 0.00014\n",
      "2025-04-25--22-44-09--Iteration: 60, Loss: 0.00014\n",
      "2025-04-25--22-44-20--Iteration: 70, Loss: 0.00010\n",
      "2025-04-25--22-44-31--Iteration: 80, Loss: 0.00007\n",
      "2025-04-25--22-44-42--Iteration: 90, Loss: 0.00005\n",
      "2025-04-25--22-44-53--Iteration: 100, Loss: 0.00004\n",
      "2025-04-25--22-45-02Converged at iteration: 108, Loss: 0.00004\n"
     ]
    },
    {
     "name": "stderr",
     "output_type": "stream",
     "text": [
      "\u001b[38;2;255;49;0m  7%\u001b[39m \u001b[38;2;255;49;0m9 of 120\u001b[39m |###                                      | Elapsed Time: 0:03:50"
     ]
    },
    {
     "name": "stdout",
     "output_type": "stream",
     "text": [
      "Saved SI_unitary=haar_Nmodes=2_Lz=918.0_kcprog=6.89e+00_fresnel=False_seed=0.npz\n",
      "Average error for inverse design: 0.73%\n",
      "2025-04-25--22-45-04--Iteration: 0, Loss: 0.29338\n",
      "2025-04-25--22-45-23--Iteration: 10, Loss: 0.04635\n",
      "2025-04-25--22-45-43--Iteration: 20, Loss: 0.00990\n",
      "2025-04-25--22-46-02--Iteration: 30, Loss: 0.00490\n",
      "2025-04-25--22-46-22--Iteration: 40, Loss: 0.00193\n",
      "2025-04-25--22-46-42--Iteration: 50, Loss: 0.00055\n",
      "2025-04-25--22-47-02--Iteration: 60, Loss: 0.00018\n",
      "2025-04-25--22-47-22--Iteration: 70, Loss: 0.00013\n",
      "2025-04-25--22-47-42--Iteration: 80, Loss: 0.00012\n",
      "2025-04-25--22-48-01--Iteration: 90, Loss: 0.00011\n",
      "2025-04-25--22-48-21--Iteration: 100, Loss: 0.00011\n",
      "2025-04-25--22-48-40--Iteration: 110, Loss: 0.00010\n",
      "2025-04-25--22-48-44Converged at iteration: 112, Loss: 0.00010\n"
     ]
    },
    {
     "name": "stderr",
     "output_type": "stream",
     "text": [
      "\u001b[38;2;255;55;0m  8%\u001b[39m \u001b[38;2;255;55;0m10 of 120\u001b[39m |###                                     | Elapsed Time: 0:07:33"
     ]
    },
    {
     "name": "stdout",
     "output_type": "stream",
     "text": [
      "Saved SI_unitary=haar_Nmodes=2_Lz=1615.2_kcprog=6.89e+00_fresnel=False_seed=0.npz\n",
      "Average error for inverse design: 1.23%\n",
      "2025-04-25--22-48-48--Iteration: 0, Loss: 0.32432\n",
      "2025-04-25--22-49-22--Iteration: 10, Loss: 0.06494\n",
      "2025-04-25--22-49-56--Iteration: 20, Loss: 0.00504\n",
      "2025-04-25--22-50-31--Iteration: 30, Loss: 0.01415\n",
      "2025-04-25--22-51-05--Iteration: 40, Loss: 0.01066\n",
      "2025-04-25--22-51-39--Iteration: 50, Loss: 0.00472\n",
      "2025-04-25--22-52-14--Iteration: 60, Loss: 0.00153\n",
      "2025-04-25--22-52-49--Iteration: 70, Loss: 0.00054\n",
      "2025-04-25--22-53-23--Iteration: 80, Loss: 0.00034\n",
      "2025-04-25--22-53-57--Iteration: 90, Loss: 0.00031\n",
      "2025-04-25--22-54-32--Iteration: 100, Loss: 0.00030\n",
      "2025-04-25--22-55-06--Iteration: 110, Loss: 0.00030\n",
      "2025-04-25--22-55-33Converged at iteration: 118, Loss: 0.00030\n"
     ]
    },
    {
     "name": "stderr",
     "output_type": "stream",
     "text": [
      "\u001b[38;2;255;80;0m  9%\u001b[39m \u001b[38;2;255;80;0m11 of 120\u001b[39m |###                                     | Elapsed Time: 0:14:22"
     ]
    },
    {
     "name": "stdout",
     "output_type": "stream",
     "text": [
      "Saved SI_unitary=haar_Nmodes=2_Lz=2842.0_kcprog=6.89e+00_fresnel=False_seed=0.npz\n",
      "Average error for inverse design: 2.18%\n",
      "2025-04-25--22-55-40--Iteration: 0, Loss: 0.39214\n",
      "2025-04-25--22-56-40--Iteration: 10, Loss: 0.32634\n",
      "2025-04-25--22-57-41--Iteration: 20, Loss: 0.11463\n",
      "2025-04-25--22-58-42--Iteration: 30, Loss: 0.03304\n",
      "2025-04-25--22-59-42--Iteration: 40, Loss: 0.00741\n",
      "2025-04-25--23-00-42--Iteration: 50, Loss: 0.00716\n",
      "2025-04-25--23-01-41--Iteration: 60, Loss: 0.00106\n",
      "2025-04-25--23-02-41--Iteration: 70, Loss: 0.00182\n",
      "2025-04-25--23-03-42--Iteration: 80, Loss: 0.00098\n",
      "2025-04-25--23-04-41--Iteration: 90, Loss: 0.00099\n",
      "2025-04-25--23-05-42--Iteration: 100, Loss: 0.00097\n",
      "2025-04-25--23-06-29Converged at iteration: 108, Loss: 0.00095\n"
     ]
    },
    {
     "name": "stderr",
     "output_type": "stream",
     "text": [
      "\u001b[38;2;255;85;0m 10%\u001b[39m \u001b[38;2;255;85;0m13 of 120\u001b[39m |####                                    | Elapsed Time: 0:25:19"
     ]
    },
    {
     "name": "stdout",
     "output_type": "stream",
     "text": [
      "Saved SI_unitary=haar_Nmodes=2_Lz=5000.0_kcprog=6.89e+00_fresnel=False_seed=0.npz\n",
      "Average error for inverse design: 3.83%\n",
      "2025-04-25--23-06-31--Iteration: 0, Loss: 0.83301\n",
      "2025-04-25--23-06-31Converged at iteration: 4, Loss: 0.82543\n",
      "Saved SI_unitary=haar_Nmodes=3_Lz=10.0_kcprog=6.89e+00_fresnel=False_seed=0.npz\n",
      "Average error for inverse design: 98.36%\n",
      "2025-04-25--23-06-31--Iteration: 0, Loss: 0.83300\n",
      "2025-04-25--23-06-31Converged at iteration: 7, Loss: 0.81135\n"
     ]
    },
    {
     "name": "stderr",
     "output_type": "stream",
     "text": [
      "\u001b[38;2;255;87;0m 11%\u001b[39m \u001b[38;2;255;87;0m14 of 120\u001b[39m |####                                    | Elapsed Time: 0:25:19"
     ]
    },
    {
     "name": "stdout",
     "output_type": "stream",
     "text": [
      "Saved SI_unitary=haar_Nmodes=3_Lz=17.6_kcprog=6.89e+00_fresnel=False_seed=0.npz\n",
      "Average error for inverse design: 94.42%\n",
      "2025-04-25--23-06-31--Iteration: 0, Loss: 0.83290\n"
     ]
    },
    {
     "name": "stderr",
     "output_type": "stream",
     "text": [
      "\u001b[38;2;255;90;0m 12%\u001b[39m \u001b[38;2;255;90;0m15 of 120\u001b[39m |#####                                   | Elapsed Time: 0:25:20"
     ]
    },
    {
     "name": "stdout",
     "output_type": "stream",
     "text": [
      "2025-04-25--23-06-32Converged at iteration: 9, Loss: 0.79365\n",
      "Saved SI_unitary=haar_Nmodes=3_Lz=30.8_kcprog=6.89e+00_fresnel=False_seed=0.npz\n",
      "Average error for inverse design: 89.75%\n",
      "2025-04-25--23-06-32--Iteration: 0, Loss: 0.83273\n"
     ]
    },
    {
     "name": "stderr",
     "output_type": "stream",
     "text": [
      "\u001b[38;2;255;92;0m 13%\u001b[39m \u001b[38;2;255;92;0m16 of 120\u001b[39m |#####                                   | Elapsed Time: 0:25:21"
     ]
    },
    {
     "name": "stdout",
     "output_type": "stream",
     "text": [
      "2025-04-25--23-06-33--Iteration: 10, Loss: 0.77473\n",
      "2025-04-25--23-06-33Converged at iteration: 10, Loss: 0.77473\n",
      "Saved SI_unitary=haar_Nmodes=3_Lz=54.400000000000006_kcprog=6.89e+00_fresnel=False_seed=0.npz\n",
      "Average error for inverse design: 83.44%\n",
      "2025-04-25--23-06-33--Iteration: 0, Loss: 0.83230\n"
     ]
    },
    {
     "name": "stderr",
     "output_type": "stream",
     "text": [
      "\u001b[38;2;255;94;0m 14%\u001b[39m \u001b[38;2;255;94;0m17 of 120\u001b[39m |#####                                   | Elapsed Time: 0:25:22"
     ]
    },
    {
     "name": "stdout",
     "output_type": "stream",
     "text": [
      "2025-04-25--23-06-34--Iteration: 10, Loss: 0.72543\n",
      "2025-04-25--23-06-34Converged at iteration: 11, Loss: 0.73007\n",
      "Saved SI_unitary=haar_Nmodes=3_Lz=96.0_kcprog=6.89e+00_fresnel=False_seed=0.npz\n",
      "Average error for inverse design: 72.71%\n",
      "2025-04-25--23-06-35--Iteration: 0, Loss: 0.83172\n",
      "2025-04-25--23-06-37--Iteration: 10, Loss: 0.65995\n"
     ]
    },
    {
     "name": "stderr",
     "output_type": "stream",
     "text": [
      "\u001b[38;2;255;97;0m 15%\u001b[39m \u001b[38;2;255;97;0m18 of 120\u001b[39m |######                                  | Elapsed Time: 0:25:26"
     ]
    },
    {
     "name": "stdout",
     "output_type": "stream",
     "text": [
      "2025-04-25--23-06-37Converged at iteration: 12, Loss: 0.66720\n",
      "Saved SI_unitary=haar_Nmodes=3_Lz=168.4_kcprog=6.89e+00_fresnel=False_seed=0.npz\n",
      "Average error for inverse design: 55.70%\n",
      "2025-04-25--23-06-38--Iteration: 0, Loss: 0.83065\n",
      "2025-04-25--23-06-42--Iteration: 10, Loss: 0.56267\n",
      "2025-04-25--23-06-46--Iteration: 20, Loss: 0.38274\n",
      "2025-04-25--23-06-50--Iteration: 30, Loss: 0.33431\n",
      "2025-04-25--23-06-53--Iteration: 40, Loss: 0.31747\n"
     ]
    },
    {
     "name": "stderr",
     "output_type": "stream",
     "text": [
      "\u001b[38;2;255;99;0m 15%\u001b[39m \u001b[38;2;255;99;0m19 of 120\u001b[39m |######                                  | Elapsed Time: 0:25:45"
     ]
    },
    {
     "name": "stdout",
     "output_type": "stream",
     "text": [
      "2025-04-25--23-06-56Converged at iteration: 48, Loss: 0.30608\n",
      "Saved SI_unitary=haar_Nmodes=3_Lz=296.40000000000003_kcprog=6.89e+00_fresnel=False_seed=0.npz\n",
      "Average error for inverse design: 27.39%\n",
      "2025-04-25--23-06-57--Iteration: 0, Loss: 0.82856\n",
      "2025-04-25--23-07-04--Iteration: 10, Loss: 0.24544\n"
     ]
    },
    {
     "name": "stderr",
     "output_type": "stream",
     "text": [
      "\u001b[38;2;255;101;0m 16%\u001b[39m \u001b[38;2;255;101;0m20 of 120\u001b[39m |######                                  | Elapsed Time: 0:25:59"
     ]
    },
    {
     "name": "stdout",
     "output_type": "stream",
     "text": [
      "2025-04-25--23-07-11--Iteration: 20, Loss: 0.09966\n",
      "2025-04-25--23-07-11Converged at iteration: 20, Loss: 0.09966\n",
      "Saved SI_unitary=haar_Nmodes=3_Lz=522.0_kcprog=6.89e+00_fresnel=False_seed=0.npz\n",
      "Average error for inverse design: 14.73%\n",
      "2025-04-25--23-07-12--Iteration: 0, Loss: 0.82490\n",
      "2025-04-25--23-07-24--Iteration: 10, Loss: 0.03648\n",
      "2025-04-25--23-07-36--Iteration: 20, Loss: 0.02831\n",
      "2025-04-25--23-07-48--Iteration: 30, Loss: 0.02455\n",
      "2025-04-25--23-08-00--Iteration: 40, Loss: 0.00724\n",
      "2025-04-25--23-08-12--Iteration: 50, Loss: 0.00268\n",
      "2025-04-25--23-08-24--Iteration: 60, Loss: 0.00207\n",
      "2025-04-25--23-08-31Converged at iteration: 66, Loss: 0.00195\n"
     ]
    },
    {
     "name": "stderr",
     "output_type": "stream",
     "text": [
      "\u001b[38;2;255;104;0m 17%\u001b[39m \u001b[38;2;255;104;0m21 of 120\u001b[39m |#######                                 | Elapsed Time: 0:27:19"
     ]
    },
    {
     "name": "stdout",
     "output_type": "stream",
     "text": [
      "Saved SI_unitary=haar_Nmodes=3_Lz=918.0_kcprog=6.89e+00_fresnel=False_seed=0.npz\n",
      "Average error for inverse design: 1.59%\n",
      "2025-04-25--23-08-33--Iteration: 0, Loss: 0.81804\n",
      "2025-04-25--23-08-55--Iteration: 10, Loss: 0.14377\n",
      "2025-04-25--23-09-16--Iteration: 20, Loss: 0.04039\n",
      "2025-04-25--23-09-38--Iteration: 30, Loss: 0.01652\n",
      "2025-04-25--23-10-00--Iteration: 40, Loss: 0.00575\n",
      "2025-04-25--23-10-22--Iteration: 50, Loss: 0.00207\n",
      "2025-04-25--23-10-45--Iteration: 60, Loss: 0.00091\n",
      "2025-04-25--23-11-06--Iteration: 70, Loss: 0.00044\n",
      "2025-04-25--23-11-29--Iteration: 80, Loss: 0.00030\n",
      "2025-04-25--23-11-51--Iteration: 90, Loss: 0.00024\n",
      "2025-04-25--23-12-12--Iteration: 100, Loss: 0.00022\n",
      "2025-04-25--23-12-28Converged at iteration: 108, Loss: 0.00021\n"
     ]
    },
    {
     "name": "stderr",
     "output_type": "stream",
     "text": [
      "\u001b[38;2;255;106;0m 18%\u001b[39m \u001b[38;2;255;106;0m22 of 120\u001b[39m |#######                                 | Elapsed Time: 0:31:17"
     ]
    },
    {
     "name": "stdout",
     "output_type": "stream",
     "text": [
      "Saved SI_unitary=haar_Nmodes=3_Lz=1615.2_kcprog=6.89e+00_fresnel=False_seed=0.npz\n",
      "Average error for inverse design: 1.14%\n",
      "2025-04-25--23-12-33--Iteration: 0, Loss: 0.80471\n",
      "2025-04-25--23-13-09--Iteration: 10, Loss: 0.03990\n",
      "2025-04-25--23-13-45--Iteration: 20, Loss: 0.02654\n",
      "2025-04-25--23-14-22--Iteration: 30, Loss: 0.01366\n",
      "2025-04-25--23-14-58--Iteration: 40, Loss: 0.00263\n",
      "2025-04-25--23-15-35--Iteration: 50, Loss: 0.00092\n",
      "2025-04-25--23-16-12--Iteration: 60, Loss: 0.00067\n",
      "2025-04-25--23-16-51--Iteration: 70, Loss: 0.00045\n",
      "2025-04-25--23-17-29--Iteration: 80, Loss: 0.00030\n",
      "2025-04-25--23-18-07--Iteration: 90, Loss: 0.00027\n",
      "2025-04-25--23-18-44--Iteration: 100, Loss: 0.00026\n",
      "2025-04-25--23-18-48Converged at iteration: 101, Loss: 0.00026\n"
     ]
    },
    {
     "name": "stderr",
     "output_type": "stream",
     "text": [
      "\u001b[38;2;255;108;0m 19%\u001b[39m \u001b[38;2;255;108;0m23 of 120\u001b[39m |#######                                 | Elapsed Time: 0:37:37"
     ]
    },
    {
     "name": "stdout",
     "output_type": "stream",
     "text": [
      "Saved SI_unitary=haar_Nmodes=3_Lz=2842.0_kcprog=6.89e+00_fresnel=False_seed=0.npz\n",
      "Average error for inverse design: 1.90%\n",
      "2025-04-25--23-18-56--Iteration: 0, Loss: 0.77752\n",
      "2025-04-25--23-20-01--Iteration: 10, Loss: 0.23056\n",
      "2025-04-25--23-21-07--Iteration: 20, Loss: 0.02504\n",
      "2025-04-25--23-22-12--Iteration: 30, Loss: 0.01732\n",
      "2025-04-25--23-23-18--Iteration: 40, Loss: 0.01064\n",
      "2025-04-25--23-24-23--Iteration: 50, Loss: 0.00326\n",
      "2025-04-25--23-25-29--Iteration: 60, Loss: 0.00087\n",
      "2025-04-25--23-26-35--Iteration: 70, Loss: 0.00104\n",
      "2025-04-25--23-27-41--Iteration: 80, Loss: 0.00086\n",
      "2025-04-25--23-28-49--Iteration: 90, Loss: 0.00078\n",
      "2025-04-25--23-29-55--Iteration: 100, Loss: 0.00075\n",
      "2025-04-25--23-30-27Converged at iteration: 105, Loss: 0.00073\n"
     ]
    },
    {
     "name": "stderr",
     "output_type": "stream",
     "text": [
      "\u001b[38;2;255;111;0m 20%\u001b[39m \u001b[38;2;255;111;0m24 of 120\u001b[39m |########                                | Elapsed Time: 0:49:18"
     ]
    },
    {
     "name": "stdout",
     "output_type": "stream",
     "text": [
      "Saved SI_unitary=haar_Nmodes=3_Lz=5000.0_kcprog=6.89e+00_fresnel=False_seed=0.npz\n",
      "Average error for inverse design: 3.39%\n",
      "2025-04-25--23-30-30--Iteration: 0, Loss: 0.87778\n"
     ]
    },
    {
     "name": "stderr",
     "output_type": "stream",
     "text": [
      "\u001b[38;2;255;113;0m 20%\u001b[39m \u001b[38;2;255;113;0m25 of 120\u001b[39m |########                                | Elapsed Time: 0:49:18"
     ]
    },
    {
     "name": "stdout",
     "output_type": "stream",
     "text": [
      "2025-04-25--23-30-30Converged at iteration: 5, Loss: 0.86240\n",
      "Saved SI_unitary=haar_Nmodes=6_Lz=10.0_kcprog=6.89e+00_fresnel=False_seed=0.npz\n",
      "Average error for inverse design: 102.19%\n",
      "2025-04-25--23-30-30--Iteration: 0, Loss: 0.87776\n"
     ]
    },
    {
     "name": "stderr",
     "output_type": "stream",
     "text": [
      "\u001b[38;2;255;115;0m 21%\u001b[39m \u001b[38;2;255;115;0m26 of 120\u001b[39m |########                                | Elapsed Time: 0:49:18"
     ]
    },
    {
     "name": "stdout",
     "output_type": "stream",
     "text": [
      "2025-04-25--23-30-30Converged at iteration: 9, Loss: 0.84415\n",
      "Saved SI_unitary=haar_Nmodes=6_Lz=17.6_kcprog=6.89e+00_fresnel=False_seed=0.npz\n",
      "Average error for inverse design: 98.22%\n",
      "2025-04-25--23-30-30--Iteration: 0, Loss: 0.87784\n"
     ]
    },
    {
     "name": "stderr",
     "output_type": "stream",
     "text": [
      "\u001b[38;2;255;118;0m 22%\u001b[39m \u001b[38;2;255;118;0m27 of 120\u001b[39m |#########                               | Elapsed Time: 0:49:19"
     ]
    },
    {
     "name": "stdout",
     "output_type": "stream",
     "text": [
      "2025-04-25--23-30-31--Iteration: 10, Loss: 0.81884\n",
      "2025-04-25--23-30-31Converged at iteration: 10, Loss: 0.81884\n",
      "Saved SI_unitary=haar_Nmodes=6_Lz=30.8_kcprog=6.89e+00_fresnel=False_seed=0.npz\n",
      "Average error for inverse design: 95.77%\n",
      "2025-04-25--23-30-31--Iteration: 0, Loss: 0.87795\n"
     ]
    },
    {
     "name": "stderr",
     "output_type": "stream",
     "text": [
      "\u001b[38;2;255;120;0m 23%\u001b[39m \u001b[38;2;255;120;0m28 of 120\u001b[39m |#########                               | Elapsed Time: 0:49:20"
     ]
    },
    {
     "name": "stdout",
     "output_type": "stream",
     "text": [
      "2025-04-25--23-30-32--Iteration: 10, Loss: 0.77467\n",
      "2025-04-25--23-30-32Converged at iteration: 11, Loss: 0.77945\n",
      "Saved SI_unitary=haar_Nmodes=6_Lz=54.400000000000006_kcprog=6.89e+00_fresnel=False_seed=0.npz\n",
      "Average error for inverse design: 93.73%\n",
      "2025-04-25--23-30-32--Iteration: 0, Loss: 0.87809\n",
      "2025-04-25--23-30-33--Iteration: 10, Loss: 0.69839\n"
     ]
    },
    {
     "name": "stderr",
     "output_type": "stream",
     "text": [
      "\u001b[38;2;255;122;0m 24%\u001b[39m \u001b[38;2;255;122;0m29 of 120\u001b[39m |#########                               | Elapsed Time: 0:49:23"
     ]
    },
    {
     "name": "stdout",
     "output_type": "stream",
     "text": [
      "2025-04-25--23-30-35--Iteration: 20, Loss: 0.69032\n",
      "2025-04-25--23-30-35Converged at iteration: 21, Loss: 0.69097\n",
      "Saved SI_unitary=haar_Nmodes=6_Lz=96.0_kcprog=6.89e+00_fresnel=False_seed=0.npz\n",
      "Average error for inverse design: 87.57%\n",
      "2025-04-25--23-30-35--Iteration: 0, Loss: 0.87840\n",
      "2025-04-25--23-30-37--Iteration: 10, Loss: 0.57970\n",
      "2025-04-25--23-30-39--Iteration: 20, Loss: 0.55629\n"
     ]
    },
    {
     "name": "stderr",
     "output_type": "stream",
     "text": [
      "\u001b[38;2;255;125;0m 25%\u001b[39m \u001b[38;2;255;125;0m30 of 120\u001b[39m |##########                              | Elapsed Time: 0:49:28"
     ]
    },
    {
     "name": "stdout",
     "output_type": "stream",
     "text": [
      "2025-04-25--23-30-40Converged at iteration: 24, Loss: 0.55006\n",
      "Saved SI_unitary=haar_Nmodes=6_Lz=168.4_kcprog=6.89e+00_fresnel=False_seed=0.npz\n",
      "Average error for inverse design: 73.98%\n",
      "2025-04-25--23-30-41--Iteration: 0, Loss: 0.87891\n",
      "2025-04-25--23-30-44--Iteration: 10, Loss: 0.42903\n",
      "2025-04-25--23-30-48--Iteration: 20, Loss: 0.38247\n",
      "2025-04-25--23-30-51--Iteration: 30, Loss: 0.34223\n"
     ]
    },
    {
     "name": "stderr",
     "output_type": "stream",
     "text": [
      "\u001b[38;2;255;127;0m 25%\u001b[39m \u001b[38;2;255;127;0m31 of 120\u001b[39m |##########                              | Elapsed Time: 0:49:42"
     ]
    },
    {
     "name": "stdout",
     "output_type": "stream",
     "text": [
      "2025-04-25--23-30-54Converged at iteration: 38, Loss: 0.33077\n",
      "Saved SI_unitary=haar_Nmodes=6_Lz=296.40000000000003_kcprog=6.89e+00_fresnel=False_seed=0.npz\n",
      "Average error for inverse design: 48.53%\n",
      "2025-04-25--23-30-54--Iteration: 0, Loss: 0.87976\n",
      "2025-04-25--23-31-01--Iteration: 10, Loss: 0.22016\n",
      "2025-04-25--23-31-07--Iteration: 20, Loss: 0.15780\n",
      "2025-04-25--23-31-13--Iteration: 30, Loss: 0.10372\n",
      "2025-04-25--23-31-19--Iteration: 40, Loss: 0.08458\n",
      "2025-04-25--23-31-25--Iteration: 50, Loss: 0.07548\n",
      "2025-04-25--23-31-31--Iteration: 60, Loss: 0.07205\n",
      "2025-04-25--23-31-32Converged at iteration: 61, Loss: 0.07184\n"
     ]
    },
    {
     "name": "stderr",
     "output_type": "stream",
     "text": [
      "\u001b[38;2;255;129;0m 26%\u001b[39m \u001b[38;2;255;129;0m32 of 120\u001b[39m |##########                              | Elapsed Time: 0:50:20"
     ]
    },
    {
     "name": "stdout",
     "output_type": "stream",
     "text": [
      "Saved SI_unitary=haar_Nmodes=6_Lz=522.0_kcprog=6.89e+00_fresnel=False_seed=0.npz\n",
      "Average error for inverse design: 11.89%\n",
      "2025-04-25--23-31-33--Iteration: 0, Loss: 0.88131\n",
      "2025-04-25--23-31-44--Iteration: 10, Loss: 0.10009\n",
      "2025-04-25--23-31-56--Iteration: 20, Loss: 0.04385\n",
      "2025-04-25--23-32-07--Iteration: 30, Loss: 0.03227\n",
      "2025-04-25--23-32-17--Iteration: 40, Loss: 0.01353\n",
      "2025-04-25--23-32-29--Iteration: 50, Loss: 0.00882\n",
      "2025-04-25--23-32-40--Iteration: 60, Loss: 0.00497\n",
      "2025-04-25--23-32-51--Iteration: 70, Loss: 0.00434\n",
      "2025-04-25--23-33-03--Iteration: 80, Loss: 0.00385\n",
      "2025-04-25--23-33-14--Iteration: 90, Loss: 0.00364\n",
      "2025-04-25--23-33-25--Iteration: 100, Loss: 0.00347\n",
      "2025-04-25--23-33-30Converged at iteration: 104, Loss: 0.00342\n"
     ]
    },
    {
     "name": "stderr",
     "output_type": "stream",
     "text": [
      "\u001b[38;2;255;132;0m 27%\u001b[39m \u001b[38;2;255;132;0m33 of 120\u001b[39m |###########                             | Elapsed Time: 0:52:18"
     ]
    },
    {
     "name": "stdout",
     "output_type": "stream",
     "text": [
      "Saved SI_unitary=haar_Nmodes=6_Lz=918.0_kcprog=6.89e+00_fresnel=False_seed=0.npz\n",
      "Average error for inverse design: 0.90%\n",
      "2025-04-25--23-33-32--Iteration: 0, Loss: 0.88387\n",
      "2025-04-25--23-33-52--Iteration: 10, Loss: 0.07893\n",
      "2025-04-25--23-34-13--Iteration: 20, Loss: 0.03259\n",
      "2025-04-25--23-34-32--Iteration: 30, Loss: 0.00919\n",
      "2025-04-25--23-34-52--Iteration: 40, Loss: 0.00347\n",
      "2025-04-25--23-35-13--Iteration: 50, Loss: 0.00203\n",
      "2025-04-25--23-35-33--Iteration: 60, Loss: 0.00086\n",
      "2025-04-25--23-35-53--Iteration: 70, Loss: 0.00059\n",
      "2025-04-25--23-36-13--Iteration: 80, Loss: 0.00042\n",
      "2025-04-25--23-36-33--Iteration: 90, Loss: 0.00036\n",
      "2025-04-25--23-36-49Converged at iteration: 98, Loss: 0.00035\n"
     ]
    },
    {
     "name": "stderr",
     "output_type": "stream",
     "text": [
      "\u001b[38;2;255;134;0m 28%\u001b[39m \u001b[38;2;255;134;0m34 of 120\u001b[39m |###########                             | Elapsed Time: 0:55:37"
     ]
    },
    {
     "name": "stdout",
     "output_type": "stream",
     "text": [
      "Saved SI_unitary=haar_Nmodes=6_Lz=1615.2_kcprog=6.89e+00_fresnel=False_seed=0.npz\n",
      "Average error for inverse design: 0.66%\n",
      "2025-04-25--23-36-53--Iteration: 0, Loss: 0.88795\n",
      "2025-04-25--23-37-27--Iteration: 10, Loss: 0.06881\n",
      "2025-04-25--23-38-03--Iteration: 20, Loss: 0.02344\n",
      "2025-04-25--23-38-38--Iteration: 30, Loss: 0.00889\n",
      "2025-04-25--23-39-13--Iteration: 40, Loss: 0.00221\n",
      "2025-04-25--23-39-49--Iteration: 50, Loss: 0.00111\n",
      "2025-04-25--23-40-24--Iteration: 60, Loss: 0.00053\n",
      "2025-04-25--23-40-59--Iteration: 70, Loss: 0.00024\n",
      "2025-04-25--23-41-34--Iteration: 80, Loss: 0.00020\n",
      "2025-04-25--23-42-09--Iteration: 90, Loss: 0.00017\n",
      "2025-04-25--23-42-44--Iteration: 100, Loss: 0.00016\n",
      "2025-04-25--23-43-19--Iteration: 110, Loss: 0.00016\n",
      "2025-04-25--23-43-23Converged at iteration: 111, Loss: 0.00016\n"
     ]
    },
    {
     "name": "stderr",
     "output_type": "stream",
     "text": [
      "\u001b[38;2;255;136;0m 29%\u001b[39m \u001b[38;2;255;136;0m35 of 120\u001b[39m |###########                             | Elapsed Time: 1:02:11"
     ]
    },
    {
     "name": "stdout",
     "output_type": "stream",
     "text": [
      "Saved SI_unitary=haar_Nmodes=6_Lz=2842.0_kcprog=6.89e+00_fresnel=False_seed=0.npz\n",
      "Average error for inverse design: 1.14%\n",
      "2025-04-25--23-43-30--Iteration: 0, Loss: 0.89422\n",
      "2025-04-25--23-44-31--Iteration: 10, Loss: 0.12740\n",
      "2025-04-25--23-45-33--Iteration: 20, Loss: 0.04834\n",
      "2025-04-25--23-46-35--Iteration: 30, Loss: 0.02496\n",
      "2025-04-25--23-47-37--Iteration: 40, Loss: 0.00639\n",
      "2025-04-25--23-48-36--Iteration: 50, Loss: 0.00192\n",
      "2025-04-25--23-49-36--Iteration: 60, Loss: 0.00114\n",
      "2025-04-25--23-50-38--Iteration: 70, Loss: 0.00058\n",
      "2025-04-25--23-51-41--Iteration: 80, Loss: 0.00038\n",
      "2025-04-25--23-52-43--Iteration: 90, Loss: 0.00034\n",
      "2025-04-25--23-53-45--Iteration: 100, Loss: 0.00032\n",
      "2025-04-25--23-53-57Converged at iteration: 102, Loss: 0.00032\n"
     ]
    },
    {
     "name": "stderr",
     "output_type": "stream",
     "text": [
      "\u001b[38;2;255;141;0m 30%\u001b[39m \u001b[38;2;255;141;0m37 of 120\u001b[39m |############                            | Elapsed Time: 1:12:47"
     ]
    },
    {
     "name": "stdout",
     "output_type": "stream",
     "text": [
      "Saved SI_unitary=haar_Nmodes=6_Lz=5000.0_kcprog=6.89e+00_fresnel=False_seed=0.npz\n",
      "Average error for inverse design: 2.00%\n",
      "2025-04-25--23-53-59--Iteration: 0, Loss: 0.92143\n",
      "2025-04-25--23-53-59Converged at iteration: 4, Loss: 0.91627\n",
      "Saved SI_unitary=haar_Nmodes=9_Lz=10.0_kcprog=6.89e+00_fresnel=False_seed=0.npz\n",
      "Average error for inverse design: 106.93%\n"
     ]
    },
    {
     "name": "stderr",
     "output_type": "stream",
     "text": [
      "\u001b[38;2;255;143;0m 31%\u001b[39m \u001b[38;2;255;143;0m38 of 120\u001b[39m |############                            | Elapsed Time: 1:12:47"
     ]
    },
    {
     "name": "stdout",
     "output_type": "stream",
     "text": [
      "2025-04-25--23-53-59--Iteration: 0, Loss: 0.92147\n",
      "2025-04-25--23-53-59Converged at iteration: 4, Loss: 0.91009\n",
      "Saved SI_unitary=haar_Nmodes=9_Lz=17.6_kcprog=6.89e+00_fresnel=False_seed=0.npz\n",
      "Average error for inverse design: 105.58%\n",
      "2025-04-25--23-53-59--Iteration: 0, Loss: 0.92148\n"
     ]
    },
    {
     "name": "stderr",
     "output_type": "stream",
     "text": [
      "\u001b[38;2;255;146;0m 32%\u001b[39m \u001b[38;2;255;146;0m39 of 120\u001b[39m |#############                           | Elapsed Time: 1:12:48"
     ]
    },
    {
     "name": "stdout",
     "output_type": "stream",
     "text": [
      "2025-04-25--23-54-00Converged at iteration: 9, Loss: 0.89047\n",
      "Saved SI_unitary=haar_Nmodes=9_Lz=30.8_kcprog=6.89e+00_fresnel=False_seed=0.npz\n",
      "Average error for inverse design: 99.31%\n",
      "2025-04-25--23-54-00--Iteration: 0, Loss: 0.92154\n"
     ]
    },
    {
     "name": "stderr",
     "output_type": "stream",
     "text": [
      "\u001b[38;2;255;148;0m 33%\u001b[39m \u001b[38;2;255;148;0m40 of 120\u001b[39m |#############                           | Elapsed Time: 1:12:49"
     ]
    },
    {
     "name": "stdout",
     "output_type": "stream",
     "text": [
      "2025-04-25--23-54-01--Iteration: 10, Loss: 0.85230\n",
      "2025-04-25--23-54-01Converged at iteration: 10, Loss: 0.85230\n",
      "Saved SI_unitary=haar_Nmodes=9_Lz=54.400000000000006_kcprog=6.89e+00_fresnel=False_seed=0.npz\n",
      "Average error for inverse design: 90.92%\n",
      "2025-04-25--23-54-01--Iteration: 0, Loss: 0.92164\n",
      "2025-04-25--23-54-02--Iteration: 10, Loss: 0.78710\n"
     ]
    },
    {
     "name": "stderr",
     "output_type": "stream",
     "text": [
      "\u001b[38;2;255;150;0m 34%\u001b[39m \u001b[38;2;255;150;0m41 of 120\u001b[39m |#############                           | Elapsed Time: 1:12:51"
     ]
    },
    {
     "name": "stdout",
     "output_type": "stream",
     "text": [
      "2025-04-25--23-54-03Converged at iteration: 15, Loss: 0.79224\n",
      "Saved SI_unitary=haar_Nmodes=9_Lz=96.0_kcprog=6.89e+00_fresnel=False_seed=0.npz\n",
      "Average error for inverse design: 83.14%\n",
      "2025-04-25--23-54-03--Iteration: 0, Loss: 0.92180\n",
      "2025-04-25--23-54-05--Iteration: 10, Loss: 0.69491\n"
     ]
    },
    {
     "name": "stderr",
     "output_type": "stream",
     "text": [
      "\u001b[38;2;255;153;0m 35%\u001b[39m \u001b[38;2;255;153;0m42 of 120\u001b[39m |##############                          | Elapsed Time: 1:12:54"
     ]
    },
    {
     "name": "stdout",
     "output_type": "stream",
     "text": [
      "2025-04-25--23-54-06Converged at iteration: 16, Loss: 0.70230\n",
      "Saved SI_unitary=haar_Nmodes=9_Lz=168.4_kcprog=6.89e+00_fresnel=False_seed=0.npz\n",
      "Average error for inverse design: 69.69%\n",
      "2025-04-25--23-54-07--Iteration: 0, Loss: 0.92217\n",
      "2025-04-25--23-54-11--Iteration: 10, Loss: 0.55544\n"
     ]
    },
    {
     "name": "stderr",
     "output_type": "stream",
     "text": [
      "\u001b[38;2;255;155;0m 35%\u001b[39m \u001b[38;2;255;155;0m43 of 120\u001b[39m |##############                          | Elapsed Time: 1:13:01"
     ]
    },
    {
     "name": "stdout",
     "output_type": "stream",
     "text": [
      "2025-04-25--23-54-13Converged at iteration: 16, Loss: 0.55657\n",
      "Saved SI_unitary=haar_Nmodes=9_Lz=296.40000000000003_kcprog=6.89e+00_fresnel=False_seed=0.npz\n",
      "Average error for inverse design: 51.59%\n",
      "2025-04-25--23-54-14--Iteration: 0, Loss: 0.92276\n",
      "2025-04-25--23-54-20--Iteration: 10, Loss: 0.34776\n",
      "2025-04-25--23-54-27--Iteration: 20, Loss: 0.27295\n",
      "2025-04-25--23-54-34--Iteration: 30, Loss: 0.21830\n",
      "2025-04-25--23-54-41--Iteration: 40, Loss: 0.19502\n",
      "2025-04-25--23-54-47--Iteration: 50, Loss: 0.18572\n",
      "2025-04-25--23-54-47Converged at iteration: 50, Loss: 0.18572\n"
     ]
    },
    {
     "name": "stderr",
     "output_type": "stream",
     "text": [
      "\u001b[38;2;255;157;0m 36%\u001b[39m \u001b[38;2;255;157;0m44 of 120\u001b[39m |##############                          | Elapsed Time: 1:13:36"
     ]
    },
    {
     "name": "stdout",
     "output_type": "stream",
     "text": [
      "Saved SI_unitary=haar_Nmodes=9_Lz=522.0_kcprog=6.89e+00_fresnel=False_seed=0.npz\n",
      "Average error for inverse design: 25.55%\n",
      "2025-04-25--23-54-49--Iteration: 0, Loss: 0.92375\n",
      "2025-04-25--23-55-01--Iteration: 10, Loss: 0.10639\n",
      "2025-04-25--23-55-13--Iteration: 20, Loss: 0.07383\n",
      "2025-04-25--23-55-24--Iteration: 30, Loss: 0.05150\n",
      "2025-04-25--23-55-36--Iteration: 40, Loss: 0.02573\n",
      "2025-04-25--23-55-48--Iteration: 50, Loss: 0.01799\n",
      "2025-04-25--23-56-00--Iteration: 60, Loss: 0.01311\n",
      "2025-04-25--23-56-12--Iteration: 70, Loss: 0.01221\n",
      "2025-04-25--23-56-25--Iteration: 80, Loss: 0.01173\n",
      "2025-04-25--23-56-33Converged at iteration: 87, Loss: 0.01143\n"
     ]
    },
    {
     "name": "stderr",
     "output_type": "stream",
     "text": [
      "\u001b[38;2;255;160;0m 37%\u001b[39m \u001b[38;2;255;160;0m45 of 120\u001b[39m |###############                         | Elapsed Time: 1:15:21"
     ]
    },
    {
     "name": "stdout",
     "output_type": "stream",
     "text": [
      "Saved SI_unitary=haar_Nmodes=9_Lz=918.0_kcprog=6.89e+00_fresnel=False_seed=0.npz\n",
      "Average error for inverse design: 2.77%\n",
      "2025-04-25--23-56-36--Iteration: 0, Loss: 0.92560\n",
      "2025-04-25--23-56-57--Iteration: 10, Loss: 0.11005\n",
      "2025-04-25--23-57-18--Iteration: 20, Loss: 0.02142\n",
      "2025-04-25--23-57-39--Iteration: 30, Loss: 0.00776\n",
      "2025-04-25--23-58-01--Iteration: 40, Loss: 0.00401\n",
      "2025-04-25--23-58-23--Iteration: 50, Loss: 0.00214\n",
      "2025-04-25--23-58-44--Iteration: 60, Loss: 0.00127\n",
      "2025-04-25--23-59-06--Iteration: 70, Loss: 0.00088\n",
      "2025-04-25--23-59-28--Iteration: 80, Loss: 0.00070\n",
      "2025-04-25--23-59-28Converged at iteration: 80, Loss: 0.00070\n"
     ]
    },
    {
     "name": "stderr",
     "output_type": "stream",
     "text": [
      "\u001b[38;2;255;162;0m 38%\u001b[39m \u001b[38;2;255;162;0m46 of 120\u001b[39m |###############                         | Elapsed Time: 1:18:17"
     ]
    },
    {
     "name": "stdout",
     "output_type": "stream",
     "text": [
      "Saved SI_unitary=haar_Nmodes=9_Lz=1615.2_kcprog=6.89e+00_fresnel=False_seed=0.npz\n",
      "Average error for inverse design: 0.73%\n",
      "2025-04-25--23-59-33--Iteration: 0, Loss: 0.92883\n",
      "2025-04-26--00-00-11--Iteration: 10, Loss: 0.15012\n",
      "2025-04-26--00-00-48--Iteration: 20, Loss: 0.03744\n",
      "2025-04-26--00-01-25--Iteration: 30, Loss: 0.00832\n",
      "2025-04-26--00-02-03--Iteration: 40, Loss: 0.00354\n",
      "2025-04-26--00-02-40--Iteration: 50, Loss: 0.00149\n",
      "2025-04-26--00-03-18--Iteration: 60, Loss: 0.00036\n",
      "2025-04-26--00-03-56--Iteration: 70, Loss: 0.00016\n",
      "2025-04-26--00-04-32--Iteration: 80, Loss: 0.00015\n",
      "2025-04-26--00-05-12--Iteration: 90, Loss: 0.00012\n",
      "2025-04-26--00-05-51--Iteration: 100, Loss: 0.00011\n",
      "2025-04-26--00-06-28--Iteration: 110, Loss: 0.00010\n",
      "2025-04-26--00-06-35Converged at iteration: 112, Loss: 0.00010\n"
     ]
    },
    {
     "name": "stderr",
     "output_type": "stream",
     "text": [
      "\u001b[38;2;255;164;0m 39%\u001b[39m \u001b[38;2;255;164;0m47 of 120\u001b[39m |###############                         | Elapsed Time: 1:25:25"
     ]
    },
    {
     "name": "stdout",
     "output_type": "stream",
     "text": [
      "Saved SI_unitary=haar_Nmodes=9_Lz=2842.0_kcprog=6.89e+00_fresnel=False_seed=0.npz\n",
      "Average error for inverse design: 0.82%\n",
      "2025-04-26--00-06-43--Iteration: 0, Loss: 0.93466\n",
      "2025-04-26--00-07-49--Iteration: 10, Loss: 0.07529\n",
      "2025-04-26--00-08-55--Iteration: 20, Loss: 0.07204\n",
      "2025-04-26--00-10-02--Iteration: 30, Loss: 0.00637\n",
      "2025-04-26--00-11-08--Iteration: 40, Loss: 0.00855\n",
      "2025-04-26--00-12-14--Iteration: 50, Loss: 0.00125\n",
      "2025-04-26--00-13-19--Iteration: 60, Loss: 0.00102\n",
      "2025-04-26--00-14-25--Iteration: 70, Loss: 0.00029\n",
      "2025-04-26--00-15-31--Iteration: 80, Loss: 0.00025\n",
      "2025-04-26--00-16-38--Iteration: 90, Loss: 0.00015\n",
      "2025-04-26--00-17-47--Iteration: 100, Loss: 0.00015\n",
      "2025-04-26--00-18-51--Iteration: 110, Loss: 0.00014\n",
      "2025-04-26--00-19-49Converged at iteration: 119, Loss: 0.00014\n"
     ]
    },
    {
     "name": "stderr",
     "output_type": "stream",
     "text": [
      "\u001b[38;2;255;167;0m 40%\u001b[39m \u001b[38;2;255;167;0m48 of 120\u001b[39m |################                        | Elapsed Time: 1:38:40"
     ]
    },
    {
     "name": "stdout",
     "output_type": "stream",
     "text": [
      "Saved SI_unitary=haar_Nmodes=9_Lz=5000.0_kcprog=6.89e+00_fresnel=False_seed=0.npz\n",
      "Average error for inverse design: 1.34%\n",
      "2025-04-26--00-19-52--Iteration: 0, Loss: 0.96157\n"
     ]
    },
    {
     "name": "stderr",
     "output_type": "stream",
     "text": [
      "\u001b[38;2;255;169;0m 40%\u001b[39m \u001b[38;2;255;169;0m49 of 120\u001b[39m |################                        | Elapsed Time: 1:38:40"
     ]
    },
    {
     "name": "stdout",
     "output_type": "stream",
     "text": [
      "2025-04-26--00-19-52Converged at iteration: 4, Loss: 0.95505\n",
      "Saved SI_unitary=haar_Nmodes=15_Lz=10.0_kcprog=6.89e+00_fresnel=False_seed=0.npz\n",
      "Average error for inverse design: 113.49%\n",
      "2025-04-26--00-19-52--Iteration: 0, Loss: 0.96155\n"
     ]
    },
    {
     "name": "stderr",
     "output_type": "stream",
     "text": [
      "\u001b[38;2;255;171;0m 41%\u001b[39m \u001b[38;2;255;171;0m50 of 120\u001b[39m |################                        | Elapsed Time: 1:38:40"
     ]
    },
    {
     "name": "stdout",
     "output_type": "stream",
     "text": [
      "2025-04-26--00-19-52Converged at iteration: 4, Loss: 0.95039\n",
      "Saved SI_unitary=haar_Nmodes=15_Lz=17.6_kcprog=6.89e+00_fresnel=False_seed=0.npz\n",
      "Average error for inverse design: 111.81%\n",
      "2025-04-26--00-19-52--Iteration: 0, Loss: 0.96145\n"
     ]
    },
    {
     "name": "stderr",
     "output_type": "stream",
     "text": [
      "\u001b[38;2;255;173;0m 42%\u001b[39m \u001b[38;2;255;173;0m51 of 120\u001b[39m |#################                       | Elapsed Time: 1:38:41"
     ]
    },
    {
     "name": "stdout",
     "output_type": "stream",
     "text": [
      "2025-04-26--00-19-53Converged at iteration: 8, Loss: 0.92811\n",
      "Saved SI_unitary=haar_Nmodes=15_Lz=30.8_kcprog=6.89e+00_fresnel=False_seed=0.npz\n",
      "Average error for inverse design: 106.00%\n",
      "2025-04-26--00-19-53--Iteration: 0, Loss: 0.96131\n"
     ]
    },
    {
     "name": "stderr",
     "output_type": "stream",
     "text": [
      "\u001b[38;2;255;177;0m 43%\u001b[39m \u001b[38;2;255;177;0m52 of 120\u001b[39m |#################                       | Elapsed Time: 1:38:43"
     ]
    },
    {
     "name": "stdout",
     "output_type": "stream",
     "text": [
      "2025-04-26--00-19-55--Iteration: 10, Loss: 0.89891\n",
      "2025-04-26--00-19-55Converged at iteration: 10, Loss: 0.89891\n",
      "Saved SI_unitary=haar_Nmodes=15_Lz=54.400000000000006_kcprog=6.89e+00_fresnel=False_seed=0.npz\n",
      "Average error for inverse design: 100.07%\n",
      "2025-04-26--00-19-55--Iteration: 0, Loss: 0.96107\n",
      "2025-04-26--00-19-58--Iteration: 10, Loss: 0.84091\n"
     ]
    },
    {
     "name": "stderr",
     "output_type": "stream",
     "text": [
      "\u001b[38;2;255;182;0m 44%\u001b[39m \u001b[38;2;255;182;0m53 of 120\u001b[39m |#################                       | Elapsed Time: 1:38:47"
     ]
    },
    {
     "name": "stdout",
     "output_type": "stream",
     "text": [
      "2025-04-26--00-19-59Converged at iteration: 12, Loss: 0.84882\n",
      "Saved SI_unitary=haar_Nmodes=15_Lz=96.0_kcprog=6.89e+00_fresnel=False_seed=0.npz\n",
      "Average error for inverse design: 90.70%\n",
      "2025-04-26--00-19-59--Iteration: 0, Loss: 0.96067\n",
      "2025-04-26--00-20-04--Iteration: 10, Loss: 0.73677\n"
     ]
    },
    {
     "name": "stderr",
     "output_type": "stream",
     "text": [
      "\u001b[38;2;255;187;0m 45%\u001b[39m \u001b[38;2;255;187;0m54 of 120\u001b[39m |##################                      | Elapsed Time: 1:38:54"
     ]
    },
    {
     "name": "stdout",
     "output_type": "stream",
     "text": [
      "2025-04-26--00-20-06Converged at iteration: 15, Loss: 0.74289\n",
      "Saved SI_unitary=haar_Nmodes=15_Lz=168.4_kcprog=6.89e+00_fresnel=False_seed=0.npz\n",
      "Average error for inverse design: 79.02%\n",
      "2025-04-26--00-20-07--Iteration: 0, Loss: 0.96002\n",
      "2025-04-26--00-20-15--Iteration: 10, Loss: 0.57019\n",
      "2025-04-26--00-20-20Converged at iteration: 16, Loss: 0.57458\n"
     ]
    },
    {
     "name": "stderr",
     "output_type": "stream",
     "text": [
      "\u001b[38;2;255;191;0m 45%\u001b[39m \u001b[38;2;255;191;0m55 of 120\u001b[39m |##################                      | Elapsed Time: 1:39:08"
     ]
    },
    {
     "name": "stdout",
     "output_type": "stream",
     "text": [
      "Saved SI_unitary=haar_Nmodes=15_Lz=296.40000000000003_kcprog=6.89e+00_fresnel=False_seed=0.npz\n",
      "Average error for inverse design: 62.86%\n",
      "2025-04-26--00-20-22--Iteration: 0, Loss: 0.95882\n",
      "2025-04-26--00-20-36--Iteration: 10, Loss: 0.36211\n",
      "2025-04-26--00-20-45Converged at iteration: 17, Loss: 0.35072\n"
     ]
    },
    {
     "name": "stderr",
     "output_type": "stream",
     "text": [
      "\u001b[38;2;255;196;0m 46%\u001b[39m \u001b[38;2;255;196;0m56 of 120\u001b[39m |##################                      | Elapsed Time: 1:39:33"
     ]
    },
    {
     "name": "stdout",
     "output_type": "stream",
     "text": [
      "Saved SI_unitary=haar_Nmodes=15_Lz=522.0_kcprog=6.89e+00_fresnel=False_seed=0.npz\n",
      "Average error for inverse design: 42.14%\n",
      "2025-04-26--00-20-48--Iteration: 0, Loss: 0.95671\n",
      "2025-04-26--00-21-12--Iteration: 10, Loss: 0.12611\n",
      "2025-04-26--00-21-36--Iteration: 20, Loss: 0.09336\n",
      "2025-04-26--00-22-00--Iteration: 30, Loss: 0.06830\n",
      "2025-04-26--00-22-25--Iteration: 40, Loss: 0.04117\n",
      "2025-04-26--00-22-49--Iteration: 50, Loss: 0.03371\n",
      "2025-04-26--00-23-10Converged at iteration: 59, Loss: 0.03157\n"
     ]
    },
    {
     "name": "stderr",
     "output_type": "stream",
     "text": [
      "\u001b[38;2;255;201;0m 47%\u001b[39m \u001b[38;2;255;201;0m57 of 120\u001b[39m |###################                     | Elapsed Time: 1:41:59"
     ]
    },
    {
     "name": "stdout",
     "output_type": "stream",
     "text": [
      "Saved SI_unitary=haar_Nmodes=15_Lz=918.0_kcprog=6.89e+00_fresnel=False_seed=0.npz\n",
      "Average error for inverse design: 6.33%\n",
      "2025-04-26--00-23-15--Iteration: 0, Loss: 0.95305\n",
      "2025-04-26--00-23-58--Iteration: 10, Loss: 0.07091\n",
      "2025-04-26--00-24-39--Iteration: 20, Loss: 0.03264\n",
      "2025-04-26--00-25-20--Iteration: 30, Loss: 0.01936\n",
      "2025-04-26--00-26-01--Iteration: 40, Loss: 0.00698\n",
      "2025-04-26--00-26-43--Iteration: 50, Loss: 0.00408\n",
      "2025-04-26--00-27-26--Iteration: 60, Loss: 0.00250\n",
      "2025-04-26--00-28-08--Iteration: 70, Loss: 0.00188\n",
      "2025-04-26--00-28-52--Iteration: 80, Loss: 0.00167\n",
      "2025-04-26--00-29-35--Iteration: 90, Loss: 0.00155\n",
      "2025-04-26--00-30-17--Iteration: 100, Loss: 0.00149\n",
      "2025-04-26--00-30-42Converged at iteration: 106, Loss: 0.00145\n"
     ]
    },
    {
     "name": "stderr",
     "output_type": "stream",
     "text": [
      "\u001b[38;2;255;205;0m 48%\u001b[39m \u001b[38;2;255;205;0m58 of 120\u001b[39m |###################                     | Elapsed Time: 1:49:32"
     ]
    },
    {
     "name": "stdout",
     "output_type": "stream",
     "text": [
      "Saved SI_unitary=haar_Nmodes=15_Lz=1615.2_kcprog=6.89e+00_fresnel=False_seed=0.npz\n",
      "Average error for inverse design: 0.62%\n",
      "2025-04-26--00-30-51--Iteration: 0, Loss: 0.94663\n",
      "2025-04-26--00-32-07--Iteration: 10, Loss: 0.08270\n",
      "2025-04-26--00-33-23--Iteration: 20, Loss: 0.02250\n",
      "2025-04-26--00-34-40--Iteration: 30, Loss: 0.00722\n",
      "2025-04-26--00-35-54--Iteration: 40, Loss: 0.00310\n",
      "2025-04-26--00-37-09--Iteration: 50, Loss: 0.00139\n",
      "2025-04-26--00-38-24--Iteration: 60, Loss: 0.00071\n",
      "2025-04-26--00-39-39--Iteration: 70, Loss: 0.00033\n",
      "2025-04-26--00-40-56--Iteration: 80, Loss: 0.00026\n",
      "2025-04-26--00-42-14--Iteration: 90, Loss: 0.00023\n",
      "2025-04-26--00-43-28--Iteration: 100, Loss: 0.00021\n",
      "2025-04-26--00-44-06Converged at iteration: 105, Loss: 0.00021\n"
     ]
    },
    {
     "name": "stderr",
     "output_type": "stream",
     "text": [
      "\u001b[38;2;255;210;0m 49%\u001b[39m \u001b[38;2;255;210;0m59 of 120\u001b[39m |###################                     | Elapsed Time: 2:02:57"
     ]
    },
    {
     "name": "stdout",
     "output_type": "stream",
     "text": [
      "Saved SI_unitary=haar_Nmodes=15_Lz=2842.0_kcprog=6.89e+00_fresnel=False_seed=0.npz\n",
      "Average error for inverse design: 0.59%\n",
      "2025-04-26--00-44-22--Iteration: 0, Loss: 0.93541\n",
      "2025-04-26--00-46-33--Iteration: 10, Loss: 0.06029\n",
      "2025-04-26--00-48-47--Iteration: 20, Loss: 0.05010\n",
      "2025-04-26--00-50-57--Iteration: 30, Loss: 0.01935\n",
      "2025-04-26--00-53-11--Iteration: 40, Loss: 0.00365\n",
      "2025-04-26--00-55-20--Iteration: 50, Loss: 0.00354\n",
      "2025-04-26--00-57-31--Iteration: 60, Loss: 0.00061\n",
      "2025-04-26--00-59-45--Iteration: 70, Loss: 0.00050\n",
      "2025-04-26--01-01-51--Iteration: 80, Loss: 0.00031\n",
      "2025-04-26--01-04-03--Iteration: 90, Loss: 0.00025\n",
      "2025-04-26--01-06-17--Iteration: 100, Loss: 0.00021\n",
      "2025-04-26--01-08-26--Iteration: 110, Loss: 0.00020\n",
      "2025-04-26--01-10-38--Iteration: 120, Loss: 0.00019\n",
      "2025-04-26--01-12-50--Iteration: 130, Loss: 0.00018\n",
      "2025-04-26--01-15-02--Iteration: 140, Loss: 0.00017\n",
      "2025-04-26--01-15-29Converged at iteration: 142, Loss: 0.00017\n"
     ]
    },
    {
     "name": "stderr",
     "output_type": "stream",
     "text": [
      "\u001b[38;2;255;215;0m 50%\u001b[39m \u001b[38;2;255;215;0m60 of 120\u001b[39m |####################                    | Elapsed Time: 2:34:21"
     ]
    },
    {
     "name": "stdout",
     "output_type": "stream",
     "text": [
      "Saved SI_unitary=haar_Nmodes=15_Lz=5000.0_kcprog=6.89e+00_fresnel=False_seed=0.npz\n",
      "Average error for inverse design: 0.89%\n",
      "2025-04-26--01-15-34--Iteration: 0, Loss: 1.03335\n"
     ]
    },
    {
     "name": "stderr",
     "output_type": "stream",
     "text": [
      "\u001b[38;2;255;219;0m 50%\u001b[39m \u001b[38;2;255;219;0m61 of 120\u001b[39m |####################                    | Elapsed Time: 2:34:22"
     ]
    },
    {
     "name": "stdout",
     "output_type": "stream",
     "text": [
      "2025-04-26--01-15-34Converged at iteration: 4, Loss: 1.02831\n",
      "Saved SI_unitary=haar_Nmodes=26_Lz=10.0_kcprog=6.89e+00_fresnel=False_seed=0.npz\n",
      "Average error for inverse design: 112.05%\n",
      "2025-04-26--01-15-34--Iteration: 0, Loss: 1.03333\n"
     ]
    },
    {
     "name": "stderr",
     "output_type": "stream",
     "text": [
      "\u001b[38;2;255;224;0m 51%\u001b[39m \u001b[38;2;255;224;0m62 of 120\u001b[39m |####################                    | Elapsed Time: 2:34:23"
     ]
    },
    {
     "name": "stdout",
     "output_type": "stream",
     "text": [
      "2025-04-26--01-15-35Converged at iteration: 4, Loss: 1.02392\n",
      "Saved SI_unitary=haar_Nmodes=26_Lz=17.6_kcprog=6.89e+00_fresnel=False_seed=0.npz\n",
      "Average error for inverse design: 110.55%\n",
      "2025-04-26--01-15-35--Iteration: 0, Loss: 1.03331\n"
     ]
    },
    {
     "name": "stderr",
     "output_type": "stream",
     "text": [
      "\u001b[38;2;255;229;0m 52%\u001b[39m \u001b[38;2;255;229;0m63 of 120\u001b[39m |#####################                   | Elapsed Time: 2:34:24"
     ]
    },
    {
     "name": "stdout",
     "output_type": "stream",
     "text": [
      "2025-04-26--01-15-36Converged at iteration: 7, Loss: 1.00720\n",
      "Saved SI_unitary=haar_Nmodes=26_Lz=30.8_kcprog=6.89e+00_fresnel=False_seed=0.npz\n",
      "Average error for inverse design: 105.80%\n",
      "2025-04-26--01-15-37--Iteration: 0, Loss: 1.03327\n"
     ]
    },
    {
     "name": "stderr",
     "output_type": "stream",
     "text": [
      "\u001b[38;2;255;233;0m 53%\u001b[39m \u001b[38;2;255;233;0m64 of 120\u001b[39m |#####################                   | Elapsed Time: 2:34:27"
     ]
    },
    {
     "name": "stdout",
     "output_type": "stream",
     "text": [
      "2025-04-26--01-15-39--Iteration: 10, Loss: 0.98608\n",
      "2025-04-26--01-15-39Converged at iteration: 10, Loss: 0.98608\n",
      "Saved SI_unitary=haar_Nmodes=26_Lz=54.400000000000006_kcprog=6.89e+00_fresnel=False_seed=0.npz\n",
      "Average error for inverse design: 99.72%\n",
      "2025-04-26--01-15-40--Iteration: 0, Loss: 1.03328\n",
      "2025-04-26--01-15-43--Iteration: 10, Loss: 0.94429\n"
     ]
    },
    {
     "name": "stderr",
     "output_type": "stream",
     "text": [
      "\u001b[38;2;255;238;0m 54%\u001b[39m \u001b[38;2;255;238;0m65 of 120\u001b[39m |#####################                   | Elapsed Time: 2:34:32"
     ]
    },
    {
     "name": "stdout",
     "output_type": "stream",
     "text": [
      "2025-04-26--01-15-43Converged at iteration: 11, Loss: 0.94679\n",
      "Saved SI_unitary=haar_Nmodes=26_Lz=96.0_kcprog=6.89e+00_fresnel=False_seed=0.npz\n",
      "Average error for inverse design: 91.24%\n",
      "2025-04-26--01-15-44--Iteration: 0, Loss: 1.03326\n",
      "2025-04-26--01-15-50--Iteration: 10, Loss: 0.86441\n"
     ]
    },
    {
     "name": "stderr",
     "output_type": "stream",
     "text": [
      "\u001b[38;2;255;243;0m 55%\u001b[39m \u001b[38;2;255;243;0m66 of 120\u001b[39m |######################                  | Elapsed Time: 2:34:40"
     ]
    },
    {
     "name": "stdout",
     "output_type": "stream",
     "text": [
      "2025-04-26--01-15-51Converged at iteration: 12, Loss: 0.87323\n",
      "Saved SI_unitary=haar_Nmodes=26_Lz=168.4_kcprog=6.89e+00_fresnel=False_seed=0.npz\n",
      "Average error for inverse design: 82.33%\n",
      "2025-04-26--01-15-53--Iteration: 0, Loss: 1.03322\n",
      "2025-04-26--01-16-03--Iteration: 10, Loss: 0.73091\n",
      "2025-04-26--01-16-09Converged at iteration: 16, Loss: 0.73764\n"
     ]
    },
    {
     "name": "stderr",
     "output_type": "stream",
     "text": [
      "\u001b[38;2;255;247;0m 55%\u001b[39m \u001b[38;2;255;247;0m67 of 120\u001b[39m |######################                  | Elapsed Time: 2:34:57"
     ]
    },
    {
     "name": "stdout",
     "output_type": "stream",
     "text": [
      "Saved SI_unitary=haar_Nmodes=26_Lz=296.40000000000003_kcprog=6.89e+00_fresnel=False_seed=0.npz\n",
      "Average error for inverse design: 69.56%\n",
      "2025-04-26--01-16-11--Iteration: 0, Loss: 1.03303\n",
      "2025-04-26--01-16-29--Iteration: 10, Loss: 0.55545\n",
      "2025-04-26--01-16-38Converged at iteration: 15, Loss: 0.54457\n"
     ]
    },
    {
     "name": "stderr",
     "output_type": "stream",
     "text": [
      "\u001b[38;2;255;252;0m 56%\u001b[39m \u001b[38;2;255;252;0m68 of 120\u001b[39m |######################                  | Elapsed Time: 2:35:26"
     ]
    },
    {
     "name": "stdout",
     "output_type": "stream",
     "text": [
      "Saved SI_unitary=haar_Nmodes=26_Lz=522.0_kcprog=6.89e+00_fresnel=False_seed=0.npz\n",
      "Average error for inverse design: 54.86%\n",
      "2025-04-26--01-16-42--Iteration: 0, Loss: 1.03283\n",
      "2025-04-26--01-17-12--Iteration: 10, Loss: 0.32333\n",
      "2025-04-26--01-17-43--Iteration: 20, Loss: 0.26128\n",
      "2025-04-26--01-18-13--Iteration: 30, Loss: 0.20661\n",
      "2025-04-26--01-18-44--Iteration: 40, Loss: 0.18388\n",
      "2025-04-26--01-19-14--Iteration: 50, Loss: 0.17200\n",
      "2025-04-26--01-19-44--Iteration: 60, Loss: 0.16534\n",
      "2025-04-26--01-19-44Converged at iteration: 60, Loss: 0.16534\n"
     ]
    },
    {
     "name": "stderr",
     "output_type": "stream",
     "text": [
      "\u001b[38;2;255;257;0m 57%\u001b[39m \u001b[38;2;255;257;0m69 of 120\u001b[39m |#######################                 | Elapsed Time: 2:38:33"
     ]
    },
    {
     "name": "stdout",
     "output_type": "stream",
     "text": [
      "Saved SI_unitary=haar_Nmodes=26_Lz=918.0_kcprog=6.89e+00_fresnel=False_seed=0.npz\n",
      "Average error for inverse design: 27.30%\n",
      "2025-04-26--01-19-50--Iteration: 0, Loss: 1.03242\n",
      "2025-04-26--01-20-43--Iteration: 10, Loss: 0.14600\n",
      "2025-04-26--01-21-35--Iteration: 20, Loss: 0.06007\n",
      "2025-04-26--01-22-29--Iteration: 30, Loss: 0.04737\n",
      "2025-04-26--01-23-22--Iteration: 40, Loss: 0.02406\n",
      "2025-04-26--01-24-14--Iteration: 50, Loss: 0.01522\n",
      "2025-04-26--01-25-06--Iteration: 60, Loss: 0.01206\n",
      "2025-04-26--01-25-58--Iteration: 70, Loss: 0.01081\n",
      "2025-04-26--01-26-51--Iteration: 80, Loss: 0.01009\n",
      "2025-04-26--01-27-38Converged at iteration: 89, Loss: 0.00970\n"
     ]
    },
    {
     "name": "stderr",
     "output_type": "stream",
     "text": [
      "\u001b[38;2;251;255;0m 58%\u001b[39m \u001b[38;2;251;255;0m70 of 120\u001b[39m |#######################                 | Elapsed Time: 2:46:27"
     ]
    },
    {
     "name": "stdout",
     "output_type": "stream",
     "text": [
      "Saved SI_unitary=haar_Nmodes=26_Lz=1615.2_kcprog=6.89e+00_fresnel=False_seed=0.npz\n",
      "Average error for inverse design: 2.78%\n",
      "2025-04-26--01-27-49--Iteration: 0, Loss: 1.03178\n",
      "2025-04-26--01-29-19--Iteration: 10, Loss: 0.12292\n",
      "2025-04-26--01-30-47--Iteration: 20, Loss: 0.03106\n",
      "2025-04-26--01-32-15--Iteration: 30, Loss: 0.01386\n",
      "2025-04-26--01-33-44--Iteration: 40, Loss: 0.00700\n",
      "2025-04-26--01-35-13--Iteration: 50, Loss: 0.00345\n",
      "2025-04-26--01-36-44--Iteration: 60, Loss: 0.00203\n",
      "2025-04-26--01-38-12--Iteration: 70, Loss: 0.00136\n",
      "2025-04-26--01-39-42--Iteration: 80, Loss: 0.00101\n",
      "2025-04-26--01-41-13--Iteration: 90, Loss: 0.00086\n",
      "2025-04-26--01-42-42--Iteration: 100, Loss: 0.00077\n",
      "2025-04-26--01-44-07--Iteration: 110, Loss: 0.00073\n",
      "2025-04-26--01-45-36--Iteration: 120, Loss: 0.00069\n",
      "2025-04-26--01-46-21Converged at iteration: 125, Loss: 0.00068\n"
     ]
    },
    {
     "name": "stderr",
     "output_type": "stream",
     "text": [
      "\u001b[38;2;249;255;0m 59%\u001b[39m \u001b[38;2;249;255;0m71 of 120\u001b[39m |#######################                 | Elapsed Time: 3:05:11"
     ]
    },
    {
     "name": "stdout",
     "output_type": "stream",
     "text": [
      "Saved SI_unitary=haar_Nmodes=26_Lz=2842.0_kcprog=6.89e+00_fresnel=False_seed=0.npz\n",
      "Average error for inverse design: 0.55%\n",
      "2025-04-26--01-46-39--Iteration: 0, Loss: 1.03047\n",
      "2025-04-26--01-49-16--Iteration: 10, Loss: 0.12106\n",
      "2025-04-26--01-51-51--Iteration: 20, Loss: 0.05624\n",
      "2025-04-26--01-54-27--Iteration: 30, Loss: 0.02630\n",
      "2025-04-26--01-57-04--Iteration: 40, Loss: 0.01240\n",
      "2025-04-26--01-59-42--Iteration: 50, Loss: 0.00404\n",
      "2025-04-26--02-02-17--Iteration: 60, Loss: 0.00092\n",
      "2025-04-26--02-04-55--Iteration: 70, Loss: 0.00047\n",
      "2025-04-26--02-07-40--Iteration: 80, Loss: 0.00042\n",
      "2025-04-26--02-10-26--Iteration: 90, Loss: 0.00028\n",
      "2025-04-26--02-13-11--Iteration: 100, Loss: 0.00022\n",
      "2025-04-26--02-15-58--Iteration: 110, Loss: 0.00021\n",
      "2025-04-26--02-18-42--Iteration: 120, Loss: 0.00019\n",
      "2025-04-26--02-21-27--Iteration: 130, Loss: 0.00018\n",
      "2025-04-26--02-24-13--Iteration: 140, Loss: 0.00017\n",
      "2025-04-26--02-27-01--Iteration: 150, Loss: 0.00016\n",
      "2025-04-26--02-28-58Converged at iteration: 157, Loss: 0.00016\n"
     ]
    },
    {
     "name": "stderr",
     "output_type": "stream",
     "text": [
      "\u001b[38;2;247;255;0m 60%\u001b[39m \u001b[38;2;247;255;0m72 of 120\u001b[39m |########################                | Elapsed Time: 3:47:51"
     ]
    },
    {
     "name": "stdout",
     "output_type": "stream",
     "text": [
      "Saved SI_unitary=haar_Nmodes=26_Lz=5000.0_kcprog=6.89e+00_fresnel=False_seed=0.npz\n",
      "Average error for inverse design: 0.69%\n",
      "2025-04-26--02-29-03--Iteration: 0, Loss: 0.99405\n"
     ]
    },
    {
     "name": "stderr",
     "output_type": "stream",
     "text": [
      "\u001b[38;2;244;255;0m 60%\u001b[39m \u001b[38;2;244;255;0m73 of 120\u001b[39m |########################                | Elapsed Time: 3:47:52"
     ]
    },
    {
     "name": "stdout",
     "output_type": "stream",
     "text": [
      "2025-04-26--02-29-04Converged at iteration: 4, Loss: 0.99204\n",
      "Saved SI_unitary=haar_Nmodes=43_Lz=10.0_kcprog=6.89e+00_fresnel=False_seed=0.npz\n",
      "Average error for inverse design: 109.91%\n",
      "2025-04-26--02-29-05--Iteration: 0, Loss: 0.99404\n"
     ]
    },
    {
     "name": "stderr",
     "output_type": "stream",
     "text": [
      "\u001b[38;2;242;255;0m 61%\u001b[39m \u001b[38;2;242;255;0m74 of 120\u001b[39m |########################                | Elapsed Time: 3:47:53"
     ]
    },
    {
     "name": "stdout",
     "output_type": "stream",
     "text": [
      "2025-04-26--02-29-05Converged at iteration: 4, Loss: 0.98986\n",
      "Saved SI_unitary=haar_Nmodes=43_Lz=17.6_kcprog=6.89e+00_fresnel=False_seed=0.npz\n",
      "Average error for inverse design: 108.22%\n",
      "2025-04-26--02-29-06--Iteration: 0, Loss: 0.99403\n"
     ]
    },
    {
     "name": "stderr",
     "output_type": "stream",
     "text": [
      "\u001b[38;2;240;255;0m 62%\u001b[39m \u001b[38;2;240;255;0m75 of 120\u001b[39m |#########################               | Elapsed Time: 3:47:56"
     ]
    },
    {
     "name": "stdout",
     "output_type": "stream",
     "text": [
      "2025-04-26--02-29-07Converged at iteration: 4, Loss: 0.98658\n",
      "Saved SI_unitary=haar_Nmodes=43_Lz=30.8_kcprog=6.89e+00_fresnel=False_seed=0.npz\n",
      "Average error for inverse design: 105.65%\n",
      "2025-04-26--02-29-09--Iteration: 0, Loss: 0.99401\n"
     ]
    },
    {
     "name": "stderr",
     "output_type": "stream",
     "text": [
      "\u001b[38;2;237;255;0m 63%\u001b[39m \u001b[38;2;237;255;0m76 of 120\u001b[39m |#########################               | Elapsed Time: 3:47:59"
     ]
    },
    {
     "name": "stdout",
     "output_type": "stream",
     "text": [
      "2025-04-26--02-29-11Converged at iteration: 6, Loss: 0.97301\n",
      "Saved SI_unitary=haar_Nmodes=43_Lz=54.400000000000006_kcprog=6.89e+00_fresnel=False_seed=0.npz\n",
      "Average error for inverse design: 99.61%\n",
      "2025-04-26--02-29-13--Iteration: 0, Loss: 0.99398\n",
      "2025-04-26--02-29-19--Iteration: 10, Loss: 0.94775\n",
      "2025-04-26--02-29-19Converged at iteration: 10, Loss: 0.94775\n"
     ]
    },
    {
     "name": "stderr",
     "output_type": "stream",
     "text": [
      "\u001b[38;2;235;255;0m 64%\u001b[39m \u001b[38;2;235;255;0m77 of 120\u001b[39m |#########################               | Elapsed Time: 3:48:08"
     ]
    },
    {
     "name": "stdout",
     "output_type": "stream",
     "text": [
      "Saved SI_unitary=haar_Nmodes=43_Lz=96.0_kcprog=6.89e+00_fresnel=False_seed=0.npz\n",
      "Average error for inverse design: 88.70%\n",
      "2025-04-26--02-29-22--Iteration: 0, Loss: 0.99388\n",
      "2025-04-26--02-29-34--Iteration: 10, Loss: 0.90103\n",
      "2025-04-26--02-29-35Converged at iteration: 11, Loss: 0.90540\n"
     ]
    },
    {
     "name": "stderr",
     "output_type": "stream",
     "text": [
      "\u001b[38;2;233;255;0m 65%\u001b[39m \u001b[38;2;233;255;0m78 of 120\u001b[39m |##########################              | Elapsed Time: 3:48:23"
     ]
    },
    {
     "name": "stdout",
     "output_type": "stream",
     "text": [
      "Saved SI_unitary=haar_Nmodes=43_Lz=168.4_kcprog=6.89e+00_fresnel=False_seed=0.npz\n",
      "Average error for inverse design: 78.82%\n",
      "2025-04-26--02-29-38--Iteration: 0, Loss: 0.99372\n",
      "2025-04-26--02-29-57--Iteration: 10, Loss: 0.80597\n",
      "2025-04-26--02-30-07Converged at iteration: 15, Loss: 0.81441\n"
     ]
    },
    {
     "name": "stderr",
     "output_type": "stream",
     "text": [
      "\u001b[38;2;230;255;0m 65%\u001b[39m \u001b[38;2;230;255;0m79 of 120\u001b[39m |##########################              | Elapsed Time: 3:48:55"
     ]
    },
    {
     "name": "stdout",
     "output_type": "stream",
     "text": [
      "Saved SI_unitary=haar_Nmodes=43_Lz=296.40000000000003_kcprog=6.89e+00_fresnel=False_seed=0.npz\n",
      "Average error for inverse design: 71.29%\n",
      "2025-04-26--02-30-12--Iteration: 0, Loss: 0.99343\n",
      "2025-04-26--02-30-46--Iteration: 10, Loss: 0.65627\n",
      "2025-04-26--02-31-07Converged at iteration: 16, Loss: 0.66262\n"
     ]
    },
    {
     "name": "stderr",
     "output_type": "stream",
     "text": [
      "\u001b[38;2;228;255;0m 66%\u001b[39m \u001b[38;2;228;255;0m80 of 120\u001b[39m |##########################              | Elapsed Time: 3:49:56"
     ]
    },
    {
     "name": "stdout",
     "output_type": "stream",
     "text": [
      "Saved SI_unitary=haar_Nmodes=43_Lz=522.0_kcprog=6.89e+00_fresnel=False_seed=0.npz\n",
      "Average error for inverse design: 59.39%\n",
      "2025-04-26--02-31-15--Iteration: 0, Loss: 0.99287\n",
      "2025-04-26--02-32-15--Iteration: 10, Loss: 0.44913\n",
      "2025-04-26--02-32-52Converged at iteration: 16, Loss: 0.44595\n"
     ]
    },
    {
     "name": "stderr",
     "output_type": "stream",
     "text": [
      "\u001b[38;2;226;255;0m 67%\u001b[39m \u001b[38;2;226;255;0m81 of 120\u001b[39m |###########################             | Elapsed Time: 3:51:42"
     ]
    },
    {
     "name": "stdout",
     "output_type": "stream",
     "text": [
      "Saved SI_unitary=haar_Nmodes=43_Lz=918.0_kcprog=6.89e+00_fresnel=False_seed=0.npz\n",
      "Average error for inverse design: 46.60%\n",
      "2025-04-26--02-33-06--Iteration: 0, Loss: 0.99201\n",
      "2025-04-26--02-34-57--Iteration: 10, Loss: 0.23943\n",
      "2025-04-26--02-36-44--Iteration: 20, Loss: 0.14717\n",
      "2025-04-26--02-38-30--Iteration: 30, Loss: 0.09180\n",
      "2025-04-26--02-40-19--Iteration: 40, Loss: 0.06766\n",
      "2025-04-26--02-42-08--Iteration: 50, Loss: 0.05381\n",
      "2025-04-26--02-43-54--Iteration: 60, Loss: 0.04926\n",
      "2025-04-26--02-45-42--Iteration: 70, Loss: 0.04728\n",
      "2025-04-26--02-46-15Converged at iteration: 73, Loss: 0.04680\n"
     ]
    },
    {
     "name": "stderr",
     "output_type": "stream",
     "text": [
      "\u001b[38;2;223;255;0m 68%\u001b[39m \u001b[38;2;223;255;0m82 of 120\u001b[39m |###########################             | Elapsed Time: 4:05:06"
     ]
    },
    {
     "name": "stdout",
     "output_type": "stream",
     "text": [
      "Saved SI_unitary=haar_Nmodes=43_Lz=1615.2_kcprog=6.89e+00_fresnel=False_seed=0.npz\n",
      "Average error for inverse design: 10.27%\n",
      "2025-04-26--02-46-39--Iteration: 0, Loss: 0.99044\n",
      "2025-04-26--02-49-47--Iteration: 10, Loss: 0.15377\n",
      "2025-04-26--02-53-00--Iteration: 20, Loss: 0.03606\n",
      "2025-04-26--02-56-10--Iteration: 30, Loss: 0.02363\n",
      "2025-04-26--02-59-21--Iteration: 40, Loss: 0.01177\n",
      "2025-04-26--03-02-32--Iteration: 50, Loss: 0.00724\n",
      "2025-04-26--03-05-44--Iteration: 60, Loss: 0.00468\n",
      "2025-04-26--03-08-54--Iteration: 70, Loss: 0.00343\n",
      "2025-04-26--03-12-06--Iteration: 80, Loss: 0.00280\n",
      "2025-04-26--03-15-19--Iteration: 90, Loss: 0.00250\n",
      "2025-04-26--03-18-32--Iteration: 100, Loss: 0.00233\n",
      "2025-04-26--03-21-42--Iteration: 110, Loss: 0.00222\n",
      "2025-04-26--03-24-54--Iteration: 120, Loss: 0.00214\n",
      "2025-04-26--03-25-12Converged at iteration: 121, Loss: 0.00213\n"
     ]
    },
    {
     "name": "stderr",
     "output_type": "stream",
     "text": [
      "\u001b[38;2;221;255;0m 69%\u001b[39m \u001b[38;2;221;255;0m83 of 120\u001b[39m |###########################             | Elapsed Time: 4:44:06"
     ]
    },
    {
     "name": "stdout",
     "output_type": "stream",
     "text": [
      "Saved SI_unitary=haar_Nmodes=43_Lz=2842.0_kcprog=6.89e+00_fresnel=False_seed=0.npz\n",
      "Average error for inverse design: 0.85%\n",
      "2025-04-26--03-25-51--Iteration: 0, Loss: 0.98768\n",
      "2025-04-26--03-31-32--Iteration: 10, Loss: 0.31485\n",
      "2025-04-26--03-37-08--Iteration: 20, Loss: 0.08555\n",
      "2025-04-26--03-42-44--Iteration: 30, Loss: 0.03559\n",
      "2025-04-26--03-48-21--Iteration: 40, Loss: 0.01078\n",
      "2025-04-26--03-53-57--Iteration: 50, Loss: 0.00415\n",
      "2025-04-26--03-59-28--Iteration: 60, Loss: 0.00161\n",
      "2025-04-26--04-05-02--Iteration: 70, Loss: 0.00092\n",
      "2025-04-26--04-10-37--Iteration: 80, Loss: 0.00054\n",
      "2025-04-26--04-16-08--Iteration: 90, Loss: 0.00042\n",
      "2025-04-26--04-21-45--Iteration: 100, Loss: 0.00037\n",
      "2025-04-26--04-27-19--Iteration: 110, Loss: 0.00034\n",
      "2025-04-26--04-32-52--Iteration: 120, Loss: 0.00032\n",
      "2025-04-26--04-38-27--Iteration: 130, Loss: 0.00030\n",
      "2025-04-26--04-44-05--Iteration: 140, Loss: 0.00029\n",
      "2025-04-26--04-45-45Converged at iteration: 143, Loss: 0.00028\n"
     ]
    },
    {
     "name": "stderr",
     "output_type": "stream",
     "text": [
      "\u001b[38;2;219;255;0m 70%\u001b[39m \u001b[38;2;219;255;0m84 of 120\u001b[39m |############################            | Elapsed Time: 6:04:44"
     ]
    },
    {
     "name": "stdout",
     "output_type": "stream",
     "text": [
      "Saved SI_unitary=haar_Nmodes=43_Lz=5000.0_kcprog=6.89e+00_fresnel=False_seed=0.npz\n",
      "Average error for inverse design: 0.58%\n",
      "2025-04-26--04-45-58--Iteration: 0, Loss: 0.98502\n"
     ]
    },
    {
     "name": "stderr",
     "output_type": "stream",
     "text": [
      "\u001b[38;2;216;255;0m 70%\u001b[39m \u001b[38;2;216;255;0m85 of 120\u001b[39m |############################            | Elapsed Time: 6:04:47"
     ]
    },
    {
     "name": "stdout",
     "output_type": "stream",
     "text": [
      "2025-04-26--04-45-59Converged at iteration: 4, Loss: 0.98276\n",
      "Saved SI_unitary=haar_Nmodes=72_Lz=10.0_kcprog=6.89e+00_fresnel=False_seed=0.npz\n",
      "Average error for inverse design: 108.03%\n",
      "2025-04-26--04-46-01--Iteration: 0, Loss: 0.98502\n"
     ]
    },
    {
     "name": "stderr",
     "output_type": "stream",
     "text": [
      "\u001b[38;2;214;255;0m 71%\u001b[39m \u001b[38;2;214;255;0m86 of 120\u001b[39m |############################            | Elapsed Time: 6:04:50"
     ]
    },
    {
     "name": "stdout",
     "output_type": "stream",
     "text": [
      "2025-04-26--04-46-02Converged at iteration: 4, Loss: 0.98046\n",
      "Saved SI_unitary=haar_Nmodes=72_Lz=17.6_kcprog=6.89e+00_fresnel=False_seed=0.npz\n",
      "Average error for inverse design: 106.69%\n",
      "2025-04-26--04-46-04--Iteration: 0, Loss: 0.98502\n"
     ]
    },
    {
     "name": "stderr",
     "output_type": "stream",
     "text": [
      "\u001b[38;2;212;255;0m 72%\u001b[39m \u001b[38;2;212;255;0m87 of 120\u001b[39m |#############################           | Elapsed Time: 6:04:53"
     ]
    },
    {
     "name": "stdout",
     "output_type": "stream",
     "text": [
      "2025-04-26--04-46-05Converged at iteration: 4, Loss: 0.97699\n",
      "Saved SI_unitary=haar_Nmodes=72_Lz=30.8_kcprog=6.89e+00_fresnel=False_seed=0.npz\n",
      "Average error for inverse design: 104.87%\n",
      "2025-04-26--04-46-08--Iteration: 0, Loss: 0.98502\n",
      "2025-04-26--04-46-12Converged at iteration: 7, Loss: 0.95961\n"
     ]
    },
    {
     "name": "stderr",
     "output_type": "stream",
     "text": [
      "\u001b[38;2;209;255;0m 73%\u001b[39m \u001b[38;2;209;255;0m88 of 120\u001b[39m |#############################           | Elapsed Time: 6:05:01"
     ]
    },
    {
     "name": "stdout",
     "output_type": "stream",
     "text": [
      "Saved SI_unitary=haar_Nmodes=72_Lz=54.400000000000006_kcprog=6.89e+00_fresnel=False_seed=0.npz\n",
      "Average error for inverse design: 97.23%\n",
      "2025-04-26--04-46-15--Iteration: 0, Loss: 0.98497\n",
      "2025-04-26--04-46-26--Iteration: 10, Loss: 0.93667\n",
      "2025-04-26--04-46-26Converged at iteration: 10, Loss: 0.93667\n"
     ]
    },
    {
     "name": "stderr",
     "output_type": "stream",
     "text": [
      "\u001b[38;2;207;255;0m 74%\u001b[39m \u001b[38;2;207;255;0m89 of 120\u001b[39m |#############################           | Elapsed Time: 6:05:15"
     ]
    },
    {
     "name": "stdout",
     "output_type": "stream",
     "text": [
      "Saved SI_unitary=haar_Nmodes=72_Lz=96.0_kcprog=6.89e+00_fresnel=False_seed=0.npz\n",
      "Average error for inverse design: 88.22%\n",
      "2025-04-26--04-46-30--Iteration: 0, Loss: 0.98491\n",
      "2025-04-26--04-46-48--Iteration: 10, Loss: 0.89832\n",
      "2025-04-26--04-46-50Converged at iteration: 11, Loss: 0.90079\n"
     ]
    },
    {
     "name": "stderr",
     "output_type": "stream",
     "text": [
      "\u001b[38;2;205;255;0m 75%\u001b[39m \u001b[38;2;205;255;0m90 of 120\u001b[39m |##############################          | Elapsed Time: 6:05:38"
     ]
    },
    {
     "name": "stdout",
     "output_type": "stream",
     "text": [
      "Saved SI_unitary=haar_Nmodes=72_Lz=168.4_kcprog=6.89e+00_fresnel=False_seed=0.npz\n",
      "Average error for inverse design: 78.97%\n",
      "2025-04-26--04-46-55--Iteration: 0, Loss: 0.98480\n",
      "2025-04-26--04-47-27--Iteration: 10, Loss: 0.84300\n",
      "2025-04-26--04-47-33Converged at iteration: 12, Loss: 0.85231\n"
     ]
    },
    {
     "name": "stderr",
     "output_type": "stream",
     "text": [
      "\u001b[38;2;202;255;0m 75%\u001b[39m \u001b[38;2;202;255;0m91 of 120\u001b[39m |##############################          | Elapsed Time: 6:06:22"
     ]
    },
    {
     "name": "stdout",
     "output_type": "stream",
     "text": [
      "Saved SI_unitary=haar_Nmodes=72_Lz=296.40000000000003_kcprog=6.89e+00_fresnel=False_seed=0.npz\n",
      "Average error for inverse design: 70.41%\n",
      "2025-04-26--04-47-41--Iteration: 0, Loss: 0.98473\n",
      "2025-04-26--04-48-35--Iteration: 10, Loss: 0.72554\n",
      "2025-04-26--04-49-01Converged at iteration: 15, Loss: 0.72612\n"
     ]
    },
    {
     "name": "stderr",
     "output_type": "stream",
     "text": [
      "\u001b[38;2;200;255;0m 76%\u001b[39m \u001b[38;2;200;255;0m92 of 120\u001b[39m |##############################          | Elapsed Time: 6:07:51"
     ]
    },
    {
     "name": "stdout",
     "output_type": "stream",
     "text": [
      "Saved SI_unitary=haar_Nmodes=72_Lz=522.0_kcprog=6.89e+00_fresnel=False_seed=0.npz\n",
      "Average error for inverse design: 61.79%\n",
      "2025-04-26--04-49-14--Iteration: 0, Loss: 0.98448\n",
      "2025-04-26--04-50-49--Iteration: 10, Loss: 0.57151\n",
      "2025-04-26--04-52-23--Iteration: 20, Loss: 0.52739\n",
      "2025-04-26--04-53-57--Iteration: 30, Loss: 0.47992\n",
      "2025-04-26--04-55-29--Iteration: 40, Loss: 0.45337\n",
      "2025-04-26--04-56-06Converged at iteration: 44, Loss: 0.44700\n"
     ]
    },
    {
     "name": "stderr",
     "output_type": "stream",
     "text": [
      "\u001b[38;2;198;255;0m 77%\u001b[39m \u001b[38;2;198;255;0m93 of 120\u001b[39m |###############################         | Elapsed Time: 6:14:58"
     ]
    },
    {
     "name": "stdout",
     "output_type": "stream",
     "text": [
      "Saved SI_unitary=haar_Nmodes=72_Lz=918.0_kcprog=6.89e+00_fresnel=False_seed=0.npz\n",
      "Average error for inverse design: 49.52%\n",
      "2025-04-26--04-56-28--Iteration: 0, Loss: 0.98405\n",
      "2025-04-26--04-59-18--Iteration: 10, Loss: 0.33820\n",
      "2025-04-26--05-02-04--Iteration: 20, Loss: 0.26852\n",
      "2025-04-26--05-04-50--Iteration: 30, Loss: 0.20475\n",
      "2025-04-26--05-07-35--Iteration: 40, Loss: 0.17724\n",
      "2025-04-26--05-10-25--Iteration: 50, Loss: 0.16051\n",
      "2025-04-26--05-13-10--Iteration: 60, Loss: 0.15233\n",
      "2025-04-26--05-14-00Converged at iteration: 63, Loss: 0.15077\n"
     ]
    },
    {
     "name": "stderr",
     "output_type": "stream",
     "text": [
      "\u001b[38;2;195;255;0m 78%\u001b[39m \u001b[38;2;195;255;0m94 of 120\u001b[39m |###############################         | Elapsed Time: 6:32:54"
     ]
    },
    {
     "name": "stdout",
     "output_type": "stream",
     "text": [
      "Saved SI_unitary=haar_Nmodes=72_Lz=1615.2_kcprog=6.89e+00_fresnel=False_seed=0.npz\n",
      "Average error for inverse design: 25.78%\n",
      "2025-04-26--05-14-38--Iteration: 0, Loss: 0.98329\n",
      "2025-04-26--05-19-37--Iteration: 10, Loss: 0.21957\n",
      "2025-04-26--05-24-40--Iteration: 20, Loss: 0.08623\n",
      "2025-04-26--05-29-36--Iteration: 30, Loss: 0.04893\n",
      "2025-04-26--05-34-33--Iteration: 40, Loss: 0.03030\n",
      "2025-04-26--05-39-31--Iteration: 50, Loss: 0.01863\n",
      "2025-04-26--05-44-28--Iteration: 60, Loss: 0.01361\n",
      "2025-04-26--05-49-25--Iteration: 70, Loss: 0.01170\n",
      "2025-04-26--05-54-21--Iteration: 80, Loss: 0.01056\n",
      "2025-04-26--05-59-19--Iteration: 90, Loss: 0.00994\n",
      "2025-04-26--06-04-15--Iteration: 100, Loss: 0.00952\n",
      "2025-04-26--06-06-17Converged at iteration: 104, Loss: 0.00939\n"
     ]
    },
    {
     "name": "stderr",
     "output_type": "stream",
     "text": [
      "\u001b[38;2;193;255;0m 79%\u001b[39m \u001b[38;2;193;255;0m95 of 120\u001b[39m |###############################         | Elapsed Time: 7:25:15"
     ]
    },
    {
     "name": "stdout",
     "output_type": "stream",
     "text": [
      "Saved SI_unitary=haar_Nmodes=72_Lz=2842.0_kcprog=6.89e+00_fresnel=False_seed=0.npz\n",
      "Average error for inverse design: 2.86%\n",
      "2025-04-26--06-07-21--Iteration: 0, Loss: 0.98196\n",
      "2025-04-26--06-16-13--Iteration: 10, Loss: 0.69424\n",
      "2025-04-26--06-25-06--Iteration: 20, Loss: 0.33121\n",
      "2025-04-26--06-34-01--Iteration: 30, Loss: 0.10993\n",
      "2025-04-26--06-42-57--Iteration: 40, Loss: 0.04824\n",
      "2025-04-26--06-51-53--Iteration: 50, Loss: 0.01347\n",
      "2025-04-26--07-00-46--Iteration: 60, Loss: 0.00511\n",
      "2025-04-26--07-09-42--Iteration: 70, Loss: 0.00379\n",
      "2025-04-26--07-18-39--Iteration: 80, Loss: 0.00195\n",
      "2025-04-26--07-27-34--Iteration: 90, Loss: 0.00160\n",
      "2025-04-26--07-36-27--Iteration: 100, Loss: 0.00133\n",
      "2025-04-26--07-45-17--Iteration: 110, Loss: 0.00123\n",
      "2025-04-26--07-54-13--Iteration: 120, Loss: 0.00115\n",
      "2025-04-26--08-03-12--Iteration: 130, Loss: 0.00110\n",
      "2025-04-26--08-12-02--Iteration: 140, Loss: 0.00105\n",
      "2025-04-26--08-20-45--Iteration: 150, Loss: 0.00101\n",
      "2025-04-26--08-20-45Converged at iteration: 150, Loss: 0.00101\n"
     ]
    },
    {
     "name": "stderr",
     "output_type": "stream",
     "text": [
      "\u001b[38;2;190;255;0m 80%\u001b[39m \u001b[38;2;190;255;0m96 of 120\u001b[39m |################################        | Elapsed Time: 9:39:50"
     ]
    },
    {
     "name": "stdout",
     "output_type": "stream",
     "text": [
      "Saved SI_unitary=haar_Nmodes=72_Lz=5000.0_kcprog=6.89e+00_fresnel=False_seed=0.npz\n",
      "Average error for inverse design: 0.89%\n",
      "2025-04-26--08-21-07--Iteration: 0, Loss: 0.97783\n"
     ]
    },
    {
     "name": "stderr",
     "output_type": "stream",
     "text": [
      "\u001b[38;2;188;255;0m 80%\u001b[39m \u001b[38;2;188;255;0m97 of 120\u001b[39m |################################        | Elapsed Time: 9:39:56"
     ]
    },
    {
     "name": "stdout",
     "output_type": "stream",
     "text": [
      "2025-04-26--08-21-08Converged at iteration: 4, Loss: 0.97564\n",
      "Saved SI_unitary=haar_Nmodes=120_Lz=10.0_kcprog=6.89e+00_fresnel=False_seed=0.npz\n",
      "Average error for inverse design: 105.77%\n",
      "2025-04-26--08-21-13--Iteration: 0, Loss: 0.97782\n"
     ]
    },
    {
     "name": "stderr",
     "output_type": "stream",
     "text": [
      "\u001b[38;2;186;255;0m 81%\u001b[39m \u001b[38;2;186;255;0m98 of 120\u001b[39m |################################        | Elapsed Time: 9:40:02"
     ]
    },
    {
     "name": "stdout",
     "output_type": "stream",
     "text": [
      "2025-04-26--08-21-14Converged at iteration: 4, Loss: 0.97410\n",
      "Saved SI_unitary=haar_Nmodes=120_Lz=17.6_kcprog=6.89e+00_fresnel=False_seed=0.npz\n",
      "Average error for inverse design: 104.08%\n",
      "2025-04-26--08-21-19--Iteration: 0, Loss: 0.97781\n"
     ]
    },
    {
     "name": "stderr",
     "output_type": "stream",
     "text": [
      "\u001b[38;2;183;255;0m 82%\u001b[39m \u001b[38;2;183;255;0m99 of 120\u001b[39m |#################################       | Elapsed Time: 9:40:10"
     ]
    },
    {
     "name": "stdout",
     "output_type": "stream",
     "text": [
      "2025-04-26--08-21-21Converged at iteration: 4, Loss: 0.97195\n",
      "Saved SI_unitary=haar_Nmodes=120_Lz=30.8_kcprog=6.89e+00_fresnel=False_seed=0.npz\n",
      "Average error for inverse design: 101.65%\n",
      "2025-04-26--08-21-27--Iteration: 0, Loss: 0.97779\n",
      "2025-04-26--08-21-31Converged at iteration: 4, Loss: 0.96766\n"
     ]
    },
    {
     "name": "stderr",
     "output_type": "stream",
     "text": [
      "\u001b[38;2;181;255;0m 83%\u001b[39m \u001b[38;2;181;255;0m100 of 120\u001b[39m |################################       | Elapsed Time: 9:40:19"
     ]
    },
    {
     "name": "stdout",
     "output_type": "stream",
     "text": [
      "Saved SI_unitary=haar_Nmodes=120_Lz=54.400000000000006_kcprog=6.89e+00_fresnel=False_seed=0.npz\n",
      "Average error for inverse design: 98.16%\n",
      "2025-04-26--08-21-36--Iteration: 0, Loss: 0.97777\n",
      "2025-04-26--08-21-48Converged at iteration: 8, Loss: 0.94804\n"
     ]
    },
    {
     "name": "stderr",
     "output_type": "stream",
     "text": [
      "\u001b[38;2;179;255;0m 84%\u001b[39m \u001b[38;2;179;255;0m101 of 120\u001b[39m |################################       | Elapsed Time: 9:40:37"
     ]
    },
    {
     "name": "stdout",
     "output_type": "stream",
     "text": [
      "Saved SI_unitary=haar_Nmodes=120_Lz=96.0_kcprog=6.89e+00_fresnel=False_seed=0.npz\n",
      "Average error for inverse design: 85.79%\n",
      "2025-04-26--08-21-56--Iteration: 0, Loss: 0.97774\n",
      "2025-04-26--08-22-22--Iteration: 10, Loss: 0.93268\n",
      "2025-04-26--08-22-22Converged at iteration: 10, Loss: 0.93268\n"
     ]
    },
    {
     "name": "stderr",
     "output_type": "stream",
     "text": [
      "\u001b[38;2;177;255;0m 85%\u001b[39m \u001b[38;2;177;255;0m102 of 120\u001b[39m |#################################      | Elapsed Time: 9:41:11"
     ]
    },
    {
     "name": "stdout",
     "output_type": "stream",
     "text": [
      "Saved SI_unitary=haar_Nmodes=120_Lz=168.4_kcprog=6.89e+00_fresnel=False_seed=0.npz\n",
      "Average error for inverse design: 77.52%\n",
      "2025-04-26--08-22-32--Iteration: 0, Loss: 0.97765\n",
      "2025-04-26--08-23-19--Iteration: 10, Loss: 0.87744\n",
      "2025-04-26--08-23-28Converged at iteration: 12, Loss: 0.88279\n"
     ]
    },
    {
     "name": "stderr",
     "output_type": "stream",
     "text": [
      "\u001b[38;2;174;255;0m 85%\u001b[39m \u001b[38;2;174;255;0m103 of 120\u001b[39m |#################################      | Elapsed Time: 9:42:17"
     ]
    },
    {
     "name": "stdout",
     "output_type": "stream",
     "text": [
      "Saved SI_unitary=haar_Nmodes=120_Lz=296.40000000000003_kcprog=6.89e+00_fresnel=False_seed=0.npz\n",
      "Average error for inverse design: 70.12%\n",
      "2025-04-26--08-23-42--Iteration: 0, Loss: 0.97751\n",
      "2025-04-26--08-25-01--Iteration: 10, Loss: 0.78962\n",
      "2025-04-26--08-25-24Converged at iteration: 13, Loss: 0.79924\n"
     ]
    },
    {
     "name": "stderr",
     "output_type": "stream",
     "text": [
      "\u001b[38;2;172;255;0m 86%\u001b[39m \u001b[38;2;172;255;0m104 of 120\u001b[39m |#################################      | Elapsed Time: 9:44:15"
     ]
    },
    {
     "name": "stdout",
     "output_type": "stream",
     "text": [
      "Saved SI_unitary=haar_Nmodes=120_Lz=522.0_kcprog=6.89e+00_fresnel=False_seed=0.npz\n",
      "Average error for inverse design: 62.86%\n",
      "2025-04-26--08-25-45--Iteration: 0, Loss: 0.97725\n",
      "2025-04-26--08-28-06--Iteration: 10, Loss: 0.65942\n",
      "2025-04-26--08-29-02Converged at iteration: 14, Loss: 0.66184\n"
     ]
    },
    {
     "name": "stderr",
     "output_type": "stream",
     "text": [
      "\u001b[38;2;170;255;0m 87%\u001b[39m \u001b[38;2;170;255;0m105 of 120\u001b[39m |##################################     | Elapsed Time: 9:47:55"
     ]
    },
    {
     "name": "stdout",
     "output_type": "stream",
     "text": [
      "Saved SI_unitary=haar_Nmodes=120_Lz=918.0_kcprog=6.89e+00_fresnel=False_seed=0.npz\n",
      "Average error for inverse design: 54.92%\n",
      "2025-04-26--08-29-37--Iteration: 0, Loss: 0.97678\n",
      "2025-04-26--08-33-46--Iteration: 10, Loss: 0.45484\n",
      "2025-04-26--08-38-01--Iteration: 20, Loss: 0.38570\n",
      "2025-04-26--08-42-13--Iteration: 30, Loss: 0.32043\n",
      "2025-04-26--08-46-24--Iteration: 40, Loss: 0.29173\n",
      "2025-04-26--08-50-31--Iteration: 50, Loss: 0.27789\n",
      "2025-04-26--08-51-47Converged at iteration: 53, Loss: 0.27506\n"
     ]
    },
    {
     "name": "stderr",
     "output_type": "stream",
     "text": [
      "\u001b[38;2;167;255;0m 88%\u001b[39m \u001b[38;2;167;255;0m106 of 120\u001b[39m |#################################     | Elapsed Time: 10:10:44"
     ]
    },
    {
     "name": "stdout",
     "output_type": "stream",
     "text": [
      "Saved SI_unitary=haar_Nmodes=120_Lz=1615.2_kcprog=6.89e+00_fresnel=False_seed=0.npz\n",
      "Average error for inverse design: 40.04%\n",
      "2025-04-26--08-52-46--Iteration: 0, Loss: 0.97595\n",
      "2025-04-26--09-00-14--Iteration: 10, Loss: 0.34802\n",
      "2025-04-26--09-07-35--Iteration: 20, Loss: 0.19600\n",
      "2025-04-26--09-15-12--Iteration: 30, Loss: 0.13249\n",
      "2025-04-26--09-22-46--Iteration: 40, Loss: 0.09410\n",
      "2025-04-26--09-30-20--Iteration: 50, Loss: 0.07119\n",
      "2025-04-26--09-37-54--Iteration: 60, Loss: 0.05970\n",
      "2025-04-26--09-45-29--Iteration: 70, Loss: 0.05338\n",
      "2025-04-26--09-53-04--Iteration: 80, Loss: 0.04981\n",
      "2025-04-26--10-00-40--Iteration: 90, Loss: 0.04766\n",
      "2025-04-26--10-02-56Converged at iteration: 93, Loss: 0.04719\n"
     ]
    },
    {
     "name": "stderr",
     "output_type": "stream",
     "text": [
      "\u001b[38;2;165;255;0m 89%\u001b[39m \u001b[38;2;165;255;0m107 of 120\u001b[39m |#################################     | Elapsed Time: 11:21:58"
     ]
    },
    {
     "name": "stdout",
     "output_type": "stream",
     "text": [
      "Saved SI_unitary=haar_Nmodes=120_Lz=2842.0_kcprog=6.89e+00_fresnel=False_seed=0.npz\n",
      "Average error for inverse design: 11.64%\n",
      "2025-04-26--10-04-36--Iteration: 0, Loss: 0.97453\n",
      "2025-04-26--10-18-02--Iteration: 10, Loss: 0.46480\n",
      "2025-04-26--10-31-27--Iteration: 20, Loss: 0.31642\n",
      "2025-04-26--10-44-56--Iteration: 30, Loss: 0.17547\n",
      "2025-04-26--10-58-25--Iteration: 40, Loss: 0.09200\n",
      "2025-04-26--11-11-52--Iteration: 50, Loss: 0.04887\n",
      "2025-04-26--11-25-14--Iteration: 60, Loss: 0.02458\n",
      "2025-04-26--11-38-40--Iteration: 70, Loss: 0.01289\n",
      "2025-04-26--11-52-10--Iteration: 80, Loss: 0.00852\n",
      "2025-04-26--12-05-35--Iteration: 90, Loss: 0.00667\n",
      "2025-04-26--12-18-57--Iteration: 100, Loss: 0.00565\n",
      "2025-04-26--12-32-22--Iteration: 110, Loss: 0.00506\n",
      "2025-04-26--12-45-50--Iteration: 120, Loss: 0.00470\n",
      "2025-04-26--12-59-21--Iteration: 130, Loss: 0.00445\n",
      "2025-04-26--13-12-45--Iteration: 140, Loss: 0.00426\n",
      "2025-04-26--13-23-32Converged at iteration: 148, Loss: 0.00414\n"
     ]
    },
    {
     "name": "stderr",
     "output_type": "stream",
     "text": [
      "\u001b[38;2;162;255;0m 90%\u001b[39m \u001b[38;2;162;255;0m108 of 120\u001b[39m |##################################    | Elapsed Time: 14:42:46"
     ]
    },
    {
     "name": "stdout",
     "output_type": "stream",
     "text": [
      "Saved SI_unitary=haar_Nmodes=120_Lz=5000.0_kcprog=6.89e+00_fresnel=False_seed=0.npz\n",
      "Average error for inverse design: 1.95%\n",
      "2025-04-26--13-24-18--Iteration: 0, Loss: 1.00012\n"
     ]
    },
    {
     "name": "stderr",
     "output_type": "stream",
     "text": [
      "\u001b[38;2;160;255;0m 90%\u001b[39m \u001b[38;2;160;255;0m109 of 120\u001b[39m |##################################    | Elapsed Time: 14:43:08"
     ]
    },
    {
     "name": "stdout",
     "output_type": "stream",
     "text": [
      "2025-04-26--13-24-20Converged at iteration: 4, Loss: 0.99863\n",
      "Saved SI_unitary=haar_Nmodes=200_Lz=10.0_kcprog=6.89e+00_fresnel=False_seed=0.npz\n",
      "Average error for inverse design: 104.27%\n",
      "2025-04-26--13-24-41--Iteration: 0, Loss: 1.00011\n",
      "2025-04-26--13-24-43Converged at iteration: 4, Loss: 0.99700\n"
     ]
    },
    {
     "name": "stderr",
     "output_type": "stream",
     "text": [
      "\u001b[38;2;102;255;0m 91%\u001b[39m \u001b[38;2;102;255;0m110 of 120\u001b[39m |##################################    | Elapsed Time: 14:43:31"
     ]
    },
    {
     "name": "stdout",
     "output_type": "stream",
     "text": [
      "Saved SI_unitary=haar_Nmodes=200_Lz=17.6_kcprog=6.89e+00_fresnel=False_seed=0.npz\n",
      "Average error for inverse design: 102.64%\n",
      "2025-04-26--13-25-02--Iteration: 0, Loss: 1.00010\n",
      "2025-04-26--13-25-06Converged at iteration: 4, Loss: 0.99455\n"
     ]
    },
    {
     "name": "stderr",
     "output_type": "stream",
     "text": [
      "\u001b[38;2;91;255;0m 92%\u001b[39m \u001b[38;2;91;255;0m111 of 120\u001b[39m |###################################   | Elapsed Time: 14:43:54"
     ]
    },
    {
     "name": "stdout",
     "output_type": "stream",
     "text": [
      "Saved SI_unitary=haar_Nmodes=200_Lz=30.8_kcprog=6.89e+00_fresnel=False_seed=0.npz\n",
      "Average error for inverse design: 100.24%\n",
      "2025-04-26--13-25-27--Iteration: 0, Loss: 1.00010\n",
      "2025-04-26--13-25-33Converged at iteration: 4, Loss: 0.99079\n"
     ]
    },
    {
     "name": "stderr",
     "output_type": "stream",
     "text": [
      "\u001b[38;2;81;255;0m 93%\u001b[39m \u001b[38;2;81;255;0m112 of 120\u001b[39m |###################################   | Elapsed Time: 14:44:21"
     ]
    },
    {
     "name": "stdout",
     "output_type": "stream",
     "text": [
      "Saved SI_unitary=haar_Nmodes=200_Lz=54.400000000000006_kcprog=6.89e+00_fresnel=False_seed=0.npz\n",
      "Average error for inverse design: 97.05%\n",
      "2025-04-26--13-25-55--Iteration: 0, Loss: 1.00009\n",
      "2025-04-26--13-26-15Converged at iteration: 8, Loss: 0.97304\n"
     ]
    },
    {
     "name": "stderr",
     "output_type": "stream",
     "text": [
      "\u001b[38;2;71;255;0m 94%\u001b[39m \u001b[38;2;71;255;0m113 of 120\u001b[39m |###################################   | Elapsed Time: 14:45:04"
     ]
    },
    {
     "name": "stdout",
     "output_type": "stream",
     "text": [
      "Saved SI_unitary=haar_Nmodes=200_Lz=96.0_kcprog=6.89e+00_fresnel=False_seed=0.npz\n",
      "Average error for inverse design: 85.11%\n",
      "2025-04-26--13-26-39--Iteration: 0, Loss: 1.00007\n",
      "2025-04-26--13-27-22--Iteration: 10, Loss: 0.95146\n",
      "2025-04-26--13-27-22Converged at iteration: 10, Loss: 0.95146\n"
     ]
    },
    {
     "name": "stderr",
     "output_type": "stream",
     "text": [
      "\u001b[38;2;61;255;0m 95%\u001b[39m \u001b[38;2;61;255;0m114 of 120\u001b[39m |####################################  | Elapsed Time: 14:46:12"
     ]
    },
    {
     "name": "stdout",
     "output_type": "stream",
     "text": [
      "Saved SI_unitary=haar_Nmodes=200_Lz=168.4_kcprog=6.89e+00_fresnel=False_seed=0.npz\n",
      "Average error for inverse design: 76.79%\n",
      "2025-04-26--13-27-50--Iteration: 0, Loss: 1.00000\n",
      "2025-04-26--13-29-07--Iteration: 10, Loss: 0.90503\n",
      "2025-04-26--13-29-22Converged at iteration: 12, Loss: 0.90649\n"
     ]
    },
    {
     "name": "stderr",
     "output_type": "stream",
     "text": [
      "\u001b[38;2;51;255;0m 95%\u001b[39m \u001b[38;2;51;255;0m115 of 120\u001b[39m |####################################  | Elapsed Time: 14:48:13"
     ]
    },
    {
     "name": "stdout",
     "output_type": "stream",
     "text": [
      "Saved SI_unitary=haar_Nmodes=200_Lz=296.40000000000003_kcprog=6.89e+00_fresnel=False_seed=0.npz\n",
      "Average error for inverse design: 69.87%\n",
      "2025-04-26--13-29-58--Iteration: 0, Loss: 0.99992\n",
      "2025-04-26--13-32-15--Iteration: 10, Loss: 0.83498\n",
      "2025-04-26--13-32-55Converged at iteration: 13, Loss: 0.83885\n"
     ]
    },
    {
     "name": "stderr",
     "output_type": "stream",
     "text": [
      "\u001b[38;2;40;255;0m 96%\u001b[39m \u001b[38;2;40;255;0m116 of 120\u001b[39m |####################################  | Elapsed Time: 14:51:48"
     ]
    },
    {
     "name": "stdout",
     "output_type": "stream",
     "text": [
      "Saved SI_unitary=haar_Nmodes=200_Lz=522.0_kcprog=6.89e+00_fresnel=False_seed=0.npz\n",
      "Average error for inverse design: 62.98%\n",
      "2025-04-26--13-33-44--Iteration: 0, Loss: 0.99976\n",
      "2025-04-26--13-37-46--Iteration: 10, Loss: 0.72280\n",
      "2025-04-26--13-39-24Converged at iteration: 14, Loss: 0.72291\n"
     ]
    },
    {
     "name": "stderr",
     "output_type": "stream",
     "text": [
      "\u001b[38;2;30;255;0m 97%\u001b[39m \u001b[38;2;30;255;0m117 of 120\u001b[39m |##################################### | Elapsed Time: 14:58:20"
     ]
    },
    {
     "name": "stdout",
     "output_type": "stream",
     "text": [
      "Saved SI_unitary=haar_Nmodes=200_Lz=918.0_kcprog=6.89e+00_fresnel=False_seed=0.npz\n",
      "Average error for inverse design: 57.26%\n",
      "2025-04-26--13-40-37--Iteration: 0, Loss: 0.99949\n",
      "2025-04-26--13-47-50--Iteration: 10, Loss: 0.56479\n",
      "2025-04-26--13-55-03--Iteration: 20, Loss: 0.48408\n",
      "2025-04-26--14-02-18--Iteration: 30, Loss: 0.40911\n",
      "2025-04-26--14-09-09--Iteration: 40, Loss: 0.37714\n",
      "2025-04-26--14-12-07Converged at iteration: 44, Loss: 0.37194\n"
     ]
    },
    {
     "name": "stderr",
     "output_type": "stream",
     "text": [
      "\u001b[38;2;20;255;0m 98%\u001b[39m \u001b[38;2;20;255;0m118 of 120\u001b[39m |##################################### | Elapsed Time: 15:31:09"
     ]
    },
    {
     "name": "stdout",
     "output_type": "stream",
     "text": [
      "Saved SI_unitary=haar_Nmodes=200_Lz=1615.2_kcprog=6.89e+00_fresnel=False_seed=0.npz\n",
      "Average error for inverse design: 48.11%\n",
      "2025-04-26--14-13-54--Iteration: 0, Loss: 0.99899\n",
      "2025-04-26--14-26-09--Iteration: 10, Loss: 0.46874\n",
      "2025-04-26--14-38-24--Iteration: 20, Loss: 0.30980\n",
      "2025-04-26--14-51-04--Iteration: 30, Loss: 0.23734\n",
      "2025-04-26--15-03-50--Iteration: 40, Loss: 0.18972\n",
      "2025-04-26--15-16-36--Iteration: 50, Loss: 0.16315\n",
      "2025-04-26--15-29-18--Iteration: 60, Loss: 0.14985\n",
      "2025-04-26--15-42-05--Iteration: 70, Loss: 0.14222\n",
      "2025-04-26--15-48-27Converged at iteration: 75, Loss: 0.13969\n"
     ]
    },
    {
     "name": "stderr",
     "output_type": "stream",
     "text": [
      "\u001b[38;2;10;255;0m 99%\u001b[39m \u001b[38;2;10;255;0m119 of 120\u001b[39m |##################################### | Elapsed Time: 17:07:40"
     ]
    },
    {
     "name": "stdout",
     "output_type": "stream",
     "text": [
      "Saved SI_unitary=haar_Nmodes=200_Lz=2842.0_kcprog=6.89e+00_fresnel=False_seed=0.npz\n",
      "Average error for inverse design: 28.77%\n",
      "2025-04-26--15-52-03--Iteration: 0, Loss: 0.99812\n",
      "2025-04-26--16-20-35--Iteration: 10, Loss: 0.58436\n",
      "2025-04-26--16-49-10--Iteration: 20, Loss: 0.37322\n",
      "2025-04-26--17-17-48--Iteration: 30, Loss: 0.25069\n",
      "2025-04-26--17-46-31--Iteration: 40, Loss: 0.17113\n",
      "2025-04-26--18-15-08--Iteration: 50, Loss: 0.10540\n",
      "2025-04-26--18-43-46--Iteration: 60, Loss: 0.06966\n",
      "2025-04-26--19-12-29--Iteration: 70, Loss: 0.04806\n",
      "2025-04-26--19-40-57--Iteration: 80, Loss: 0.03506\n",
      "2025-04-26--20-09-34--Iteration: 90, Loss: 0.02700\n",
      "2025-04-26--20-38-13--Iteration: 100, Loss: 0.02236\n",
      "2025-04-26--21-06-21--Iteration: 110, Loss: 0.01962\n",
      "2025-04-26--21-34-51--Iteration: 120, Loss: 0.01792\n",
      "2025-04-26--22-03-29--Iteration: 130, Loss: 0.01680\n",
      "2025-04-26--22-32-07--Iteration: 140, Loss: 0.01600\n",
      "2025-04-26--23-00-48--Iteration: 150, Loss: 0.01541\n",
      "2025-04-26--23-03-41Converged at iteration: 151, Loss: 0.01536\n"
     ]
    },
    {
     "name": "stderr",
     "output_type": "stream",
     "text": [
      "\u001b[38;2;0;255;0m100%\u001b[39m \u001b[38;2;0;255;0m120 of 120\u001b[39m |################################| Elapsed Time: 1 day, 0:23:20\n"
     ]
    },
    {
     "name": "stdout",
     "output_type": "stream",
     "text": [
      "Saved SI_unitary=haar_Nmodes=200_Lz=5000.0_kcprog=6.89e+00_fresnel=False_seed=0.npz\n",
      "Average error for inverse design: 5.78%\n"
     ]
    }
   ],
   "source": [
    "avg_error_invdes_mat = sweep_product(avg_error_invdes, seed_list, fresnel_list, k_cprog_list, Nmodes_list, Lz_list, unitary_type_list, waveguide_type_list)"
   ]
  }
 ],
 "metadata": {
  "kernelspec": {
   "display_name": "Python 3 (ipykernel)",
   "language": "python",
   "name": "python3"
  },
  "language_info": {
   "codemirror_mode": {
    "name": "ipython",
    "version": 3
   },
   "file_extension": ".py",
   "mimetype": "text/x-python",
   "name": "python",
   "nbconvert_exporter": "python",
   "pygments_lexer": "ipython3",
   "version": "3.12.7"
  }
 },
 "nbformat": 4,
 "nbformat_minor": 5
}
