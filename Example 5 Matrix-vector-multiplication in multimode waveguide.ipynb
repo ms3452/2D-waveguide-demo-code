{
 "cells": [
  {
   "cell_type": "code",
   "execution_count": 1,
   "id": "9e7722c7-fe1c-4ce4-b687-56804baf8994",
   "metadata": {
    "execution": {
     "iopub.execute_input": "2025-10-01T15:25:43.002932Z",
     "iopub.status.busy": "2025-10-01T15:25:43.001934Z",
     "iopub.status.idle": "2025-10-01T15:25:47.089719Z",
     "shell.execute_reply": "2025-10-01T15:25:47.089719Z",
     "shell.execute_reply.started": "2025-10-01T15:25:43.002932Z"
    }
   },
   "outputs": [],
   "source": [
    "import torch\n",
    "import torch.nn as nn\n",
    "import torch.optim as optim\n",
    "import numpy as np\n",
    "import matplotlib.pyplot as plt\n",
    "import matplotlib.cm as cm\n",
    "from scipy.stats import unitary_group"
   ]
  },
  {
   "cell_type": "code",
   "execution_count": 2,
   "id": "08d0a121-50bc-4a6a-a9e3-ed9c0fd8fac3",
   "metadata": {
    "execution": {
     "iopub.execute_input": "2025-10-01T15:25:47.095128Z",
     "iopub.status.busy": "2025-10-01T15:25:47.094049Z",
     "iopub.status.idle": "2025-10-01T15:25:47.138602Z",
     "shell.execute_reply": "2025-10-01T15:25:47.138091Z",
     "shell.execute_reply.started": "2025-10-01T15:25:47.095128Z"
    }
   },
   "outputs": [],
   "source": [
    "from tdwg_lib.split_step_solver import BPMSplitStepSolver\n",
    "from tdwg_lib.waveguide import Waveguide, add_absorbing_boundary\n",
    "from tdwg_lib.helpers import smoothen1d, timestring\n",
    "from tdwg_lib.mode_solver import solve_modes\n",
    "from tdwg_lib.pnn_utils import L2, has_converged\n",
    "from tdwg_lib import pnn_utils \n",
    "import tdwg_lib.ftutils_torch as ftutils"
   ]
  },
  {
   "cell_type": "markdown",
   "id": "822e0874-804b-445a-ace0-c38a569f37c8",
   "metadata": {},
   "source": [
    "## Helper functions"
   ]
  },
  {
   "cell_type": "code",
   "execution_count": null,
   "id": "1ea87b62-096b-4d8e-bb30-b7bb9ec0338b",
   "metadata": {
    "execution": {
     "iopub.execute_input": "2025-10-01T15:25:47.142306Z",
     "iopub.status.busy": "2025-10-01T15:25:47.140950Z",
     "iopub.status.idle": "2025-10-01T15:25:47.155354Z",
     "shell.execute_reply": "2025-10-01T15:25:47.154843Z",
     "shell.execute_reply.started": "2025-10-01T15:25:47.142306Z"
    }
   },
   "outputs": [],
   "source": [
    "class TDwgNet(nn.Module):\n",
    "    def __init__(self, solver, wg, delta_n_val, modes, device):\n",
    "        super(TDwgNet, self).__init__()\n",
    "        self.device = device\n",
    "        \n",
    "        # Initialize trainable modulation parameter with bounds [0.05, 0.95]\n",
    "        mod = 0.5*torch.ones([wg.Nz, wg.Nx], requires_grad=True, dtype=torch.float32).to(self.device)\n",
    "        self.mod = pnn_utils.Parameter(mod, limits=[0.05, 0.95])\n",
    "        \n",
    "        self.delta_n_val = delta_n_val  # Maximum refractive index change\n",
    "        \n",
    "        self.input_modes = modes.to(dtype=torch.complex64).to(self.device)\n",
    "        self.output_modes = modes.to(dtype=torch.complex64).to(self.device)\n",
    "        \n",
    "        self.wg = wg\n",
    "        self.solver = solver\n",
    "        \n",
    "    def forward(self, x, monitor=False):\n",
    "        # Clip modulation to valid range\n",
    "        mod = self.mod.clip(0., 1.)\n",
    "\n",
    "        # Project input coefficients onto input mode basis\n",
    "        inputs = x.to(self.device) @ self.input_modes\n",
    "        \n",
    "        # Compute refractive index distribution: background + modulated perturbation\n",
    "        delta_n = self.wg.background_delta_n + self.delta_n_val*mod\n",
    "        \n",
    "        # Propagate through waveguide\n",
    "        output_beams = self.solver.run_simulation(inputs, delta_n, monitor)\n",
    "        \n",
    "        # Project output fields onto output mode basis (overlap integral with dx scaling)\n",
    "        a_out = output_beams @ self.output_modes.T * self.wg.dx\n",
    "        return a_out"
   ]
  },
  {
   "cell_type": "code",
   "execution_count": null,
   "id": "72d9baba-3149-4331-95f6-0349de32619d",
   "metadata": {
    "execution": {
     "iopub.execute_input": "2025-10-01T15:25:47.158448Z",
     "iopub.status.busy": "2025-10-01T15:25:47.158448Z",
     "iopub.status.idle": "2025-10-01T15:25:47.173433Z",
     "shell.execute_reply": "2025-10-01T15:25:47.173433Z",
     "shell.execute_reply.started": "2025-10-01T15:25:47.158448Z"
    }
   },
   "outputs": [],
   "source": [
    "def run_training_loop(tdwg_pnn, U_target, iterations, lr, batch_size, device, gamma=0.99, print_interval=1, save_model=False):\n",
    "    \"\"\"Train optical network to implement target unitary transformation.\"\"\"\n",
    "    # Setup optimizer and scheduler\n",
    "    optimizer = optim.Adam(tdwg_pnn.parameters(), lr=lr)\n",
    "    scheduler = optim.lr_scheduler.ExponentialLR(optimizer, gamma=gamma)\n",
    "    \n",
    "    U_target = U_target.to(device)\n",
    "    loss_list = []\n",
    "    \n",
    "    # Prepare batches\n",
    "    n = len(tdwg_pnn.input_modes)  # Number of modes\n",
    "    indices = np.arange(n)\n",
    "    batch_indices = np.array_split(indices, np.ceil(n / batch_size))  # Split into batches\n",
    "\n",
    "    tdwg_pnn.train()\n",
    "    for i in range(iterations):\n",
    "        optimizer.zero_grad()  # Reset gradients\n",
    "\n",
    "        # Loop over batches\n",
    "        for indices in batch_indices:\n",
    "            # Forward pass: compute numerical unitary for this batch\n",
    "            U_num = tdwg_pnn.forward(torch.eye(n, dtype=torch.complex64)[indices])\n",
    "            \n",
    "            # Objective loss: L2 distance between numerical and target unitary\n",
    "            l_objective = L2(U_target[indices], U_num)\n",
    "    \n",
    "            # Lagrangian penalty: enforce parameter bounds (limiting largest refractive index change)\n",
    "            l_lagrange = pnn_utils.lagrangian(tdwg_pnn, lag_amp=1, factor=20)\n",
    "            \n",
    "            # Total loss\n",
    "            l = l_objective + l_lagrange\n",
    "            l.backward()  # Compute gradients\n",
    "            \n",
    "        optimizer.step()  # Update parameters\n",
    "        scheduler.step()  # Decay learning rate\n",
    "        loss_list.append(l.detach().cpu().data)\n",
    "\n",
    "        # Print progress\n",
    "        if i % print_interval == 0:\n",
    "            print(timestring() + f\"--Iteration: {i}, Loss: {l.detach().cpu().data:.5f}\")\n",
    "        \n",
    "        # Early stopping if converged\n",
    "        if has_converged(loss_list, std_threshold=0.001):\n",
    "            print(timestring() + f\"Converged at iteration: {i}, Loss: {l.detach().cpu().data:.5f}\")\n",
    "            break\n",
    "        \n",
    "        # Save model checkpoint\n",
    "        if save_model:\n",
    "            torch.save({\n",
    "                    'epoch': i,\n",
    "                    'model_state_dict': tdwg_pnn.state_dict(),\n",
    "                    'optimizer_state_dict': optimizer.state_dict(),\n",
    "                    'scheduler_state_dict': scheduler.state_dict(),\n",
    "                    'loss': l,\n",
    "                }, 'saved_model.pt')\n",
    "            \n",
    "    return loss_list"
   ]
  },
  {
   "cell_type": "markdown",
   "id": "6ca17459-70d0-4d02-839d-dfbefdcac2d3",
   "metadata": {},
   "source": [
    "## Setting up waveguide"
   ]
  },
  {
   "cell_type": "code",
   "execution_count": null,
   "id": "7b85ec2e-3b9c-4721-afba-559a6a7216d1",
   "metadata": {
    "execution": {
     "iopub.execute_input": "2025-10-01T15:25:47.176205Z",
     "iopub.status.busy": "2025-10-01T15:25:47.176205Z",
     "iopub.status.idle": "2025-10-01T15:25:47.214817Z",
     "shell.execute_reply": "2025-10-01T15:25:47.213807Z",
     "shell.execute_reply.started": "2025-10-01T15:25:47.176205Z"
    }
   },
   "outputs": [],
   "source": [
    "NMODES = 100  # Number of waveguide modes\n",
    "DEVICE = \"cuda\" if torch.cuda.is_available() else \"cpu\"  # Use GPU if available\n",
    "\n",
    "# Waveguide parameters\n",
    "LAMBDA0 = 1.55  # Free-space wavelength in μm\n",
    "K0 = 2*np.pi/LAMBDA0  # Free-space wavenumber in μm⁻¹\n",
    "\n",
    "# Training parameters\n",
    "SEED = 1  # Random seed for sampling target unitary matrix\n",
    "ITERATIONS = 500  # Number of training epochs\n",
    "LR = 0.025  # Learning rate for optimizer\n",
    "\n",
    "# Waveguide design parameters\n",
    "NEFF = 3.0  # Effective refractive index of slab mode\n",
    "DN_WG = 0.1  # Step-index change for waveguide core\n",
    "DELTA_N_VAL = 0.005  # Maximum programmable refractive index change\n",
    "LZ = 7000.0  # Total propagation length in μm\n",
    "\n",
    "# Calculate waveguide dimensions based on number of modes\n",
    "NA = np.sqrt(2*NEFF*DN_WG)  # Numerical aperture (approximate)\n",
    "\n",
    "D_WG = (1.5 * NMODES - 1) * LAMBDA0 / 2 / NA  # Waveguide width to support NMODES modes\n",
    "LAMBDA_Z = LAMBDA0 / DN_WG  # Expected necessary resolution in z\n",
    "LAMBDA_X = LAMBDA0 / 2 / NA  # Expected necessary resolution in x\n",
    "\n",
    "# Transverse (x) axis with resolution determined by numerical aperture\n",
    "LX = D_WG + 40  # Width of simulation area in μm\n",
    "NX = LX / LAMBDA_X * 10  # 10 grid points per smallest resolution feature\n",
    "NX = int(2**np.ceil(np.log2(NX)))  # Make NX a power of 2 for FFT efficiency\n",
    "DX = LX/(NX-1)  # Grid spacing in transverse dimension in μm\n",
    "X_AXIS = ftutils.ft_t_axis(NX, DX)  # Centered frequency-domain axis\n",
    "\n",
    "# Propagation (z) axis with resolution determined by index contrast\n",
    "NZ = int(LZ / LAMBDA_Z * 5/2)*2  # 5 grid points per resolution feature (even integer for symmetry)\n",
    "Z_AXIS = np.linspace(0, LZ, NZ)  # Propagation coordinate array\n",
    "DZ = Z_AXIS[1] - Z_AXIS[0]  # Propagation step size in μm"
   ]
  },
  {
   "cell_type": "code",
   "execution_count": null,
   "id": "c8825576-cda1-467f-8e41-21e4a0b74b6e",
   "metadata": {
    "execution": {
     "iopub.execute_input": "2025-10-01T15:25:47.275999Z",
     "iopub.status.busy": "2025-10-01T15:25:47.275999Z",
     "iopub.status.idle": "2025-10-01T15:25:47.291309Z",
     "shell.execute_reply": "2025-10-01T15:25:47.289847Z",
     "shell.execute_reply.started": "2025-10-01T15:25:47.275999Z"
    }
   },
   "outputs": [],
   "source": [
    "# Print waveguide design parameters\n",
    "print(f'N_modes = {NMODES}')\n",
    "print(f'dn_wg = {DN_WG}')\n",
    "print(f'dn_prog = {DELTA_N_VAL}')\n",
    "print(f'Lx = {D_WG:.0f}')\n",
    "print(f'Lz = {LZ:.0f}')\n",
    "\n",
    "print(f'NA = {NA:.2f}')\n",
    "print(f'Λx={LAMBDA_X:.2f}, Λz={LAMBDA_Z:.2f}, Nz={NZ}')\n",
    "print(f'dx={DX:.2f}, dz={DZ:.2f}, Nx={NX}')"
   ]
  },
  {
   "cell_type": "code",
   "execution_count": null,
   "id": "1cf624e3-cb21-4f8c-9662-4af57ad61d15",
   "metadata": {
    "execution": {
     "iopub.execute_input": "2025-10-01T15:25:47.293878Z",
     "iopub.status.busy": "2025-10-01T15:25:47.292801Z",
     "iopub.status.idle": "2025-10-01T15:25:47.342206Z",
     "shell.execute_reply": "2025-10-01T15:25:47.341448Z",
     "shell.execute_reply.started": "2025-10-01T15:25:47.293878Z"
    }
   },
   "outputs": [],
   "source": [
    "# Define step-index multimode waveguide with smoothed edges and absorbing boundaries\n",
    "background_delta_n = torch.zeros(NX, dtype=torch.complex64)\n",
    "background_delta_n[torch.abs(X_AXIS) < D_WG/2] = DN_WG  # Step-index profile\n",
    "background_delta_n = smoothen1d(X_AXIS, background_delta_n, 3*LAMBDA0)  # Smooth edges over ~3 wavelengths\n",
    "background_delta_n = add_absorbing_boundary(X_AXIS, background_delta_n, K0)  # Add PML boundaries\n",
    "\n",
    "# Waveguide container object stores simulation geometry and parameters\n",
    "wg = Waveguide(NEFF, X_AXIS, Z_AXIS, background_delta_n, device=DEVICE)"
   ]
  },
  {
   "cell_type": "code",
   "execution_count": null,
   "id": "098da960-9d48-4793-a90a-dbea8a96401c",
   "metadata": {
    "execution": {
     "iopub.execute_input": "2025-10-01T15:25:47.346487Z",
     "iopub.status.busy": "2025-10-01T15:25:47.345486Z",
     "iopub.status.idle": "2025-10-01T15:26:04.379672Z",
     "shell.execute_reply": "2025-10-01T15:26:04.379672Z",
     "shell.execute_reply.started": "2025-10-01T15:25:47.346487Z"
    }
   },
   "outputs": [],
   "source": [
    "# Solve for first N TE modes and their propagation constants (betas) using eigenmode solver\n",
    "betas, modes = solve_modes(wg.x_axis.numpy(), NEFF, K0, background_delta_n.numpy(), NMODES, fresnel=True)\n",
    "\n",
    "# Convert to PyTorch tensors\n",
    "betas = torch.from_numpy(betas)\n",
    "modes = torch.from_numpy(modes)\n",
    "\n",
    "# Save modes for potential reuse\n",
    "torch.save(betas, f'betas_N={NMODES}.pt')\n",
    "torch.save(modes, f'modes_N={NMODES}.pt')"
   ]
  },
  {
   "cell_type": "code",
   "execution_count": null,
   "id": "924de8e0-7010-4a3f-aa99-07032799812c",
   "metadata": {
    "execution": {
     "iopub.execute_input": "2025-10-01T15:26:04.379672Z",
     "iopub.status.busy": "2025-10-01T15:26:04.379672Z",
     "iopub.status.idle": "2025-10-01T15:26:04.453717Z",
     "shell.execute_reply": "2025-10-01T15:26:04.453717Z",
     "shell.execute_reply.started": "2025-10-01T15:26:04.379672Z"
    }
   },
   "outputs": [],
   "source": [
    "# Load previously saved modes\n",
    "betas = torch.load(f'betas_N={NMODES}.pt', weights_only=True)\n",
    "modes = torch.load(f'modes_N={NMODES}.pt', weights_only=True)"
   ]
  },
  {
   "cell_type": "code",
   "execution_count": null,
   "id": "5b08f1c7-6258-4fe5-bf08-f2dd30e2405a",
   "metadata": {
    "execution": {
     "iopub.execute_input": "2025-10-01T15:26:04.453717Z",
     "iopub.status.busy": "2025-10-01T15:26:04.453717Z",
     "iopub.status.idle": "2025-10-01T15:26:04.474863Z",
     "shell.execute_reply": "2025-10-01T15:26:04.473964Z",
     "shell.execute_reply.started": "2025-10-01T15:26:04.453717Z"
    }
   },
   "outputs": [],
   "source": [
    "# Normalize modes (scipy's mode solver may fail to normalize properly for very high N)\n",
    "norm_factors = modes.abs().square().sum(-1) * DX  # Compute L2 norm for each mode\n",
    "modes /= torch.sqrt(norm_factors)[None, :].T  # Normalize each mode"
   ]
  },
  {
   "cell_type": "code",
   "execution_count": null,
   "id": "b35d5a9e-765c-48e4-a61a-c813cb33cda0",
   "metadata": {
    "execution": {
     "iopub.execute_input": "2025-10-01T15:26:04.477874Z",
     "iopub.status.busy": "2025-10-01T15:26:04.476873Z",
     "iopub.status.idle": "2025-10-01T15:26:05.356623Z",
     "shell.execute_reply": "2025-10-01T15:26:05.354615Z",
     "shell.execute_reply.started": "2025-10-01T15:26:04.477874Z"
    }
   },
   "outputs": [],
   "source": [
    "plt.figure(figsize=(4, 3), dpi=200)\n",
    "\n",
    "plt.title('Effective mode indices in refractive-index cross-section')\n",
    "\n",
    "# Plot real part of refractive index profile\n",
    "plt.plot(X_AXIS, background_delta_n.real + NEFF, c='k')\n",
    "plt.xlim(X_AXIS.min(), X_AXIS.max())\n",
    "plt.ylabel('Re(n(x))')\n",
    "plt.xlabel('x (μm)')\n",
    "\n",
    "# Plot effective indices of all modes\n",
    "for beta in betas:\n",
    "    plt.axhline(beta/K0, c='tab:blue', alpha=0.1)\n",
    "\n",
    "# Plot imaginary part (absorption) on secondary y-axis\n",
    "plt.twinx()\n",
    "plt.plot(X_AXIS, background_delta_n.imag, c='tab:red')\n",
    "plt.ylabel('Im(n(x))', color='tab:red')\n",
    "plt.ylim(0, 0.06)"
   ]
  },
  {
   "cell_type": "code",
   "execution_count": null,
   "id": "f9418c2c-cca6-425f-b7a2-c7b830cc674f",
   "metadata": {
    "execution": {
     "iopub.execute_input": "2025-10-01T15:26:05.715930Z",
     "iopub.status.busy": "2025-10-01T15:26:05.715930Z",
     "iopub.status.idle": "2025-10-01T15:26:06.642851Z",
     "shell.execute_reply": "2025-10-01T15:26:06.641840Z",
     "shell.execute_reply.started": "2025-10-01T15:26:05.715930Z"
    }
   },
   "outputs": [],
   "source": [
    "plt.figure(figsize=(4, 3), dpi=200)\n",
    "\n",
    "# Plot first 8 waveguide modes with effective indices\n",
    "for ind_mode, (mode, beta) in enumerate(zip(modes[:8], betas[:8])):\n",
    "    # Plot mode profile offset by its effective index\n",
    "    plt.fill_between(X_AXIS, beta/K0, mode/4e3 + beta/K0, label=f'$TE_{ind_mode}$', color=cm.plasma(ind_mode/8), alpha=0.5)\n",
    "    plt.plot(X_AXIS, mode/4e3 + beta/K0, color=cm.plasma(ind_mode/8), alpha=0.5)\n",
    "\n",
    "# Plot background index profile\n",
    "plt.plot(X_AXIS, NEFF + background_delta_n.real, c='k')\n",
    "\n",
    "plt.ylim(betas[8]/K0, betas[0]/K0 + 1e-4)\n",
    "plt.xlabel('x (μm)')\n",
    "plt.ylabel(r'$n_{eff}$')\n",
    "plt.title('First 8 waveguide modes')"
   ]
  },
  {
   "cell_type": "code",
   "execution_count": null,
   "id": "ab8dca5f-eb80-4181-84de-a3f91963f11d",
   "metadata": {
    "execution": {
     "iopub.execute_input": "2025-10-01T15:26:06.645852Z",
     "iopub.status.busy": "2025-10-01T15:26:06.644850Z",
     "iopub.status.idle": "2025-10-01T15:26:06.734412Z",
     "shell.execute_reply": "2025-10-01T15:26:06.733402Z",
     "shell.execute_reply.started": "2025-10-01T15:26:06.645852Z"
    }
   },
   "outputs": [],
   "source": [
    "# Initialize beam propagation method solver\n",
    "bpmsolver = BPMSplitStepSolver(X_AXIS, Z_AXIS, NEFF)\n",
    "\n",
    "# Generate random target unitary matrix\n",
    "U_target = unitary_group.rvs(NMODES, random_state=SEED)\n",
    "U_target = torch.tensor(U_target, device=DEVICE)\n",
    "\n",
    "# Create 2D-waveguide object with trainable index modulation\n",
    "tdwg_pnn = TDwgNet(bpmsolver, wg, DELTA_N_VAL, modes, DEVICE)"
   ]
  },
  {
   "cell_type": "markdown",
   "id": "d3e61c67-bd44-4ada-bef8-047ed6acb2d9",
   "metadata": {},
   "source": [
    "## Train"
   ]
  },
  {
   "cell_type": "markdown",
   "id": "b706c3e4-88a9-4f71-a27e-5721ebf136a7",
   "metadata": {},
   "source": [
    "This cell may take a few minutes. It took 2 minutes on a GPU (Nvidia A100) or around 50 minutes on a CPU (Intel Core Ultra 7 165 U).\n",
    "\n",
    "If you encounter any memory problems, lower `batch_size`."
   ]
  },
  {
   "cell_type": "code",
   "execution_count": null,
   "id": "359f04ac-19d6-4526-9fa9-f64c09c32015",
   "metadata": {
    "execution": {
     "iopub.execute_input": "2025-10-01T15:26:06.737092Z",
     "iopub.status.busy": "2025-10-01T15:26:06.736413Z",
     "iopub.status.idle": "2025-10-01T16:19:04.485308Z",
     "shell.execute_reply": "2025-10-01T16:19:04.484376Z",
     "shell.execute_reply.started": "2025-10-01T15:26:06.737092Z"
    },
    "scrolled": true
   },
   "outputs": [],
   "source": [
    "# Clear GPU cache before training\n",
    "torch.cuda.empty_cache()\n",
    "\n",
    "# Run training loop\n",
    "loss_list = run_training_loop(tdwg_pnn, U_target, ITERATIONS, LR, batch_size=100, device=DEVICE, print_interval=5, gamma=0.995, save_model=False)\n",
    "\n",
    "# Evaluate final unitary transformation\n",
    "with torch.no_grad():\n",
    "    U_num_inv = tdwg_pnn(torch.eye(NMODES, dtype=torch.complex64))\n",
    "\n",
    "# Compute relative error\n",
    "avg_error_inv = torch.mean(torch.abs(U_num_inv - U_target)) / torch.mean(torch.abs(U_target)) * 100\n",
    "print(LR)\n",
    "print(f\"Average error for inverse design: {avg_error_inv:.2f}%\")\n",
    "\n",
    "# Clear GPU cache after training\n",
    "torch.cuda.empty_cache()\n",
    "\n",
    "# Plot training loss history\n",
    "plt.plot(loss_list)\n",
    "plt.yscale('log')\n",
    "plt.xlabel('Epoch')\n",
    "plt.ylabel('Loss')\n",
    "plt.show()"
   ]
  },
  {
   "cell_type": "markdown",
   "id": "972511c0-b003-4d44-9d7e-bb0c6af774f8",
   "metadata": {},
   "source": [
    "## Evaluate training"
   ]
  },
  {
   "cell_type": "code",
   "execution_count": null,
   "id": "5cb17c55-43bb-4af4-8a29-c114d22114a1",
   "metadata": {
    "execution": {
     "iopub.execute_input": "2025-10-01T16:19:04.488314Z",
     "iopub.status.busy": "2025-10-01T16:19:04.486753Z",
     "iopub.status.idle": "2025-10-01T16:19:07.755995Z",
     "shell.execute_reply": "2025-10-01T16:19:07.755995Z",
     "shell.execute_reply.started": "2025-10-01T16:19:04.488314Z"
    }
   },
   "outputs": [],
   "source": [
    "# Evaluate trained unitary transformation\n",
    "with torch.no_grad():\n",
    "    U_num_inv = tdwg_pnn.forward(torch.eye(NMODES, dtype=torch.complex64), monitor=False)"
   ]
  },
  {
   "cell_type": "code",
   "execution_count": null,
   "id": "871bf275-b4f1-4982-9a1d-845529605335",
   "metadata": {
    "execution": {
     "iopub.execute_input": "2025-10-01T16:19:07.755995Z",
     "iopub.status.busy": "2025-10-01T16:19:07.755995Z",
     "iopub.status.idle": "2025-10-01T16:19:07.768280Z",
     "shell.execute_reply": "2025-10-01T16:19:07.767270Z",
     "shell.execute_reply.started": "2025-10-01T16:19:07.755995Z"
    }
   },
   "outputs": [],
   "source": [
    "# Compute relative error: mean absolute difference normalized by target magnitude\n",
    "avg_error_inv = torch.mean(torch.abs(U_num_inv - U_target)) / torch.mean(torch.abs(U_target)) * 100\n",
    "print(f\"Average error for inverse design: {avg_error_inv:.2f}%\")"
   ]
  },
  {
   "cell_type": "markdown",
   "id": "0882c6bc-8a9e-4bd3-b087-7a5724148cd8",
   "metadata": {},
   "source": [
    "#### Plot inverse design results"
   ]
  },
  {
   "cell_type": "code",
   "execution_count": null,
   "id": "c75d5155-5275-431c-9ccb-04b35b6d0319",
   "metadata": {
    "execution": {
     "iopub.execute_input": "2025-10-01T16:19:07.771283Z",
     "iopub.status.busy": "2025-10-01T16:19:07.770278Z",
     "iopub.status.idle": "2025-10-01T16:19:07.782619Z",
     "shell.execute_reply": "2025-10-01T16:19:07.781601Z",
     "shell.execute_reply.started": "2025-10-01T16:19:07.771283Z"
    }
   },
   "outputs": [],
   "source": [
    "def plot_delta_n(z_axis, x_axis, delta_n, vmax):\n",
    "    figsize_deltan = (2*3, 2*1.5*3/5)  # Figure size in inches\n",
    "    fig_main, ax = plt.subplots(figsize=figsize_deltan, dpi=200)\n",
    "    \n",
    "    # Plot refractive index: convert z to mm, take real part, transpose for (x, z) orientation\n",
    "    img = plt.pcolormesh(z_axis/1000, x_axis, np.real(delta_n.T), cmap=\"coolwarm\", vmax=vmax, vmin=0)\n",
    "    \n",
    "    plt.ylim(x_axis.min(), x_axis.max())\n",
    "    plt.xlabel(\"z (mm)\")\n",
    "    plt.ylabel(\"x (μm)\")\n",
    "    plt.title(r\"$\\Delta n(x, z)$\")\n",
    "    plt.colorbar()\n",
    "    \n",
    "    plt.show()"
   ]
  },
  {
   "cell_type": "code",
   "execution_count": null,
   "id": "afe8c632-f02a-4448-8222-e6ab9d6e9484",
   "metadata": {
    "execution": {
     "iopub.execute_input": "2025-10-01T16:19:07.785568Z",
     "iopub.status.busy": "2025-10-01T16:19:07.785229Z",
     "iopub.status.idle": "2025-10-01T16:19:12.548380Z",
     "shell.execute_reply": "2025-10-01T16:19:12.547042Z",
     "shell.execute_reply.started": "2025-10-01T16:19:07.785568Z"
    }
   },
   "outputs": [],
   "source": [
    "# Extract optimized refractive index: clip and scale trained modulation parameter\n",
    "delta_n_inv = DELTA_N_VAL * (torch.clip(tdwg_pnn.mod.cpu().detach(), 0., 1.))\n",
    "\n",
    "# Plot optimized refractive index distribution\n",
    "plot_delta_n(wg.z_axis, wg.x_axis, delta_n_inv, DELTA_N_VAL)"
   ]
  },
  {
   "cell_type": "code",
   "execution_count": null,
   "id": "f47a3a20-04d0-4eb3-b86a-cdaacdefc50f",
   "metadata": {
    "execution": {
     "iopub.execute_input": "2025-10-01T16:19:12.550928Z",
     "iopub.status.busy": "2025-10-01T16:19:12.549879Z",
     "iopub.status.idle": "2025-10-01T16:19:12.561393Z",
     "shell.execute_reply": "2025-10-01T16:19:12.560542Z",
     "shell.execute_reply.started": "2025-10-01T16:19:12.550928Z"
    }
   },
   "outputs": [],
   "source": [
    "def plot_unitary(U, vmax, title, colorbar_flag=True):\n",
    "    \"\"\"Plot magnitude of unitary matrix.\"\"\"\n",
    "    figsize_U = (2*1.3, 2*1.3)  # Figure size in inches\n",
    "    \n",
    "    # Plot main figure\n",
    "    fig_main, ax = plt.subplots(figsize=figsize_U, dpi=200)\n",
    "    img = plt.imshow(np.abs(U), cmap=\"bone_r\", vmax=vmax)\n",
    "    plt.title(title)\n",
    "    \n",
    "    if colorbar_flag:\n",
    "        # Create a separate figure for the colorbar\n",
    "        fig_cbar = plt.figure(figsize=(0.1, figsize_U[1]))\n",
    "        cbar = plt.colorbar(img, cax=plt.gca())\n",
    "    \n",
    "    # Display figures\n",
    "    plt.show()"
   ]
  },
  {
   "cell_type": "code",
   "execution_count": null,
   "id": "15cb6a47-b3bc-4d53-b67e-4542d587ea7e",
   "metadata": {
    "execution": {
     "iopub.execute_input": "2025-10-01T16:19:12.563997Z",
     "iopub.status.busy": "2025-10-01T16:19:12.563997Z",
     "iopub.status.idle": "2025-10-01T16:19:12.571976Z",
     "shell.execute_reply": "2025-10-01T16:19:12.570967Z",
     "shell.execute_reply.started": "2025-10-01T16:19:12.563997Z"
    }
   },
   "outputs": [],
   "source": [
    "# Set colorbar scale based on maximum magnitude in target unitary\n",
    "VMAX = U_target.abs().max()"
   ]
  },
  {
   "cell_type": "code",
   "execution_count": null,
   "id": "387e5645-b509-4591-bd16-5675a324b890",
   "metadata": {
    "execution": {
     "iopub.execute_input": "2025-10-01T16:19:12.573977Z",
     "iopub.status.busy": "2025-10-01T16:19:12.573977Z",
     "iopub.status.idle": "2025-10-01T16:19:13.426074Z",
     "shell.execute_reply": "2025-10-01T16:19:13.425566Z",
     "shell.execute_reply.started": "2025-10-01T16:19:12.573977Z"
    }
   },
   "outputs": [],
   "source": [
    "# Plot target, achieved, and error unitary matrices\n",
    "plot_unitary(U_target.cpu(), VMAX, r\"$|U_{target}|$\", colorbar_flag=False)\n",
    "plot_unitary(U_num_inv.cpu(), VMAX, r\"$|U_{inv}|$\", colorbar_flag=False)\n",
    "plot_unitary(torch.abs(U_num_inv - U_target).cpu(), VMAX, r\"$|U_{target}-U_{inv}|$\", colorbar_flag=True)"
   ]
  },
  {
   "cell_type": "markdown",
   "id": "1a876b89-5cd8-48b0-89ff-9d7c4ff1b8e4",
   "metadata": {},
   "source": [
    "#### Plot wave propagation"
   ]
  },
  {
   "cell_type": "code",
   "execution_count": null,
   "id": "9177ddeb-a36f-403a-a62a-c74e3ed5a9c3",
   "metadata": {
    "execution": {
     "iopub.execute_input": "2025-10-01T16:19:13.429344Z",
     "iopub.status.busy": "2025-10-01T16:19:13.428647Z",
     "iopub.status.idle": "2025-10-01T16:19:14.862312Z",
     "shell.execute_reply": "2025-10-01T16:19:14.862312Z",
     "shell.execute_reply.started": "2025-10-01T16:19:13.429344Z"
    }
   },
   "outputs": [],
   "source": [
    "# Clear GPU cache before visualization\n",
    "torch.cuda.empty_cache()\n",
    "\n",
    "# Reduce monitoring frequency to speed up plotting\n",
    "tdwg_pnn.solver.Ncom = 2  # Store only every other propagation step to save some memory and plotting time\n",
    "\n",
    "# Simulate propagation of first 3 modes for visualization\n",
    "# Using torch.eye is a convenient way to create a batch that excites each input mode\n",
    "with torch.no_grad():\n",
    "    U_num_inv = tdwg_pnn.forward(torch.eye(NMODES, dtype=torch.complex64)[[0, 1, 2]], monitor=True)"
   ]
  },
  {
   "cell_type": "code",
   "execution_count": null,
   "id": "79b73207-0692-4dca-b5c7-939684836dc4",
   "metadata": {
    "execution": {
     "iopub.execute_input": "2025-10-01T16:19:14.866345Z",
     "iopub.status.busy": "2025-10-01T16:19:14.864328Z",
     "iopub.status.idle": "2025-10-01T16:19:14.875640Z",
     "shell.execute_reply": "2025-10-01T16:19:14.874620Z",
     "shell.execute_reply.started": "2025-10-01T16:19:14.866345Z"
    }
   },
   "outputs": [],
   "source": [
    "def plot_intensity(z_axis, x_axis, Imat_x):\n",
    "    figsize_deltan = (2*3, 2*1.5*3/5)  # Figure size in inches\n",
    "    fig_main, ax = plt.subplots(figsize=figsize_deltan, dpi=200)\n",
    "    \n",
    "    # Plot intensity: convert z to mm, transpose for (x, z) orientation\n",
    "    img = plt.pcolormesh(z_axis/1000, x_axis, Imat_x, cmap=\"Reds\")\n",
    "    \n",
    "    plt.ylim(x_axis.min(), x_axis.max())\n",
    "    plt.xlabel(\"z (mm)\")\n",
    "    plt.ylabel(\"x (μm)\")\n",
    "    plt.title(r\"$I(x, z)$\")\n",
    "    plt.colorbar()\n",
    "\n",
    "    plt.show()"
   ]
  },
  {
   "cell_type": "code",
   "execution_count": null,
   "id": "9e1a8ab4-efbd-40e8-a34e-5a099c26f387",
   "metadata": {
    "execution": {
     "iopub.execute_input": "2025-10-01T16:19:14.878049Z",
     "iopub.status.busy": "2025-10-01T16:19:14.877632Z",
     "iopub.status.idle": "2025-10-01T16:19:17.497736Z",
     "shell.execute_reply": "2025-10-01T16:19:17.497736Z",
     "shell.execute_reply.started": "2025-10-01T16:19:14.878049Z"
    }
   },
   "outputs": [],
   "source": [
    "IND = 0  # Index of mode to visualize\n",
    "\n",
    "# Extract electric field for mode from solver\n",
    "Emat_x = tdwg_pnn.solver.Emat_x[:, IND].cpu().detach()\n",
    "\n",
    "# Compute intensity: |E|²\n",
    "Imat_x = Emat_x.abs().square()\n",
    "\n",
    "# Downsample z-axis based on monitor interval (Ncom)\n",
    "z_list = Z_AXIS[::tdwg_pnn.solver.Ncom]\n",
    "\n",
    "# Plot intensity evolution through waveguide\n",
    "plot_intensity(z_list, X_AXIS, Imat_x.T)"
   ]
  },
  {
   "cell_type": "code",
   "execution_count": null,
   "id": "c0c84199-9eb5-460b-a0ef-a8d38841dec8",
   "metadata": {},
   "outputs": [],
   "source": [
    "# # Load saved model checkpoint\n",
    "# checkpoint = torch.load('saved_model.pt', weights_only=True)\n",
    "# tdwg_pnn.load_state_dict(checkpoint['model_state_dict'])\n",
    "# print(f'Saved at epoch {checkpoint[\"epoch\"]} with loss {checkpoint[\"loss\"]}')\n",
    "# tdwg_pnn.eval()\n",
    "# tdwg_pnn.train()  # Uncomment to continue training"
   ]
  }
 ],
 "metadata": {
  "kernelspec": {
   "display_name": "Python 3 (ipykernel)",
   "language": "python",
   "name": "python3"
  },
  "language_info": {
   "codemirror_mode": {
    "name": "ipython",
    "version": 3
   },
   "file_extension": ".py",
   "mimetype": "text/x-python",
   "name": "python",
   "nbconvert_exporter": "python",
   "pygments_lexer": "ipython3",
   "version": "3.12.7"
  }
 },
 "nbformat": 4,
 "nbformat_minor": 5
}
