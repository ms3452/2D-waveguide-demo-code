{
 "cells": [
  {
   "cell_type": "markdown",
   "id": "c2f1e8b5-fa71-4291-a05b-05da2eee7fc2",
   "metadata": {},
   "source": [
    "This notebook is a replica of *Notebook 2--Inverse-design*, except that it modifies the `TDwgNet` function to have a mismatched forward- and backward pass to emulate the imperfections of real experiments. Any design notebooks in this repository using inverse-desing can be modified to do the same by replacing the `TDwgNet` function with the one presented in this notebook."
   ]
  },
  {
   "cell_type": "code",
   "execution_count": 1,
   "id": "416f4527-5e70-4898-9b86-6153cb527d67",
   "metadata": {
    "execution": {
     "iopub.execute_input": "2025-09-25T21:04:02.099795Z",
     "iopub.status.busy": "2025-09-25T21:04:02.098794Z",
     "iopub.status.idle": "2025-09-25T21:04:12.962063Z",
     "shell.execute_reply": "2025-09-25T21:04:12.961043Z",
     "shell.execute_reply.started": "2025-09-25T21:04:02.099795Z"
    }
   },
   "outputs": [],
   "source": [
    "import torch\n",
    "import torch.nn as nn\n",
    "import torch.optim as optim\n",
    "import numpy as np\n",
    "import matplotlib.pyplot as plt\n",
    "import matplotlib.cm as cm"
   ]
  },
  {
   "cell_type": "code",
   "execution_count": 2,
   "id": "5a629645-7385-4b42-b434-055469a26314",
   "metadata": {
    "execution": {
     "iopub.execute_input": "2025-09-25T21:04:12.968468Z",
     "iopub.status.busy": "2025-09-25T21:04:12.966862Z",
     "iopub.status.idle": "2025-09-25T21:04:13.002693Z",
     "shell.execute_reply": "2025-09-25T21:04:13.001678Z",
     "shell.execute_reply.started": "2025-09-25T21:04:12.968468Z"
    }
   },
   "outputs": [],
   "source": [
    "import tdwg_lib.ftutils_torch as ftutils\n",
    "from tdwg_lib.split_step_solver import BPMSplitStepSolver\n",
    "from tdwg_lib.waveguide import Waveguide\n",
    "from tdwg_lib.beam_utils import gaussian_beam, make_HG_modes\n",
    "from tdwg_lib.helpers import smoothen2d, timestring\n",
    "from tdwg_lib.pat import make_pat_func\n",
    "from tdwg_lib.pnn_utils import L2, has_converged\n",
    "from tdwg_lib import pnn_utils "
   ]
  },
  {
   "cell_type": "markdown",
   "id": "bedab7f7-00b4-4362-ad32-016ada85388e",
   "metadata": {},
   "source": [
    "## Parameters"
   ]
  },
  {
   "cell_type": "code",
   "execution_count": null,
   "id": "75d621eb-0a34-4708-a4cb-e276b680b680",
   "metadata": {
    "execution": {
     "iopub.execute_input": "2025-09-25T21:04:13.007158Z",
     "iopub.status.busy": "2025-09-25T21:04:13.006148Z",
     "iopub.status.idle": "2025-09-25T21:04:13.023484Z",
     "shell.execute_reply": "2025-09-25T21:04:13.022474Z",
     "shell.execute_reply.started": "2025-09-25T21:04:13.007158Z"
    },
    "tags": []
   },
   "outputs": [],
   "source": [
    "NMODES = 2  # Number of input/output modes\n",
    "\n",
    "# Waveguide parameters\n",
    "LAMBDA0 = 1.55  # Free-space wavelength in μm\n",
    "K0 = 2*np.pi/LAMBDA0  # Free-space wavenumber in μm⁻¹\n",
    "NEFF = 1.8  # Effective refractive index of slab mode\n",
    "\n",
    "# Transverse (x) axis\n",
    "LX = 500  # Width of simulation area in μm\n",
    "NX = 2**9  # Number of grid points in transverse dimension\n",
    "DX = LX/(NX-1)  # Grid spacing in transverse dimension in μm\n",
    "X_AXIS = ftutils.ft_t_axis(NX, DX)  # Centered frequency-domain axis\n",
    "\n",
    "# Propagation (z) axis\n",
    "DZ = 50  # Propagation step size in μm\n",
    "LZ = 10000  # Total propagation length in μm\n",
    "NZ = int(np.floor(LZ/DZ))  # Number of propagation steps\n",
    "Z_AXIS = (torch.arange(NZ)+1)*DZ  # Propagation coordinate starting at DZ\n",
    "\n",
    "# Mode properties\n",
    "MODE_X_MIN = -50 * (NMODES-1)  # Center position of leftmost input mode in μm\n",
    "MODE_X_MAX = 50 * (NMODES-1)  # Center position of rightmost input mode in μm\n",
    "W0 = 20  # Beam waist (1/e² radius) in μm\n",
    "\n",
    "# Training parameters\n",
    "DELTA_N_VAL = 1e-3  # Maximum refractive index change\n",
    "ITERATIONS = 100  # Number of training epochs\n",
    "LR = 0.5e-1  # Learning rate for optimizer\n",
    "GAMMA = 0.99  # Learning rate decay factor\n",
    "BATCH_SIZE = NMODES  # Batch size for training\n",
    "DEVICE = 'cpu'  # \"cuda\" if torch.cuda.is_available() else \"cpu\"\n",
    "\n",
    "# Waveguide container object stores simulation geometry and parameters\n",
    "wg = Waveguide(NEFF, X_AXIS, Z_AXIS, device=DEVICE)"
   ]
  },
  {
   "cell_type": "markdown",
   "id": "75b561b3-66f6-4936-9eea-7e30ab9d2b6b",
   "metadata": {},
   "source": [
    "## Create trainable 2D waveguide class as pytorch.nn.Module "
   ]
  },
  {
   "cell_type": "markdown",
   "id": "be12e394-21a5-4d7a-a5ca-64450370f5b9",
   "metadata": {},
   "source": [
    "### New here: Separate forward- and backward-pass functions"
   ]
  },
  {
   "cell_type": "markdown",
   "id": "bd40b8dd-2d67-4528-8209-1392df367ddc",
   "metadata": {},
   "source": [
    "The `TDwgNet` class has separate `forward_internal` and `backward_internal` functions, which are fused into a single function `f_pat`, which calls the correct function on the forward/backward pass. \n",
    "\n",
    "The `forward_internal` function could be replaced with code that calls an experiment instead.\n",
    "To emulate the imperfections of real experimental setups, we have added an artificial misalignment of the inputs in the `forward_internal` function."
   ]
  },
  {
   "cell_type": "code",
   "execution_count": null,
   "id": "4598fc8a-cad8-4a31-9693-40d3529f8009",
   "metadata": {
    "execution": {
     "iopub.execute_input": "2025-09-25T21:04:13.036985Z",
     "iopub.status.busy": "2025-09-25T21:04:13.036985Z",
     "iopub.status.idle": "2025-09-25T21:04:13.058893Z",
     "shell.execute_reply": "2025-09-25T21:04:13.054002Z",
     "shell.execute_reply.started": "2025-09-25T21:04:13.036985Z"
    }
   },
   "outputs": [],
   "source": [
    "class TDwgNet(nn.Module):\n",
    "    def __init__(self, solver, wg, delta_n_val, input_modes, output_modes, device, mode='insilico'):\n",
    "        super(TDwgNet, self).__init__()\n",
    "        self.device = device\n",
    "        \n",
    "        # Initialize trainable modulation parameter with bounds [0.05, 0.95]\n",
    "        mod = 0.5*torch.ones([wg.Nz, wg.Nx], requires_grad=True, dtype=torch.float32).to(self.device)\n",
    "        self.mod = pnn_utils.Parameter(mod, limits=[0.05, 0.95])\n",
    "        \n",
    "        self.delta_n_val = delta_n_val  # Maximum refractive index change\n",
    "        \n",
    "        self.input_modes = input_modes.to(dtype=torch.complex64).to(self.device)\n",
    "        self.output_modes = output_modes.to(dtype=torch.complex64).to(self.device)\n",
    "        \n",
    "        self.wg = wg\n",
    "        self.solver = solver\n",
    "        \n",
    "        # Set up physics-aware training (PAT) if mode='pat', otherwise use standard forward\n",
    "        if mode == 'pat': \n",
    "            self.f_pat = make_pat_func(self.forward_internal, self.backward_internal)\n",
    "        if mode == 'insilico': \n",
    "            self.f_pat = self.forward_internal\n",
    "\n",
    "    def forward(self, x):\n",
    "        # Main forward pass: calls either PAT or standard forward\n",
    "        a_out = self.f_pat(x, self.mod)\n",
    "        return a_out\n",
    "\n",
    "    def forward_internal(self, x, mod, monitor=False):\n",
    "        \"\"\"Forward pass with experimental imperfections (e.g., misaligned inputs).\"\"\"\n",
    "        # Clip modulation to valid range\n",
    "        mod = mod.clip(0, 1)\n",
    "\n",
    "        # Apply artificial misalignment to input modes to emulate experimental imperfections\n",
    "        input_modes_misaligned = torch.roll(self.input_modes, INDS_MISALIGNMENT, dims=-1)\n",
    "        inputs = x.to(self.device) @ input_modes_misaligned\n",
    "        \n",
    "        # Compute refractive index distribution (could add unmodeled inhomogeneities here)\n",
    "        delta_n = self.wg.background_delta_n + self.delta_n_val*mod\n",
    "        \n",
    "        # Propagate through waveguide\n",
    "        output_beams = self.solver.run_simulation(inputs, delta_n, monitor)\n",
    "        \n",
    "        # Project output fields onto output mode basis (overlap integral with dx scaling)\n",
    "        a_out = output_beams @ self.output_modes.T * self.wg.dx\n",
    "        return a_out\n",
    "        \n",
    "    def backward_internal(self, x, mod):\n",
    "        \"\"\"Backward pass with ideal (non-misaligned) physics for gradient computation.\"\"\"\n",
    "        # Clip modulation to valid range\n",
    "        mod = mod.clip(0, 1)\n",
    "\n",
    "        # Use ideal (non-misaligned) input modes for gradient calculation\n",
    "        inputs = x.to(self.device) @ self.input_modes\n",
    "        \n",
    "        # Compute refractive index distribution\n",
    "        delta_n = self.wg.background_delta_n + self.delta_n_val*mod\n",
    "        \n",
    "        # Propagate through waveguide\n",
    "        output_beams = self.solver.run_simulation(inputs, delta_n)\n",
    "        \n",
    "        # Project output fields onto output mode basis (overlap integral with dx scaling)\n",
    "        a_out = output_beams @ self.output_modes.T * self.wg.dx\n",
    "        return a_out"
   ]
  },
  {
   "cell_type": "markdown",
   "id": "37c2d469-6943-4cf2-aa09-41f023be2400",
   "metadata": {},
   "source": [
    "## Define input and output modes"
   ]
  },
  {
   "cell_type": "code",
   "execution_count": null,
   "id": "6a214057-392e-4d38-808c-0c0d6a1bf93c",
   "metadata": {
    "execution": {
     "iopub.execute_input": "2025-09-25T21:04:13.026004Z",
     "iopub.status.busy": "2025-09-25T21:04:13.026004Z",
     "iopub.status.idle": "2025-09-25T21:04:13.034966Z",
     "shell.execute_reply": "2025-09-25T21:04:13.033437Z",
     "shell.execute_reply.started": "2025-09-25T21:04:13.026004Z"
    }
   },
   "outputs": [],
   "source": [
    "INPUT_MISALIGNMENT = 5  # Transverse misalignment of inputs in μm\n",
    "# Play around with this value to see whether the training algorithm can handle the misalignment\n",
    "# A misalignment of 20 μm does not work well anymore"
   ]
  },
  {
   "cell_type": "code",
   "execution_count": null,
   "id": "fd57035a-83db-447a-9945-cf1ad7881b6e",
   "metadata": {
    "execution": {
     "iopub.execute_input": "2025-09-25T21:04:13.063100Z",
     "iopub.status.busy": "2025-09-25T21:04:13.061866Z",
     "iopub.status.idle": "2025-09-25T21:04:13.086973Z",
     "shell.execute_reply": "2025-09-25T21:04:13.084937Z",
     "shell.execute_reply.started": "2025-09-25T21:04:13.063100Z"
    }
   },
   "outputs": [],
   "source": [
    "# Input modes: Gaussian beams evenly spaced from MODE_X_MIN to MODE_X_MAX\n",
    "INPUT_MODES = torch.vstack([gaussian_beam(X_AXIS, mu, W0) for mu in np.linspace(MODE_X_MIN, MODE_X_MAX, NMODES)])\n",
    "\n",
    "# Output modes: Hermite-Gauss modes centered at x=0\n",
    "OUTPUT_MODES = make_HG_modes(X_AXIS, x_center=0, w0=W0, n=NMODES)"
   ]
  },
  {
   "cell_type": "code",
   "execution_count": null,
   "id": "64c7a33c-69d6-4808-9631-60cbfa699fb0",
   "metadata": {
    "execution": {
     "iopub.execute_input": "2025-09-25T21:04:13.089973Z",
     "iopub.status.busy": "2025-09-25T21:04:13.088980Z",
     "iopub.status.idle": "2025-09-25T21:04:13.101405Z",
     "shell.execute_reply": "2025-09-25T21:04:13.100392Z",
     "shell.execute_reply.started": "2025-09-25T21:04:13.089973Z"
    }
   },
   "outputs": [],
   "source": [
    "# Calculate misalignment in grid indices\n",
    "INDS_MISALIGNMENT = wg.x2ind(INPUT_MISALIGNMENT) - wg.x2ind(0)\n",
    "\n",
    "# Create misaligned input modes for visualization\n",
    "input_modes_misaligned = torch.roll(INPUT_MODES, INDS_MISALIGNMENT, dims=-1)"
   ]
  },
  {
   "cell_type": "code",
   "execution_count": null,
   "id": "ca3bfd7e-9b9e-403b-b8fc-c4ce759360b8",
   "metadata": {
    "execution": {
     "iopub.execute_input": "2025-09-25T21:04:13.104526Z",
     "iopub.status.busy": "2025-09-25T21:04:13.103487Z",
     "iopub.status.idle": "2025-09-25T21:04:14.543073Z",
     "shell.execute_reply": "2025-09-25T21:04:14.542060Z",
     "shell.execute_reply.started": "2025-09-25T21:04:13.104526Z"
    }
   },
   "outputs": [],
   "source": [
    "# Plot nominal vs misaligned input modes\n",
    "plt.subplot(2, 1, 1)\n",
    "for ind_mode, mode in enumerate(INPUT_MODES):\n",
    "    plt.plot(X_AXIS, INPUT_MODES[ind_mode].cpu(), color=cm.plasma(ind_mode/NMODES), label=f\"Input {ind_mode}\")\n",
    "    plt.fill_between(X_AXIS, mode, color=cm.plasma(ind_mode/NMODES), alpha=0.5)\n",
    "    plt.plot(X_AXIS, input_modes_misaligned[ind_mode].cpu(), color=cm.plasma(ind_mode/NMODES), ls='--', label=f\"Input {ind_mode} misaligned\")\n",
    "\n",
    "plt.legend(loc='upper right')\n",
    "plt.xlabel('x (μm)')\n",
    "plt.title('Nominal vs misaligned inputs')\n",
    "plt.ylabel('Amplitude (a.u.)')\n",
    "\n",
    "# Plot output modes\n",
    "plt.subplot(2, 1, 2)\n",
    "for ind_mode, mode in enumerate(OUTPUT_MODES):\n",
    "    plt.fill_between(X_AXIS, mode.real, color=cm.plasma(ind_mode/NMODES), alpha=0.5)\n",
    "    plt.plot(X_AXIS, mode.real, color=cm.plasma(ind_mode/NMODES), label=f'Output {ind_mode}')\n",
    "\n",
    "plt.legend(loc='upper right')\n",
    "plt.xlabel('x (μm)')\n",
    "plt.ylabel('Amplitude (a.u.)')\n",
    "\n",
    "plt.tight_layout()"
   ]
  },
  {
   "cell_type": "code",
   "execution_count": null,
   "id": "b295fc0d-7aa5-4461-9e2c-a0768076de95",
   "metadata": {
    "execution": {
     "iopub.execute_input": "2025-09-25T21:04:14.546070Z",
     "iopub.status.busy": "2025-09-25T21:04:14.545073Z",
     "iopub.status.idle": "2025-09-25T21:04:14.556111Z",
     "shell.execute_reply": "2025-09-25T21:04:14.554098Z",
     "shell.execute_reply.started": "2025-09-25T21:04:14.546070Z"
    },
    "tags": []
   },
   "outputs": [],
   "source": [
    "# Define target unitary transformation: identity matrix maps each input to corresponding output\n",
    "# (input 0 → output 0, input 1 → output 1, etc.)\n",
    "U_TARGET = torch.eye(NMODES, dtype=torch.complex64, device=DEVICE)"
   ]
  },
  {
   "cell_type": "markdown",
   "id": "8ec8549c-80ec-4dc0-b11d-f395c29c7e1b",
   "metadata": {},
   "source": [
    "## Training loop"
   ]
  },
  {
   "cell_type": "code",
   "execution_count": null,
   "id": "b2ab1674-3a28-4a97-93c6-052d6ccb3067",
   "metadata": {
    "execution": {
     "iopub.execute_input": "2025-09-25T21:04:14.559880Z",
     "iopub.status.busy": "2025-09-25T21:04:14.558869Z",
     "iopub.status.idle": "2025-09-25T21:04:20.872059Z",
     "shell.execute_reply": "2025-09-25T21:04:20.870044Z",
     "shell.execute_reply.started": "2025-09-25T21:04:14.559880Z"
    }
   },
   "outputs": [],
   "source": [
    "# Initialize beam propagation method solver\n",
    "bpmsolver = BPMSplitStepSolver(X_AXIS, Z_AXIS, NEFF)\n",
    "\n",
    "# Create 2D-waveguide object with trainable index modulation (mode='pat' enables physics-aware training)\n",
    "tdwg_pnn = TDwgNet(bpmsolver, wg, DELTA_N_VAL, INPUT_MODES, OUTPUT_MODES, DEVICE, mode='pat')\n",
    "\n",
    "# Setup Adam optimizer\n",
    "optimizer = optim.Adam(tdwg_pnn.parameters(), lr=LR)\n",
    "\n",
    "# Setup learning rate scheduler with exponential decay\n",
    "scheduler = optim.lr_scheduler.ExponentialLR(optimizer, gamma=GAMMA)\n",
    "\n",
    "# Set model to training mode\n",
    "tdwg_pnn.train()"
   ]
  },
  {
   "cell_type": "code",
   "execution_count": null,
   "id": "317cfc4e-eccc-4bf3-843d-50948c9e9d6b",
   "metadata": {
    "execution": {
     "iopub.execute_input": "2025-09-25T21:04:20.876094Z",
     "iopub.status.busy": "2025-09-25T21:04:20.874566Z",
     "iopub.status.idle": "2025-09-25T21:04:45.624129Z",
     "shell.execute_reply": "2025-09-25T21:04:45.623114Z",
     "shell.execute_reply.started": "2025-09-25T21:04:20.876094Z"
    },
    "tags": []
   },
   "outputs": [],
   "source": [
    "PRINT_INTERVAL = 10  # Print loss every N iterations\n",
    "\n",
    "loss_list = []\n",
    "n = len(tdwg_pnn.input_modes)  # Number of modes\n",
    "indices = np.arange(n)  # Create array of mode indices\n",
    "# Split indices into batches for mini-batch training\n",
    "batch_indices = np.array_split(indices, np.ceil(n / BATCH_SIZE))\n",
    "\n",
    "for i in range(ITERATIONS):\n",
    "    optimizer.zero_grad()  # Reset gradients\n",
    "\n",
    "    # Loop over batches\n",
    "    for indices in batch_indices:\n",
    "        # Forward pass: compute numerical unitary for this batch\n",
    "        U_num = tdwg_pnn.forward(torch.eye(n, dtype=torch.complex64)[indices])\n",
    "        \n",
    "        # Objective loss: L2 distance between numerical and target unitary\n",
    "        l_objective = L2(U_TARGET[indices], U_num)\n",
    "\n",
    "        # Lagrangian penalty: enforce parameter bounds (limiting largest refractive index change)\n",
    "        l_lagrange = pnn_utils.lagrangian(tdwg_pnn, lag_amp=1, factor=20)\n",
    "        \n",
    "        # Total loss\n",
    "        l = l_objective + l_lagrange\n",
    "        l.backward()  # Compute gradients\n",
    "        \n",
    "    optimizer.step()  # Update parameters\n",
    "    scheduler.step()  # Decay learning rate\n",
    "    loss_list.append(l.detach().cpu().data)\n",
    "\n",
    "    # Print progress\n",
    "    if i % PRINT_INTERVAL == 0:\n",
    "        print(timestring() + f\"--Iteration: {i}, Loss: {l.detach().cpu().data:.5f}\")\n",
    "    # Early stopping commented out for demonstration\n",
    "    # if has_converged(loss_list):\n",
    "    #     print(timestring() + f\"Converged at iteration: {i}, Loss: {l.detach().cpu().data:.5f}\")\n",
    "    #     break"
   ]
  },
  {
   "cell_type": "code",
   "execution_count": null,
   "id": "cdcbab86-3343-4893-b5dc-38aa0393ef76",
   "metadata": {
    "execution": {
     "iopub.execute_input": "2025-09-25T21:04:45.628729Z",
     "iopub.status.busy": "2025-09-25T21:04:45.627720Z",
     "iopub.status.idle": "2025-09-25T21:04:46.643044Z",
     "shell.execute_reply": "2025-09-25T21:04:46.641034Z",
     "shell.execute_reply.started": "2025-09-25T21:04:45.628729Z"
    }
   },
   "outputs": [],
   "source": [
    "# Plot training loss history\n",
    "plt.plot(loss_list)\n",
    "plt.yscale('log')\n",
    "plt.xlabel('Epoch')\n",
    "plt.ylabel('Loss')"
   ]
  },
  {
   "cell_type": "code",
   "execution_count": null,
   "id": "f0ddb788-a854-4954-ad66-fe414c73bbc2",
   "metadata": {
    "execution": {
     "iopub.execute_input": "2025-09-25T21:04:46.645044Z",
     "iopub.status.busy": "2025-09-25T21:04:46.645044Z",
     "iopub.status.idle": "2025-09-25T21:04:46.732272Z",
     "shell.execute_reply": "2025-09-25T21:04:46.730749Z",
     "shell.execute_reply.started": "2025-09-25T21:04:46.645044Z"
    }
   },
   "outputs": [],
   "source": [
    "# Perform forward pass with monitor=True to store internal optical fields for visualization\n",
    "with torch.no_grad():\n",
    "    U_num_inv = tdwg_pnn.forward_internal(torch.eye(NMODES, dtype=torch.complex64), tdwg_pnn.mod, monitor=True)\n",
    "\n",
    "# Compute relative error: mean absolute difference normalized by target magnitude\n",
    "avg_error_inv = torch.mean(torch.abs(U_num_inv - U_TARGET)) / torch.mean(torch.abs(U_TARGET)) * 100\n",
    "print(f\"Average error for inverse design: {avg_error_inv:.2f}%\")"
   ]
  },
  {
   "cell_type": "markdown",
   "id": "2b556a8c-ea3a-4753-9c17-97b36efbcfb3",
   "metadata": {},
   "source": [
    "## Plot results"
   ]
  },
  {
   "cell_type": "code",
   "execution_count": null,
   "id": "fcab8871-41b8-4901-82fe-0b7bb935451d",
   "metadata": {
    "execution": {
     "iopub.execute_input": "2025-09-25T21:04:46.739864Z",
     "iopub.status.busy": "2025-09-25T21:04:46.738851Z",
     "iopub.status.idle": "2025-09-25T21:04:46.749283Z",
     "shell.execute_reply": "2025-09-25T21:04:46.748096Z",
     "shell.execute_reply.started": "2025-09-25T21:04:46.739864Z"
    }
   },
   "outputs": [],
   "source": [
    "def plot_delta_n(z_axis, x_axis, delta_n, vmax):\n",
    "    figsize_deltan = (2*3, 2*1.5*3/5)  # Figure size in inches\n",
    "    fig_main, ax = plt.subplots(figsize=figsize_deltan, dpi=200)\n",
    "    \n",
    "    # Plot refractive index: convert z to mm, take real part, transpose for (x, z) orientation\n",
    "    img = plt.pcolormesh(z_axis/1000, x_axis, np.real(delta_n.T), cmap=\"Greens\", vmax=vmax, vmin=0)\n",
    "    \n",
    "    plt.ylim(x_axis.min(), x_axis.max())\n",
    "    plt.xlabel(\"z (mm)\")\n",
    "    plt.ylabel(\"x (μm)\")\n",
    "    plt.title(r\"$\\Delta n(x, z)$\")\n",
    "    plt.colorbar()\n",
    "\n",
    "    plt.show()"
   ]
  },
  {
   "cell_type": "code",
   "execution_count": null,
   "id": "7e754fd6-eb5d-49a3-a7fa-025708be20c2",
   "metadata": {
    "execution": {
     "iopub.execute_input": "2025-09-25T21:04:46.751667Z",
     "iopub.status.busy": "2025-09-25T21:04:46.751667Z",
     "iopub.status.idle": "2025-09-25T21:04:47.316179Z",
     "shell.execute_reply": "2025-09-25T21:04:47.314654Z",
     "shell.execute_reply.started": "2025-09-25T21:04:46.751667Z"
    }
   },
   "outputs": [],
   "source": [
    "# Extract optimized refractive index: clip and scale trained modulation parameter\n",
    "delta_n_inv = DELTA_N_VAL * (torch.clip(tdwg_pnn.mod.detach().cpu(), 0., 1.))\n",
    "\n",
    "# Plot optimized refractive index distribution\n",
    "plot_delta_n(wg.z_axis, wg.x_axis, delta_n_inv, 1.5*DELTA_N_VAL)"
   ]
  },
  {
   "cell_type": "code",
   "execution_count": null,
   "id": "5a4556c1-cec2-4765-990a-bf87a4affa13",
   "metadata": {
    "execution": {
     "iopub.execute_input": "2025-09-25T21:04:47.318191Z",
     "iopub.status.busy": "2025-09-25T21:04:47.318191Z",
     "iopub.status.idle": "2025-09-25T21:04:47.327324Z",
     "shell.execute_reply": "2025-09-25T21:04:47.326308Z",
     "shell.execute_reply.started": "2025-09-25T21:04:47.318191Z"
    }
   },
   "outputs": [],
   "source": [
    "def plot_intensity(z_axis, x_axis, Imat_x):\n",
    "    figsize_deltan = (2*3, 2*1.5*3/5)  # Figure size in inches\n",
    "    fig_main, ax = plt.subplots(figsize=figsize_deltan, dpi=200)\n",
    "    \n",
    "    # Plot intensity: convert z to mm, transpose for (x, z) orientation\n",
    "    img = plt.pcolormesh(z_axis/1000, x_axis, Imat_x, cmap=\"Reds\")\n",
    "    \n",
    "    plt.ylim(x_axis.min(), x_axis.max())\n",
    "    plt.xlabel(\"z (mm)\")\n",
    "    plt.ylabel(\"x (μm)\")\n",
    "    plt.title(r\"$I(x, z)$\")\n",
    "    plt.colorbar()\n",
    "\n",
    "    plt.show()"
   ]
  },
  {
   "cell_type": "code",
   "execution_count": null,
   "id": "178fc9ad-f658-40e3-ba07-21b51316a22e",
   "metadata": {
    "execution": {
     "iopub.execute_input": "2025-09-25T21:04:47.330324Z",
     "iopub.status.busy": "2025-09-25T21:04:47.329324Z",
     "iopub.status.idle": "2025-09-25T21:04:48.385939Z",
     "shell.execute_reply": "2025-09-25T21:04:48.384350Z",
     "shell.execute_reply.started": "2025-09-25T21:04:47.329324Z"
    }
   },
   "outputs": [],
   "source": [
    "# Plot intensity evolution for mode 0\n",
    "IND = 0\n",
    "Emat_x = tdwg_pnn.solver.Emat_x[:, IND].cpu().detach()\n",
    "Imat_x = Emat_x.abs().square()  # Compute intensity: |E|²\n",
    "z_list = Z_AXIS[::tdwg_pnn.solver.Ncom]  # Downsample z-axis based on monitor interval\n",
    "plot_intensity(z_list, X_AXIS, Imat_x.T)\n",
    "\n",
    "# Plot intensity evolution for mode 1\n",
    "IND = 1\n",
    "Emat_x = tdwg_pnn.solver.Emat_x[:, IND].cpu().detach()\n",
    "Imat_x = Emat_x.abs().square()  # Compute intensity: |E|²\n",
    "z_list = Z_AXIS[::tdwg_pnn.solver.Ncom]  # Downsample z-axis based on monitor interval\n",
    "plot_intensity(z_list, X_AXIS, Imat_x.T)"
   ]
  },
  {
   "cell_type": "code",
   "execution_count": null,
   "id": "e2f9dd7c-6b09-456f-a2b5-435d4a8f154d",
   "metadata": {
    "execution": {
     "iopub.execute_input": "2025-09-25T21:04:48.389578Z",
     "iopub.status.busy": "2025-09-25T21:04:48.388324Z",
     "iopub.status.idle": "2025-09-25T21:04:48.398285Z",
     "shell.execute_reply": "2025-09-25T21:04:48.397248Z",
     "shell.execute_reply.started": "2025-09-25T21:04:48.389578Z"
    }
   },
   "outputs": [],
   "source": [
    "# Extract output field at final propagation step\n",
    "Eout_x = tdwg_pnn.solver.Emat_x[-1].cpu().detach()"
   ]
  },
  {
   "cell_type": "code",
   "execution_count": null,
   "id": "31d0da1c-1715-417a-afa2-e9d52a93a351",
   "metadata": {
    "execution": {
     "iopub.execute_input": "2025-09-25T21:04:48.401926Z",
     "iopub.status.busy": "2025-09-25T21:04:48.400419Z",
     "iopub.status.idle": "2025-09-25T21:04:48.795301Z",
     "shell.execute_reply": "2025-09-25T21:04:48.793578Z",
     "shell.execute_reply.started": "2025-09-25T21:04:48.401926Z"
    }
   },
   "outputs": [],
   "source": [
    "# Compare target output modes with achieved simulation outputs\n",
    "plt.subplot(2, 1, 2)\n",
    "for ind_mode, mode in enumerate(OUTPUT_MODES):\n",
    "    # Plot target output modes\n",
    "    plt.plot(X_AXIS, mode.real, color=cm.plasma(ind_mode/NMODES), ls='--', label=f'Target Output {ind_mode}')\n",
    "    # Plot achieved simulation outputs\n",
    "    plt.plot(X_AXIS, Eout_x[ind_mode].real, color=cm.plasma(ind_mode/NMODES), label=f'Simulation Output {ind_mode}')\n",
    "\n",
    "plt.legend(loc='upper right')\n",
    "plt.xlabel('x (μm)')\n",
    "plt.ylabel('Amplitude (a.u.)')\n",
    "\n",
    "plt.tight_layout()"
   ]
  }
 ],
 "metadata": {
  "kernelspec": {
   "display_name": "Python 3 (ipykernel)",
   "language": "python",
   "name": "python3"
  },
  "language_info": {
   "codemirror_mode": {
    "name": "ipython",
    "version": 3
   },
   "file_extension": ".py",
   "mimetype": "text/x-python",
   "name": "python",
   "nbconvert_exporter": "python",
   "pygments_lexer": "ipython3",
   "version": "3.12.7"
  }
 },
 "nbformat": 4,
 "nbformat_minor": 5
}
